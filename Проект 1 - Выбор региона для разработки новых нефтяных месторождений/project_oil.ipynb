{
 "cells": [
  {
   "cell_type": "markdown",
   "metadata": {},
   "source": [
    "# Описание проекта"
   ]
  },
  {
   "cell_type": "markdown",
   "metadata": {},
   "source": [
    "Допустим, вы работаете в добывающей компании «ГлавРосГосНефть». Нужно решить, где бурить новую скважину.\n",
    "\n",
    "Вам предоставлены пробы нефти в трёх регионах: в каждом 10 000 месторождений, где измерили качество нефти и объём её запасов. Постройте модель машинного обучения, которая поможет определить регион, где добыча принесёт наибольшую прибыль. Проанализируйте возможную прибыль и риски техникой *Bootstrap.*\n",
    "\n",
    "Шаги для выбора локации:\n",
    "\n",
    "- В избранном регионе ищут месторождения, для каждого определяют значения признаков;\n",
    "- Строят модель и оценивают объём запасов;\n",
    "- Выбирают месторождения с самым высокими оценками значений. Количество месторождений зависит от бюджета компании и стоимости разработки одной скважины;\n",
    "- Прибыль равна суммарной прибыли отобранных месторождений."
   ]
  },
  {
   "cell_type": "markdown",
   "metadata": {},
   "source": [
    "### План работы  \n",
    "  \n",
    "##### Шаг 1. Откроем, изучим и подготовим данные  \n",
    "  \n",
    "##### Шаг 2. Обучим и проверим модель для каждого региона  \n",
    "  - Разобьём данные на обучающую и валидационную выборки в соотношении 75:25\n",
    "  - Обучим модель и сделаем предсказания на валидационной выборке\n",
    "  - Сохраним предсказания и правильные ответы на валидационной выборке  \n",
    "  - Покажем средний запас предсказанного сырья и RMSE модели\n",
    "  - Проанализируем результаты  \n",
    "  \n",
    "##### Шаг 3. Подготовка к расчёту прибыли  \n",
    "  - Все ключевые значения для расчётов сохраним в отдельных переменных  \n",
    "  - Рассчитаем достаточный объём сырья для безубыточной разработки новой скважины. Сравним полученный объём сырья со средним запасом в каждом регионе  \n",
    "  - Напишем выводы по этапу подготовки расчёта прибыли  \n",
    "  \n",
    "##### Шаг 4. Напишем функцию для расчёта прибыли по выбранным скважинам и предсказаниям модели  \n",
    "  - Выберем скважины с максимальными значениями предсказаний  \n",
    "  - Просуммируем целевое значение объёма сырья, соответствующее этим предсказаниям \n",
    "  - Рассчитаем прибыль для полученного объёма сырья  \n",
    "  \n",
    "##### Шаг 5. Посчитаем риски и прибыль для каждого региона \n",
    "  - Применим технику Bootstrap с 1000 выборок, чтобы найти распределение прибыли  \n",
    "  - Найдём среднюю прибыль, 95%-й доверительный интервал и риск убытков. Убыток — это отрицательная прибыль\n",
    "  - Напишем выводы: предложим регион для разработки скважин и обоснуем выбор"
   ]
  },
  {
   "cell_type": "markdown",
   "metadata": {},
   "source": [
    "### Описание данных  \n",
    "  Данные геологоразведки трёх регионов:\n",
    "  \n",
    "id — уникальный идентификатор скважины;  \n",
    "f0, f1, f2 — три признака точек (неважно, что они означают, но сами признаки значимы);  \n",
    "product — объём запасов в скважине (тыс. баррелей).  \n",
    "  \n"
   ]
  },
  {
   "cell_type": "markdown",
   "metadata": {},
   "source": [
    "### Условия задачи: \n",
    "  \n",
    "- Для обучения модели подходит только линейная регрессия (остальные — недостаточно предсказуемые).\n",
    "- При разведке региона исследуют 500 точек, из которых с помощью машинного обучения выбирают 200 лучших для разработки.\n",
    "- Бюджет на разработку скважин в регионе — 10 млрд рублей.\n",
    "- При нынешних ценах один баррель сырья приносит 450 рублей дохода. Доход с каждой единицы продукта составляет 450 тыс. рублей, поскольку объём указан в тысячах баррелей.\n",
    "- После оценки рисков нужно оставить лишь те регионы, в которых вероятность убытков меньше 2.5%. Среди них выбирают регион с наибольшей средней прибылью."
   ]
  },
  {
   "cell_type": "markdown",
   "metadata": {},
   "source": [
    "# 1. Открытие, изучение и подготовка данных"
   ]
  },
  {
   "cell_type": "code",
   "execution_count": 1,
   "metadata": {},
   "outputs": [],
   "source": [
    "import math\n",
    "import numpy as np\n",
    "import pandas as pd\n",
    "import seaborn as sns\n",
    "import matplotlib.pyplot as plt\n",
    "from numpy.random import RandomState\n",
    "from sklearn.model_selection import train_test_split\n",
    "from sklearn.preprocessing import StandardScaler\n",
    "from sklearn.linear_model import LinearRegression\n",
    "from sklearn.metrics import mean_squared_error, r2_score, mean_absolute_error\n",
    "from sklearn.model_selection import GridSearchCV\n",
    "import warnings\n",
    "warnings.filterwarnings(\"ignore\")"
   ]
  },
  {
   "cell_type": "code",
   "execution_count": 2,
   "metadata": {},
   "outputs": [],
   "source": [
    "df0 = pd.read_csv('/datasets/geo_data_0.csv')\n",
    "df1 = pd.read_csv('/datasets/geo_data_1.csv')\n",
    "df2 = pd.read_csv('/datasets/geo_data_2.csv')"
   ]
  },
  {
   "cell_type": "code",
   "execution_count": 3,
   "metadata": {},
   "outputs": [
    {
     "name": "stdout",
     "output_type": "stream",
     "text": [
      "Размер датасета 0: (100000, 5)\n",
      "Размер датасета 1: (100000, 5)\n",
      "Размер датасета 2: (100000, 5)\n"
     ]
    }
   ],
   "source": [
    "print('Размер датасета 0:', df0.shape)\n",
    "print('Размер датасета 1:', df1.shape)\n",
    "print('Размер датасета 2:', df2.shape)"
   ]
  },
  {
   "cell_type": "markdown",
   "metadata": {},
   "source": [
    "#### Изучим датасеты"
   ]
  },
  {
   "cell_type": "code",
   "execution_count": 4,
   "metadata": {
    "scrolled": true
   },
   "outputs": [
    {
     "name": "stdout",
     "output_type": "stream",
     "text": [
      "<class 'pandas.core.frame.DataFrame'>\n",
      "RangeIndex: 100000 entries, 0 to 99999\n",
      "Data columns (total 5 columns):\n",
      "id         100000 non-null object\n",
      "f0         100000 non-null float64\n",
      "f1         100000 non-null float64\n",
      "f2         100000 non-null float64\n",
      "product    100000 non-null float64\n",
      "dtypes: float64(4), object(1)\n",
      "memory usage: 3.8+ MB\n"
     ]
    }
   ],
   "source": [
    "df0.info()"
   ]
  },
  {
   "cell_type": "code",
   "execution_count": 5,
   "metadata": {
    "scrolled": true
   },
   "outputs": [
    {
     "name": "stdout",
     "output_type": "stream",
     "text": [
      "<class 'pandas.core.frame.DataFrame'>\n",
      "RangeIndex: 100000 entries, 0 to 99999\n",
      "Data columns (total 5 columns):\n",
      "id         100000 non-null object\n",
      "f0         100000 non-null float64\n",
      "f1         100000 non-null float64\n",
      "f2         100000 non-null float64\n",
      "product    100000 non-null float64\n",
      "dtypes: float64(4), object(1)\n",
      "memory usage: 3.8+ MB\n"
     ]
    }
   ],
   "source": [
    "df1.info()"
   ]
  },
  {
   "cell_type": "code",
   "execution_count": 6,
   "metadata": {
    "scrolled": true
   },
   "outputs": [
    {
     "name": "stdout",
     "output_type": "stream",
     "text": [
      "<class 'pandas.core.frame.DataFrame'>\n",
      "RangeIndex: 100000 entries, 0 to 99999\n",
      "Data columns (total 5 columns):\n",
      "id         100000 non-null object\n",
      "f0         100000 non-null float64\n",
      "f1         100000 non-null float64\n",
      "f2         100000 non-null float64\n",
      "product    100000 non-null float64\n",
      "dtypes: float64(4), object(1)\n",
      "memory usage: 3.8+ MB\n"
     ]
    }
   ],
   "source": [
    "df2.info()"
   ]
  },
  {
   "cell_type": "markdown",
   "metadata": {},
   "source": [
    "Пропусков в данных нет."
   ]
  },
  {
   "cell_type": "code",
   "execution_count": 7,
   "metadata": {
    "scrolled": false
   },
   "outputs": [
    {
     "data": {
      "text/html": [
       "<div>\n",
       "<style scoped>\n",
       "    .dataframe tbody tr th:only-of-type {\n",
       "        vertical-align: middle;\n",
       "    }\n",
       "\n",
       "    .dataframe tbody tr th {\n",
       "        vertical-align: top;\n",
       "    }\n",
       "\n",
       "    .dataframe thead th {\n",
       "        text-align: right;\n",
       "    }\n",
       "</style>\n",
       "<table border=\"1\" class=\"dataframe\">\n",
       "  <thead>\n",
       "    <tr style=\"text-align: right;\">\n",
       "      <th></th>\n",
       "      <th>f0</th>\n",
       "      <th>f1</th>\n",
       "      <th>f2</th>\n",
       "      <th>product</th>\n",
       "    </tr>\n",
       "  </thead>\n",
       "  <tbody>\n",
       "    <tr>\n",
       "      <td>count</td>\n",
       "      <td>100000.000000</td>\n",
       "      <td>100000.000000</td>\n",
       "      <td>100000.000000</td>\n",
       "      <td>100000.000000</td>\n",
       "    </tr>\n",
       "    <tr>\n",
       "      <td>mean</td>\n",
       "      <td>0.500419</td>\n",
       "      <td>0.250143</td>\n",
       "      <td>2.502647</td>\n",
       "      <td>92.500000</td>\n",
       "    </tr>\n",
       "    <tr>\n",
       "      <td>std</td>\n",
       "      <td>0.871832</td>\n",
       "      <td>0.504433</td>\n",
       "      <td>3.248248</td>\n",
       "      <td>44.288691</td>\n",
       "    </tr>\n",
       "    <tr>\n",
       "      <td>min</td>\n",
       "      <td>-1.408605</td>\n",
       "      <td>-0.848218</td>\n",
       "      <td>-12.088328</td>\n",
       "      <td>0.000000</td>\n",
       "    </tr>\n",
       "    <tr>\n",
       "      <td>25%</td>\n",
       "      <td>-0.072580</td>\n",
       "      <td>-0.200881</td>\n",
       "      <td>0.287748</td>\n",
       "      <td>56.497507</td>\n",
       "    </tr>\n",
       "    <tr>\n",
       "      <td>50%</td>\n",
       "      <td>0.502360</td>\n",
       "      <td>0.250252</td>\n",
       "      <td>2.515969</td>\n",
       "      <td>91.849972</td>\n",
       "    </tr>\n",
       "    <tr>\n",
       "      <td>75%</td>\n",
       "      <td>1.073581</td>\n",
       "      <td>0.700646</td>\n",
       "      <td>4.715088</td>\n",
       "      <td>128.564089</td>\n",
       "    </tr>\n",
       "    <tr>\n",
       "      <td>max</td>\n",
       "      <td>2.362331</td>\n",
       "      <td>1.343769</td>\n",
       "      <td>16.003790</td>\n",
       "      <td>185.364347</td>\n",
       "    </tr>\n",
       "  </tbody>\n",
       "</table>\n",
       "</div>"
      ],
      "text/plain": [
       "                  f0             f1             f2        product\n",
       "count  100000.000000  100000.000000  100000.000000  100000.000000\n",
       "mean        0.500419       0.250143       2.502647      92.500000\n",
       "std         0.871832       0.504433       3.248248      44.288691\n",
       "min        -1.408605      -0.848218     -12.088328       0.000000\n",
       "25%        -0.072580      -0.200881       0.287748      56.497507\n",
       "50%         0.502360       0.250252       2.515969      91.849972\n",
       "75%         1.073581       0.700646       4.715088     128.564089\n",
       "max         2.362331       1.343769      16.003790     185.364347"
      ]
     },
     "execution_count": 7,
     "metadata": {},
     "output_type": "execute_result"
    }
   ],
   "source": [
    "df0.describe()"
   ]
  },
  {
   "cell_type": "markdown",
   "metadata": {},
   "source": [
    "Во всех колонках медиана почти равна среднему, что может говорить о нормальном распределении данных, посмотрим далее по графикам."
   ]
  },
  {
   "cell_type": "code",
   "execution_count": 8,
   "metadata": {
    "scrolled": false
   },
   "outputs": [
    {
     "data": {
      "text/html": [
       "<div>\n",
       "<style scoped>\n",
       "    .dataframe tbody tr th:only-of-type {\n",
       "        vertical-align: middle;\n",
       "    }\n",
       "\n",
       "    .dataframe tbody tr th {\n",
       "        vertical-align: top;\n",
       "    }\n",
       "\n",
       "    .dataframe thead th {\n",
       "        text-align: right;\n",
       "    }\n",
       "</style>\n",
       "<table border=\"1\" class=\"dataframe\">\n",
       "  <thead>\n",
       "    <tr style=\"text-align: right;\">\n",
       "      <th></th>\n",
       "      <th>f0</th>\n",
       "      <th>f1</th>\n",
       "      <th>f2</th>\n",
       "      <th>product</th>\n",
       "    </tr>\n",
       "  </thead>\n",
       "  <tbody>\n",
       "    <tr>\n",
       "      <td>count</td>\n",
       "      <td>100000.000000</td>\n",
       "      <td>100000.000000</td>\n",
       "      <td>100000.000000</td>\n",
       "      <td>100000.000000</td>\n",
       "    </tr>\n",
       "    <tr>\n",
       "      <td>mean</td>\n",
       "      <td>1.141296</td>\n",
       "      <td>-4.796579</td>\n",
       "      <td>2.494541</td>\n",
       "      <td>68.825000</td>\n",
       "    </tr>\n",
       "    <tr>\n",
       "      <td>std</td>\n",
       "      <td>8.965932</td>\n",
       "      <td>5.119872</td>\n",
       "      <td>1.703572</td>\n",
       "      <td>45.944423</td>\n",
       "    </tr>\n",
       "    <tr>\n",
       "      <td>min</td>\n",
       "      <td>-31.609576</td>\n",
       "      <td>-26.358598</td>\n",
       "      <td>-0.018144</td>\n",
       "      <td>0.000000</td>\n",
       "    </tr>\n",
       "    <tr>\n",
       "      <td>25%</td>\n",
       "      <td>-6.298551</td>\n",
       "      <td>-8.267985</td>\n",
       "      <td>1.000021</td>\n",
       "      <td>26.953261</td>\n",
       "    </tr>\n",
       "    <tr>\n",
       "      <td>50%</td>\n",
       "      <td>1.153055</td>\n",
       "      <td>-4.813172</td>\n",
       "      <td>2.011479</td>\n",
       "      <td>57.085625</td>\n",
       "    </tr>\n",
       "    <tr>\n",
       "      <td>75%</td>\n",
       "      <td>8.621015</td>\n",
       "      <td>-1.332816</td>\n",
       "      <td>3.999904</td>\n",
       "      <td>107.813044</td>\n",
       "    </tr>\n",
       "    <tr>\n",
       "      <td>max</td>\n",
       "      <td>29.421755</td>\n",
       "      <td>18.734063</td>\n",
       "      <td>5.019721</td>\n",
       "      <td>137.945408</td>\n",
       "    </tr>\n",
       "  </tbody>\n",
       "</table>\n",
       "</div>"
      ],
      "text/plain": [
       "                  f0             f1             f2        product\n",
       "count  100000.000000  100000.000000  100000.000000  100000.000000\n",
       "mean        1.141296      -4.796579       2.494541      68.825000\n",
       "std         8.965932       5.119872       1.703572      45.944423\n",
       "min       -31.609576     -26.358598      -0.018144       0.000000\n",
       "25%        -6.298551      -8.267985       1.000021      26.953261\n",
       "50%         1.153055      -4.813172       2.011479      57.085625\n",
       "75%         8.621015      -1.332816       3.999904     107.813044\n",
       "max        29.421755      18.734063       5.019721     137.945408"
      ]
     },
     "execution_count": 8,
     "metadata": {},
     "output_type": "execute_result"
    }
   ],
   "source": [
    "df1.describe()"
   ]
  },
  {
   "cell_type": "markdown",
   "metadata": {},
   "source": [
    "В колонках 'f0' и 'f1' медиана почти равна среднему, в 'f2' и 'product' среднее больше медианы что может говорить о скошенности данных вправо."
   ]
  },
  {
   "cell_type": "code",
   "execution_count": 9,
   "metadata": {
    "scrolled": false
   },
   "outputs": [
    {
     "data": {
      "text/html": [
       "<div>\n",
       "<style scoped>\n",
       "    .dataframe tbody tr th:only-of-type {\n",
       "        vertical-align: middle;\n",
       "    }\n",
       "\n",
       "    .dataframe tbody tr th {\n",
       "        vertical-align: top;\n",
       "    }\n",
       "\n",
       "    .dataframe thead th {\n",
       "        text-align: right;\n",
       "    }\n",
       "</style>\n",
       "<table border=\"1\" class=\"dataframe\">\n",
       "  <thead>\n",
       "    <tr style=\"text-align: right;\">\n",
       "      <th></th>\n",
       "      <th>f0</th>\n",
       "      <th>f1</th>\n",
       "      <th>f2</th>\n",
       "      <th>product</th>\n",
       "    </tr>\n",
       "  </thead>\n",
       "  <tbody>\n",
       "    <tr>\n",
       "      <td>count</td>\n",
       "      <td>100000.000000</td>\n",
       "      <td>100000.000000</td>\n",
       "      <td>100000.000000</td>\n",
       "      <td>100000.000000</td>\n",
       "    </tr>\n",
       "    <tr>\n",
       "      <td>mean</td>\n",
       "      <td>0.002023</td>\n",
       "      <td>-0.002081</td>\n",
       "      <td>2.495128</td>\n",
       "      <td>95.000000</td>\n",
       "    </tr>\n",
       "    <tr>\n",
       "      <td>std</td>\n",
       "      <td>1.732045</td>\n",
       "      <td>1.730417</td>\n",
       "      <td>3.473445</td>\n",
       "      <td>44.749921</td>\n",
       "    </tr>\n",
       "    <tr>\n",
       "      <td>min</td>\n",
       "      <td>-8.760004</td>\n",
       "      <td>-7.084020</td>\n",
       "      <td>-11.970335</td>\n",
       "      <td>0.000000</td>\n",
       "    </tr>\n",
       "    <tr>\n",
       "      <td>25%</td>\n",
       "      <td>-1.162288</td>\n",
       "      <td>-1.174820</td>\n",
       "      <td>0.130359</td>\n",
       "      <td>59.450441</td>\n",
       "    </tr>\n",
       "    <tr>\n",
       "      <td>50%</td>\n",
       "      <td>0.009424</td>\n",
       "      <td>-0.009482</td>\n",
       "      <td>2.484236</td>\n",
       "      <td>94.925613</td>\n",
       "    </tr>\n",
       "    <tr>\n",
       "      <td>75%</td>\n",
       "      <td>1.158535</td>\n",
       "      <td>1.163678</td>\n",
       "      <td>4.858794</td>\n",
       "      <td>130.595027</td>\n",
       "    </tr>\n",
       "    <tr>\n",
       "      <td>max</td>\n",
       "      <td>7.238262</td>\n",
       "      <td>7.844801</td>\n",
       "      <td>16.739402</td>\n",
       "      <td>190.029838</td>\n",
       "    </tr>\n",
       "  </tbody>\n",
       "</table>\n",
       "</div>"
      ],
      "text/plain": [
       "                  f0             f1             f2        product\n",
       "count  100000.000000  100000.000000  100000.000000  100000.000000\n",
       "mean        0.002023      -0.002081       2.495128      95.000000\n",
       "std         1.732045       1.730417       3.473445      44.749921\n",
       "min        -8.760004      -7.084020     -11.970335       0.000000\n",
       "25%        -1.162288      -1.174820       0.130359      59.450441\n",
       "50%         0.009424      -0.009482       2.484236      94.925613\n",
       "75%         1.158535       1.163678       4.858794     130.595027\n",
       "max         7.238262       7.844801      16.739402     190.029838"
      ]
     },
     "execution_count": 9,
     "metadata": {},
     "output_type": "execute_result"
    }
   ],
   "source": [
    "df2.describe()"
   ]
  },
  {
   "cell_type": "markdown",
   "metadata": {},
   "source": [
    "Данные в 'f0' и 'f1' похожи между собой. Медиана и средняя близки к нулю, почти такие же только с обратным знаком.  \n",
    "В 'f2' и 'product' медиана почти равна среднему, что может говорить о нормальном распределении данных.  "
   ]
  },
  {
   "cell_type": "markdown",
   "metadata": {},
   "source": [
    "Признаки значимы, но неизвестно что они обозначают, поэтому сложно понять нормален ли разброс значений в колонках"
   ]
  },
  {
   "cell_type": "code",
   "execution_count": 10,
   "metadata": {
    "scrolled": false
   },
   "outputs": [
    {
     "data": {
      "text/html": [
       "<div>\n",
       "<style scoped>\n",
       "    .dataframe tbody tr th:only-of-type {\n",
       "        vertical-align: middle;\n",
       "    }\n",
       "\n",
       "    .dataframe tbody tr th {\n",
       "        vertical-align: top;\n",
       "    }\n",
       "\n",
       "    .dataframe thead th {\n",
       "        text-align: right;\n",
       "    }\n",
       "</style>\n",
       "<table border=\"1\" class=\"dataframe\">\n",
       "  <thead>\n",
       "    <tr style=\"text-align: right;\">\n",
       "      <th></th>\n",
       "      <th>id</th>\n",
       "      <th>f0</th>\n",
       "      <th>f1</th>\n",
       "      <th>f2</th>\n",
       "      <th>product</th>\n",
       "    </tr>\n",
       "  </thead>\n",
       "  <tbody>\n",
       "    <tr>\n",
       "      <td>0</td>\n",
       "      <td>txEyH</td>\n",
       "      <td>0.705745</td>\n",
       "      <td>-0.497823</td>\n",
       "      <td>1.221170</td>\n",
       "      <td>105.280062</td>\n",
       "    </tr>\n",
       "    <tr>\n",
       "      <td>1</td>\n",
       "      <td>2acmU</td>\n",
       "      <td>1.334711</td>\n",
       "      <td>-0.340164</td>\n",
       "      <td>4.365080</td>\n",
       "      <td>73.037750</td>\n",
       "    </tr>\n",
       "    <tr>\n",
       "      <td>2</td>\n",
       "      <td>409Wp</td>\n",
       "      <td>1.022732</td>\n",
       "      <td>0.151990</td>\n",
       "      <td>1.419926</td>\n",
       "      <td>85.265647</td>\n",
       "    </tr>\n",
       "    <tr>\n",
       "      <td>3</td>\n",
       "      <td>iJLyR</td>\n",
       "      <td>-0.032172</td>\n",
       "      <td>0.139033</td>\n",
       "      <td>2.978566</td>\n",
       "      <td>168.620776</td>\n",
       "    </tr>\n",
       "    <tr>\n",
       "      <td>4</td>\n",
       "      <td>Xdl7t</td>\n",
       "      <td>1.988431</td>\n",
       "      <td>0.155413</td>\n",
       "      <td>4.751769</td>\n",
       "      <td>154.036647</td>\n",
       "    </tr>\n",
       "  </tbody>\n",
       "</table>\n",
       "</div>"
      ],
      "text/plain": [
       "      id        f0        f1        f2     product\n",
       "0  txEyH  0.705745 -0.497823  1.221170  105.280062\n",
       "1  2acmU  1.334711 -0.340164  4.365080   73.037750\n",
       "2  409Wp  1.022732  0.151990  1.419926   85.265647\n",
       "3  iJLyR -0.032172  0.139033  2.978566  168.620776\n",
       "4  Xdl7t  1.988431  0.155413  4.751769  154.036647"
      ]
     },
     "execution_count": 10,
     "metadata": {},
     "output_type": "execute_result"
    }
   ],
   "source": [
    "df0.head()"
   ]
  },
  {
   "cell_type": "code",
   "execution_count": 11,
   "metadata": {
    "scrolled": false
   },
   "outputs": [
    {
     "data": {
      "text/html": [
       "<div>\n",
       "<style scoped>\n",
       "    .dataframe tbody tr th:only-of-type {\n",
       "        vertical-align: middle;\n",
       "    }\n",
       "\n",
       "    .dataframe tbody tr th {\n",
       "        vertical-align: top;\n",
       "    }\n",
       "\n",
       "    .dataframe thead th {\n",
       "        text-align: right;\n",
       "    }\n",
       "</style>\n",
       "<table border=\"1\" class=\"dataframe\">\n",
       "  <thead>\n",
       "    <tr style=\"text-align: right;\">\n",
       "      <th></th>\n",
       "      <th>id</th>\n",
       "      <th>f0</th>\n",
       "      <th>f1</th>\n",
       "      <th>f2</th>\n",
       "      <th>product</th>\n",
       "    </tr>\n",
       "  </thead>\n",
       "  <tbody>\n",
       "    <tr>\n",
       "      <td>0</td>\n",
       "      <td>kBEdx</td>\n",
       "      <td>-15.001348</td>\n",
       "      <td>-8.276000</td>\n",
       "      <td>-0.005876</td>\n",
       "      <td>3.179103</td>\n",
       "    </tr>\n",
       "    <tr>\n",
       "      <td>1</td>\n",
       "      <td>62mP7</td>\n",
       "      <td>14.272088</td>\n",
       "      <td>-3.475083</td>\n",
       "      <td>0.999183</td>\n",
       "      <td>26.953261</td>\n",
       "    </tr>\n",
       "    <tr>\n",
       "      <td>2</td>\n",
       "      <td>vyE1P</td>\n",
       "      <td>6.263187</td>\n",
       "      <td>-5.948386</td>\n",
       "      <td>5.001160</td>\n",
       "      <td>134.766305</td>\n",
       "    </tr>\n",
       "    <tr>\n",
       "      <td>3</td>\n",
       "      <td>KcrkZ</td>\n",
       "      <td>-13.081196</td>\n",
       "      <td>-11.506057</td>\n",
       "      <td>4.999415</td>\n",
       "      <td>137.945408</td>\n",
       "    </tr>\n",
       "    <tr>\n",
       "      <td>4</td>\n",
       "      <td>AHL4O</td>\n",
       "      <td>12.702195</td>\n",
       "      <td>-8.147433</td>\n",
       "      <td>5.004363</td>\n",
       "      <td>134.766305</td>\n",
       "    </tr>\n",
       "  </tbody>\n",
       "</table>\n",
       "</div>"
      ],
      "text/plain": [
       "      id         f0         f1        f2     product\n",
       "0  kBEdx -15.001348  -8.276000 -0.005876    3.179103\n",
       "1  62mP7  14.272088  -3.475083  0.999183   26.953261\n",
       "2  vyE1P   6.263187  -5.948386  5.001160  134.766305\n",
       "3  KcrkZ -13.081196 -11.506057  4.999415  137.945408\n",
       "4  AHL4O  12.702195  -8.147433  5.004363  134.766305"
      ]
     },
     "execution_count": 11,
     "metadata": {},
     "output_type": "execute_result"
    }
   ],
   "source": [
    "df1.head()"
   ]
  },
  {
   "cell_type": "code",
   "execution_count": 12,
   "metadata": {
    "scrolled": false
   },
   "outputs": [
    {
     "data": {
      "text/html": [
       "<div>\n",
       "<style scoped>\n",
       "    .dataframe tbody tr th:only-of-type {\n",
       "        vertical-align: middle;\n",
       "    }\n",
       "\n",
       "    .dataframe tbody tr th {\n",
       "        vertical-align: top;\n",
       "    }\n",
       "\n",
       "    .dataframe thead th {\n",
       "        text-align: right;\n",
       "    }\n",
       "</style>\n",
       "<table border=\"1\" class=\"dataframe\">\n",
       "  <thead>\n",
       "    <tr style=\"text-align: right;\">\n",
       "      <th></th>\n",
       "      <th>id</th>\n",
       "      <th>f0</th>\n",
       "      <th>f1</th>\n",
       "      <th>f2</th>\n",
       "      <th>product</th>\n",
       "    </tr>\n",
       "  </thead>\n",
       "  <tbody>\n",
       "    <tr>\n",
       "      <td>0</td>\n",
       "      <td>fwXo0</td>\n",
       "      <td>-1.146987</td>\n",
       "      <td>0.963328</td>\n",
       "      <td>-0.828965</td>\n",
       "      <td>27.758673</td>\n",
       "    </tr>\n",
       "    <tr>\n",
       "      <td>1</td>\n",
       "      <td>WJtFt</td>\n",
       "      <td>0.262778</td>\n",
       "      <td>0.269839</td>\n",
       "      <td>-2.530187</td>\n",
       "      <td>56.069697</td>\n",
       "    </tr>\n",
       "    <tr>\n",
       "      <td>2</td>\n",
       "      <td>ovLUW</td>\n",
       "      <td>0.194587</td>\n",
       "      <td>0.289035</td>\n",
       "      <td>-5.586433</td>\n",
       "      <td>62.871910</td>\n",
       "    </tr>\n",
       "    <tr>\n",
       "      <td>3</td>\n",
       "      <td>q6cA6</td>\n",
       "      <td>2.236060</td>\n",
       "      <td>-0.553760</td>\n",
       "      <td>0.930038</td>\n",
       "      <td>114.572842</td>\n",
       "    </tr>\n",
       "    <tr>\n",
       "      <td>4</td>\n",
       "      <td>WPMUX</td>\n",
       "      <td>-0.515993</td>\n",
       "      <td>1.716266</td>\n",
       "      <td>5.899011</td>\n",
       "      <td>149.600746</td>\n",
       "    </tr>\n",
       "  </tbody>\n",
       "</table>\n",
       "</div>"
      ],
      "text/plain": [
       "      id        f0        f1        f2     product\n",
       "0  fwXo0 -1.146987  0.963328 -0.828965   27.758673\n",
       "1  WJtFt  0.262778  0.269839 -2.530187   56.069697\n",
       "2  ovLUW  0.194587  0.289035 -5.586433   62.871910\n",
       "3  q6cA6  2.236060 -0.553760  0.930038  114.572842\n",
       "4  WPMUX -0.515993  1.716266  5.899011  149.600746"
      ]
     },
     "execution_count": 12,
     "metadata": {},
     "output_type": "execute_result"
    }
   ],
   "source": [
    "df2.head()"
   ]
  },
  {
   "cell_type": "code",
   "execution_count": 13,
   "metadata": {
    "scrolled": true
   },
   "outputs": [
    {
     "data": {
      "text/plain": [
       "0"
      ]
     },
     "execution_count": 13,
     "metadata": {},
     "output_type": "execute_result"
    }
   ],
   "source": [
    "#проверим данные на наличие дубликатов.\n",
    "df0.duplicated().sum()"
   ]
  },
  {
   "cell_type": "code",
   "execution_count": 14,
   "metadata": {
    "scrolled": true
   },
   "outputs": [
    {
     "data": {
      "text/plain": [
       "0"
      ]
     },
     "execution_count": 14,
     "metadata": {},
     "output_type": "execute_result"
    }
   ],
   "source": [
    "df1.duplicated().sum()"
   ]
  },
  {
   "cell_type": "code",
   "execution_count": 15,
   "metadata": {
    "scrolled": true
   },
   "outputs": [
    {
     "data": {
      "text/plain": [
       "0"
      ]
     },
     "execution_count": 15,
     "metadata": {},
     "output_type": "execute_result"
    }
   ],
   "source": [
    "df2.duplicated().sum()"
   ]
  },
  {
   "cell_type": "code",
   "execution_count": 16,
   "metadata": {},
   "outputs": [
    {
     "data": {
      "text/plain": [
       "id          99990\n",
       "f0         100000\n",
       "f1         100000\n",
       "f2         100000\n",
       "product    100000\n",
       "dtype: int64"
      ]
     },
     "execution_count": 16,
     "metadata": {},
     "output_type": "execute_result"
    }
   ],
   "source": [
    "#проверим данные на наличие уникальность.\n",
    "df0.nunique()"
   ]
  },
  {
   "cell_type": "code",
   "execution_count": 17,
   "metadata": {},
   "outputs": [
    {
     "data": {
      "text/plain": [
       "id          99996\n",
       "f0         100000\n",
       "f1         100000\n",
       "f2         100000\n",
       "product        12\n",
       "dtype: int64"
      ]
     },
     "execution_count": 17,
     "metadata": {},
     "output_type": "execute_result"
    }
   ],
   "source": [
    "df1.nunique()"
   ]
  },
  {
   "cell_type": "code",
   "execution_count": 18,
   "metadata": {},
   "outputs": [
    {
     "data": {
      "text/plain": [
       "53.906522     8472\n",
       "26.953261     8468\n",
       "84.038886     8431\n",
       "57.085625     8390\n",
       "3.179103      8337\n",
       "80.859783     8320\n",
       "30.132364     8306\n",
       "134.766305    8304\n",
       "110.992147    8303\n",
       "0.000000      8235\n",
       "137.945408    8233\n",
       "107.813044    8201\n",
       "Name: product, dtype: int64"
      ]
     },
     "execution_count": 18,
     "metadata": {},
     "output_type": "execute_result"
    }
   ],
   "source": [
    "df1['product'].value_counts()"
   ]
  },
  {
   "cell_type": "markdown",
   "metadata": {},
   "source": [
    "Странная ситуация, только 12 уникальных значений. Как будто это 12 скважин, но id почти все разные. Раз данные синтетические, видимо получены с помощью какого-то алгоритма. Посмотрим как эти данные покажут себя при дальнейшем анализе."
   ]
  },
  {
   "cell_type": "code",
   "execution_count": 19,
   "metadata": {},
   "outputs": [
    {
     "data": {
      "text/plain": [
       "id          99996\n",
       "f0         100000\n",
       "f1         100000\n",
       "f2         100000\n",
       "product    100000\n",
       "dtype: int64"
      ]
     },
     "execution_count": 19,
     "metadata": {},
     "output_type": "execute_result"
    }
   ],
   "source": [
    "df2.nunique()"
   ]
  },
  {
   "cell_type": "markdown",
   "metadata": {},
   "source": [
    "Есть несколько неуникальных id, но признаки у них разные, возможно проводились какие-то измерения у одних и тех же скважин."
   ]
  },
  {
   "cell_type": "markdown",
   "metadata": {},
   "source": [
    "Дубликатов в данных нет."
   ]
  },
  {
   "cell_type": "code",
   "execution_count": 20,
   "metadata": {},
   "outputs": [],
   "source": [
    "#Построим графики чтобы посмотреть на распределение\n",
    "def dist_and_box(df,col):\n",
    "    global title\n",
    "    fig, axs = plt.subplots(ncols=2,figsize=(20,5))\n",
    "    sns.set(font_scale=1.10)\n",
    "    distplot = sns.distplot(df[col],ax=axs[0]).set_title(f'DataFrame №{title}',fontsize=20);\n",
    "    sns.boxplot(df[col], ax=axs[1]).set_title(f'DataFrame №{title}',fontsize=20);  "
   ]
  },
  {
   "cell_type": "markdown",
   "metadata": {},
   "source": [
    "## Исследуем данные на графиках"
   ]
  },
  {
   "cell_type": "markdown",
   "metadata": {},
   "source": [
    "### Датасет №0"
   ]
  },
  {
   "cell_type": "code",
   "execution_count": 21,
   "metadata": {},
   "outputs": [],
   "source": [
    "df = df0\n",
    "title = '0'"
   ]
  },
  {
   "cell_type": "code",
   "execution_count": 22,
   "metadata": {
    "scrolled": false
   },
   "outputs": [
    {
     "data": {
      "text/html": [
       "<div>\n",
       "<style scoped>\n",
       "    .dataframe tbody tr th:only-of-type {\n",
       "        vertical-align: middle;\n",
       "    }\n",
       "\n",
       "    .dataframe tbody tr th {\n",
       "        vertical-align: top;\n",
       "    }\n",
       "\n",
       "    .dataframe thead th {\n",
       "        text-align: right;\n",
       "    }\n",
       "</style>\n",
       "<table border=\"1\" class=\"dataframe\">\n",
       "  <thead>\n",
       "    <tr style=\"text-align: right;\">\n",
       "      <th></th>\n",
       "      <th>f0</th>\n",
       "      <th>f1</th>\n",
       "      <th>f2</th>\n",
       "      <th>product</th>\n",
       "    </tr>\n",
       "  </thead>\n",
       "  <tbody>\n",
       "    <tr>\n",
       "      <td>count</td>\n",
       "      <td>100000.000000</td>\n",
       "      <td>100000.000000</td>\n",
       "      <td>100000.000000</td>\n",
       "      <td>100000.000000</td>\n",
       "    </tr>\n",
       "    <tr>\n",
       "      <td>mean</td>\n",
       "      <td>0.500419</td>\n",
       "      <td>0.250143</td>\n",
       "      <td>2.502647</td>\n",
       "      <td>92.500000</td>\n",
       "    </tr>\n",
       "    <tr>\n",
       "      <td>std</td>\n",
       "      <td>0.871832</td>\n",
       "      <td>0.504433</td>\n",
       "      <td>3.248248</td>\n",
       "      <td>44.288691</td>\n",
       "    </tr>\n",
       "    <tr>\n",
       "      <td>min</td>\n",
       "      <td>-1.408605</td>\n",
       "      <td>-0.848218</td>\n",
       "      <td>-12.088328</td>\n",
       "      <td>0.000000</td>\n",
       "    </tr>\n",
       "    <tr>\n",
       "      <td>25%</td>\n",
       "      <td>-0.072580</td>\n",
       "      <td>-0.200881</td>\n",
       "      <td>0.287748</td>\n",
       "      <td>56.497507</td>\n",
       "    </tr>\n",
       "    <tr>\n",
       "      <td>50%</td>\n",
       "      <td>0.502360</td>\n",
       "      <td>0.250252</td>\n",
       "      <td>2.515969</td>\n",
       "      <td>91.849972</td>\n",
       "    </tr>\n",
       "    <tr>\n",
       "      <td>75%</td>\n",
       "      <td>1.073581</td>\n",
       "      <td>0.700646</td>\n",
       "      <td>4.715088</td>\n",
       "      <td>128.564089</td>\n",
       "    </tr>\n",
       "    <tr>\n",
       "      <td>max</td>\n",
       "      <td>2.362331</td>\n",
       "      <td>1.343769</td>\n",
       "      <td>16.003790</td>\n",
       "      <td>185.364347</td>\n",
       "    </tr>\n",
       "  </tbody>\n",
       "</table>\n",
       "</div>"
      ],
      "text/plain": [
       "                  f0             f1             f2        product\n",
       "count  100000.000000  100000.000000  100000.000000  100000.000000\n",
       "mean        0.500419       0.250143       2.502647      92.500000\n",
       "std         0.871832       0.504433       3.248248      44.288691\n",
       "min        -1.408605      -0.848218     -12.088328       0.000000\n",
       "25%        -0.072580      -0.200881       0.287748      56.497507\n",
       "50%         0.502360       0.250252       2.515969      91.849972\n",
       "75%         1.073581       0.700646       4.715088     128.564089\n",
       "max         2.362331       1.343769      16.003790     185.364347"
      ]
     },
     "execution_count": 22,
     "metadata": {},
     "output_type": "execute_result"
    }
   ],
   "source": [
    "# приведем таблицу для наглядности еще раз\n",
    "df.describe()"
   ]
  },
  {
   "cell_type": "code",
   "execution_count": 23,
   "metadata": {
    "scrolled": true
   },
   "outputs": [
    {
     "data": {
      "image/png": "[encoded data removed]",
      "text/plain": [
       "<Figure size 1440x360 with 2 Axes>"
      ]
     },
     "metadata": {
      "needs_background": "light"
     },
     "output_type": "display_data"
    }
   ],
   "source": [
    "dist_and_box(df,'f0')"
   ]
  },
  {
   "cell_type": "markdown",
   "metadata": {},
   "source": [
    "Первый признак \"f0\" имеет 4 пика. Пики в районе -1, 0, 1 и 2. Медиана 0.5"
   ]
  },
  {
   "cell_type": "code",
   "execution_count": 24,
   "metadata": {},
   "outputs": [
    {
     "data": {
      "image/png": "[encoded data removed]",
      "text/plain": [
       "<Figure size 1440x360 with 2 Axes>"
      ]
     },
     "metadata": {},
     "output_type": "display_data"
    }
   ],
   "source": [
    "dist_and_box(df,'f1')"
   ]
  },
  {
   "cell_type": "markdown",
   "metadata": {},
   "source": [
    "Второй признак \"f1\" имеет 3 пика. Пики в районе -0.5, 0.25, и 1. Медиана 0.25"
   ]
  },
  {
   "cell_type": "code",
   "execution_count": 25,
   "metadata": {},
   "outputs": [
    {
     "data": {
      "image/png": "[encoded data removed]",
      "text/plain": [
       "<Figure size 1440x360 with 2 Axes>"
      ]
     },
     "metadata": {},
     "output_type": "display_data"
    }
   ],
   "source": [
    "dist_and_box(df,'f2')"
   ]
  },
  {
   "cell_type": "markdown",
   "metadata": {},
   "source": [
    "Столбец \"f2\" имеет нормальное распределение с медианой 2.5. И так же наблюдаются выбросы. "
   ]
  },
  {
   "cell_type": "code",
   "execution_count": 26,
   "metadata": {},
   "outputs": [
    {
     "data": {
      "image/png": "[encoded data removed]",
      "text/plain": [
       "<Figure size 1440x360 with 2 Axes>"
      ]
     },
     "metadata": {},
     "output_type": "display_data"
    }
   ],
   "source": [
    "dist_and_box(df,'product')"
   ]
  },
  {
   "cell_type": "markdown",
   "metadata": {},
   "source": [
    "Столбец \"product\" имеет 4 пика и два поменьше. По предварительному визуальному осмотру данных, можно предположить, что в районе сбора данные есть несколько тысяч перспективных скважин."
   ]
  },
  {
   "cell_type": "markdown",
   "metadata": {},
   "source": [
    "#### Посмотрим на корреляцию"
   ]
  },
  {
   "cell_type": "markdown",
   "metadata": {},
   "source": [
    "###### [Таблица величины коэффициентов корреляции и силы связи (шкала Чеддока)](https://statpsy.ru/correlation/velicina/):\n",
    "| Значение        | Интерпретация   |\n",
    "| --------------- |----------------:|\n",
    "| от 0 до 0,3     |   очень слабая  |\n",
    "| от 0,3 до 0,5   |   слабая        |\n",
    "| от 0, 5 до 0,7  |   средняя       |\n",
    "| от 0,7 до 0, 9  |   высокая       |\n",
    "| от 0,9 до 1     |   очень высокая |"
   ]
  },
  {
   "cell_type": "code",
   "execution_count": 27,
   "metadata": {
    "scrolled": true
   },
   "outputs": [
    {
     "data": {
      "text/html": [
       "<div>\n",
       "<style scoped>\n",
       "    .dataframe tbody tr th:only-of-type {\n",
       "        vertical-align: middle;\n",
       "    }\n",
       "\n",
       "    .dataframe tbody tr th {\n",
       "        vertical-align: top;\n",
       "    }\n",
       "\n",
       "    .dataframe thead th {\n",
       "        text-align: right;\n",
       "    }\n",
       "</style>\n",
       "<table border=\"1\" class=\"dataframe\">\n",
       "  <thead>\n",
       "    <tr style=\"text-align: right;\">\n",
       "      <th></th>\n",
       "      <th>f0</th>\n",
       "      <th>f1</th>\n",
       "      <th>f2</th>\n",
       "      <th>product</th>\n",
       "    </tr>\n",
       "  </thead>\n",
       "  <tbody>\n",
       "    <tr>\n",
       "      <td>f0</td>\n",
       "      <td>1.000000</td>\n",
       "      <td>-0.440723</td>\n",
       "      <td>-0.003153</td>\n",
       "      <td>0.143536</td>\n",
       "    </tr>\n",
       "    <tr>\n",
       "      <td>f1</td>\n",
       "      <td>-0.440723</td>\n",
       "      <td>1.000000</td>\n",
       "      <td>0.001724</td>\n",
       "      <td>-0.192356</td>\n",
       "    </tr>\n",
       "    <tr>\n",
       "      <td>f2</td>\n",
       "      <td>-0.003153</td>\n",
       "      <td>0.001724</td>\n",
       "      <td>1.000000</td>\n",
       "      <td>0.483663</td>\n",
       "    </tr>\n",
       "    <tr>\n",
       "      <td>product</td>\n",
       "      <td>0.143536</td>\n",
       "      <td>-0.192356</td>\n",
       "      <td>0.483663</td>\n",
       "      <td>1.000000</td>\n",
       "    </tr>\n",
       "  </tbody>\n",
       "</table>\n",
       "</div>"
      ],
      "text/plain": [
       "               f0        f1        f2   product\n",
       "f0       1.000000 -0.440723 -0.003153  0.143536\n",
       "f1      -0.440723  1.000000  0.001724 -0.192356\n",
       "f2      -0.003153  0.001724  1.000000  0.483663\n",
       "product  0.143536 -0.192356  0.483663  1.000000"
      ]
     },
     "execution_count": 27,
     "metadata": {},
     "output_type": "execute_result"
    }
   ],
   "source": [
    "df.corr()"
   ]
  },
  {
   "cell_type": "code",
   "execution_count": 28,
   "metadata": {},
   "outputs": [],
   "source": [
    "#можно визуализировать, но выполняется ооочень долго\n",
    "#sns.pairplot(data=df0, hue = 'product');"
   ]
  },
  {
   "cell_type": "markdown",
   "metadata": {},
   "source": [
    "\"f2\" и \"product\" имеют среднюю 0.483663 (если округлить) корреляцию   \n",
    "\"f0\" и \"f1\" имеют слабую -0.440723, но ближе к средней корреляцию"
   ]
  },
  {
   "cell_type": "markdown",
   "metadata": {},
   "source": [
    "### Датасет №1"
   ]
  },
  {
   "cell_type": "code",
   "execution_count": 29,
   "metadata": {},
   "outputs": [],
   "source": [
    "df = df1\n",
    "title = '1'"
   ]
  },
  {
   "cell_type": "code",
   "execution_count": 30,
   "metadata": {
    "scrolled": true
   },
   "outputs": [
    {
     "data": {
      "text/html": [
       "<div>\n",
       "<style scoped>\n",
       "    .dataframe tbody tr th:only-of-type {\n",
       "        vertical-align: middle;\n",
       "    }\n",
       "\n",
       "    .dataframe tbody tr th {\n",
       "        vertical-align: top;\n",
       "    }\n",
       "\n",
       "    .dataframe thead th {\n",
       "        text-align: right;\n",
       "    }\n",
       "</style>\n",
       "<table border=\"1\" class=\"dataframe\">\n",
       "  <thead>\n",
       "    <tr style=\"text-align: right;\">\n",
       "      <th></th>\n",
       "      <th>f0</th>\n",
       "      <th>f1</th>\n",
       "      <th>f2</th>\n",
       "      <th>product</th>\n",
       "    </tr>\n",
       "  </thead>\n",
       "  <tbody>\n",
       "    <tr>\n",
       "      <td>count</td>\n",
       "      <td>100000.000000</td>\n",
       "      <td>100000.000000</td>\n",
       "      <td>100000.000000</td>\n",
       "      <td>100000.000000</td>\n",
       "    </tr>\n",
       "    <tr>\n",
       "      <td>mean</td>\n",
       "      <td>1.141296</td>\n",
       "      <td>-4.796579</td>\n",
       "      <td>2.494541</td>\n",
       "      <td>68.825000</td>\n",
       "    </tr>\n",
       "    <tr>\n",
       "      <td>std</td>\n",
       "      <td>8.965932</td>\n",
       "      <td>5.119872</td>\n",
       "      <td>1.703572</td>\n",
       "      <td>45.944423</td>\n",
       "    </tr>\n",
       "    <tr>\n",
       "      <td>min</td>\n",
       "      <td>-31.609576</td>\n",
       "      <td>-26.358598</td>\n",
       "      <td>-0.018144</td>\n",
       "      <td>0.000000</td>\n",
       "    </tr>\n",
       "    <tr>\n",
       "      <td>25%</td>\n",
       "      <td>-6.298551</td>\n",
       "      <td>-8.267985</td>\n",
       "      <td>1.000021</td>\n",
       "      <td>26.953261</td>\n",
       "    </tr>\n",
       "    <tr>\n",
       "      <td>50%</td>\n",
       "      <td>1.153055</td>\n",
       "      <td>-4.813172</td>\n",
       "      <td>2.011479</td>\n",
       "      <td>57.085625</td>\n",
       "    </tr>\n",
       "    <tr>\n",
       "      <td>75%</td>\n",
       "      <td>8.621015</td>\n",
       "      <td>-1.332816</td>\n",
       "      <td>3.999904</td>\n",
       "      <td>107.813044</td>\n",
       "    </tr>\n",
       "    <tr>\n",
       "      <td>max</td>\n",
       "      <td>29.421755</td>\n",
       "      <td>18.734063</td>\n",
       "      <td>5.019721</td>\n",
       "      <td>137.945408</td>\n",
       "    </tr>\n",
       "  </tbody>\n",
       "</table>\n",
       "</div>"
      ],
      "text/plain": [
       "                  f0             f1             f2        product\n",
       "count  100000.000000  100000.000000  100000.000000  100000.000000\n",
       "mean        1.141296      -4.796579       2.494541      68.825000\n",
       "std         8.965932       5.119872       1.703572      45.944423\n",
       "min       -31.609576     -26.358598      -0.018144       0.000000\n",
       "25%        -6.298551      -8.267985       1.000021      26.953261\n",
       "50%         1.153055      -4.813172       2.011479      57.085625\n",
       "75%         8.621015      -1.332816       3.999904     107.813044\n",
       "max        29.421755      18.734063       5.019721     137.945408"
      ]
     },
     "execution_count": 30,
     "metadata": {},
     "output_type": "execute_result"
    }
   ],
   "source": [
    "# приведем таблицу для наглядности еще раз\n",
    "df.describe()"
   ]
  },
  {
   "cell_type": "code",
   "execution_count": 31,
   "metadata": {
    "scrolled": true
   },
   "outputs": [
    {
     "data": {
      "image/png": "[encoded data removed]",
      "text/plain": [
       "<Figure size 1440x360 with 2 Axes>"
      ]
     },
     "metadata": {},
     "output_type": "display_data"
    }
   ],
   "source": [
    "dist_and_box(df,'f0')"
   ]
  },
  {
   "cell_type": "markdown",
   "metadata": {},
   "source": [
    "Первый признак \"f0\" имеет 2 пика. Пики в районе -10, и 10. Медиана 1. И отрицательные выбросы."
   ]
  },
  {
   "cell_type": "code",
   "execution_count": 32,
   "metadata": {},
   "outputs": [
    {
     "data": {
      "image/png": "[encoded data removed]",
      "text/plain": [
       "<Figure size 1440x360 with 2 Axes>"
      ]
     },
     "metadata": {},
     "output_type": "display_data"
    }
   ],
   "source": [
    "dist_and_box(df,'f1')"
   ]
  },
  {
   "cell_type": "markdown",
   "metadata": {},
   "source": [
    "Столбец \"f1\" имеет нормальное распределение с медианой -4.8. И так же наблюдаются выбросы."
   ]
  },
  {
   "cell_type": "code",
   "execution_count": 33,
   "metadata": {},
   "outputs": [
    {
     "data": {
      "image/png": "[encoded data removed]",
      "text/plain": [
       "<Figure size 1440x360 with 2 Axes>"
      ]
     },
     "metadata": {},
     "output_type": "display_data"
    }
   ],
   "source": [
    "dist_and_box(df,'f2')"
   ]
  },
  {
   "cell_type": "markdown",
   "metadata": {},
   "source": [
    "Столбец \"f2\" в датафрейме судя по ящику с усами имеет скос вправо, медиана равна 2. А график имеет довольно странный вид, но это не удивительно так как в датасете всего 12 уникальных значений."
   ]
  },
  {
   "cell_type": "code",
   "execution_count": 34,
   "metadata": {},
   "outputs": [
    {
     "data": {
      "image/png": "[encoded data removed]",
      "text/plain": [
       "<Figure size 1440x360 with 2 Axes>"
      ]
     },
     "metadata": {},
     "output_type": "display_data"
    }
   ],
   "source": [
    "dist_and_box(df,'product')"
   ]
  },
  {
   "cell_type": "markdown",
   "metadata": {},
   "source": [
    "По предварительному визуальному осмотру, можно предположить, что в районе сбора данные есть несколько тысяч перспективных скважин с мощностью около 130 тыс. баррелей."
   ]
  },
  {
   "cell_type": "markdown",
   "metadata": {},
   "source": [
    "#### Посмотрим на корреляцию"
   ]
  },
  {
   "cell_type": "code",
   "execution_count": 35,
   "metadata": {
    "scrolled": true
   },
   "outputs": [
    {
     "data": {
      "text/html": [
       "<div>\n",
       "<style scoped>\n",
       "    .dataframe tbody tr th:only-of-type {\n",
       "        vertical-align: middle;\n",
       "    }\n",
       "\n",
       "    .dataframe tbody tr th {\n",
       "        vertical-align: top;\n",
       "    }\n",
       "\n",
       "    .dataframe thead th {\n",
       "        text-align: right;\n",
       "    }\n",
       "</style>\n",
       "<table border=\"1\" class=\"dataframe\">\n",
       "  <thead>\n",
       "    <tr style=\"text-align: right;\">\n",
       "      <th></th>\n",
       "      <th>f0</th>\n",
       "      <th>f1</th>\n",
       "      <th>f2</th>\n",
       "      <th>product</th>\n",
       "    </tr>\n",
       "  </thead>\n",
       "  <tbody>\n",
       "    <tr>\n",
       "      <td>f0</td>\n",
       "      <td>1.000000</td>\n",
       "      <td>0.182287</td>\n",
       "      <td>-0.001777</td>\n",
       "      <td>-0.030491</td>\n",
       "    </tr>\n",
       "    <tr>\n",
       "      <td>f1</td>\n",
       "      <td>0.182287</td>\n",
       "      <td>1.000000</td>\n",
       "      <td>-0.002595</td>\n",
       "      <td>-0.010155</td>\n",
       "    </tr>\n",
       "    <tr>\n",
       "      <td>f2</td>\n",
       "      <td>-0.001777</td>\n",
       "      <td>-0.002595</td>\n",
       "      <td>1.000000</td>\n",
       "      <td>0.999397</td>\n",
       "    </tr>\n",
       "    <tr>\n",
       "      <td>product</td>\n",
       "      <td>-0.030491</td>\n",
       "      <td>-0.010155</td>\n",
       "      <td>0.999397</td>\n",
       "      <td>1.000000</td>\n",
       "    </tr>\n",
       "  </tbody>\n",
       "</table>\n",
       "</div>"
      ],
      "text/plain": [
       "               f0        f1        f2   product\n",
       "f0       1.000000  0.182287 -0.001777 -0.030491\n",
       "f1       0.182287  1.000000 -0.002595 -0.010155\n",
       "f2      -0.001777 -0.002595  1.000000  0.999397\n",
       "product -0.030491 -0.010155  0.999397  1.000000"
      ]
     },
     "execution_count": 35,
     "metadata": {},
     "output_type": "execute_result"
    }
   ],
   "source": [
    "df.corr()"
   ]
  },
  {
   "cell_type": "code",
   "execution_count": 36,
   "metadata": {},
   "outputs": [],
   "source": [
    "#можно визуализировать, но выполняется ооочень долго\n",
    "#sns.pairplot(data=df1, hue = 'product');"
   ]
  },
  {
   "cell_type": "markdown",
   "metadata": {},
   "source": [
    "\"f0\" и \"f1\" имеют очень слабую 0.182287 корреляцию (но в предыдущем прокте мы обращали внимание и на корреляцию 0,11)  \n",
    "\"f2\" и \"product\" имеют очень высокую 0.999397 корреляцию, так как уникальных значений 12 и \"f2\" имеет маленький разброс значений от 0 до 5.  "
   ]
  },
  {
   "cell_type": "markdown",
   "metadata": {},
   "source": [
    "### Датасет №2"
   ]
  },
  {
   "cell_type": "code",
   "execution_count": 37,
   "metadata": {},
   "outputs": [],
   "source": [
    "df = df2\n",
    "title = '2'"
   ]
  },
  {
   "cell_type": "code",
   "execution_count": 38,
   "metadata": {
    "scrolled": true
   },
   "outputs": [
    {
     "data": {
      "text/html": [
       "<div>\n",
       "<style scoped>\n",
       "    .dataframe tbody tr th:only-of-type {\n",
       "        vertical-align: middle;\n",
       "    }\n",
       "\n",
       "    .dataframe tbody tr th {\n",
       "        vertical-align: top;\n",
       "    }\n",
       "\n",
       "    .dataframe thead th {\n",
       "        text-align: right;\n",
       "    }\n",
       "</style>\n",
       "<table border=\"1\" class=\"dataframe\">\n",
       "  <thead>\n",
       "    <tr style=\"text-align: right;\">\n",
       "      <th></th>\n",
       "      <th>f0</th>\n",
       "      <th>f1</th>\n",
       "      <th>f2</th>\n",
       "      <th>product</th>\n",
       "    </tr>\n",
       "  </thead>\n",
       "  <tbody>\n",
       "    <tr>\n",
       "      <td>count</td>\n",
       "      <td>100000.000000</td>\n",
       "      <td>100000.000000</td>\n",
       "      <td>100000.000000</td>\n",
       "      <td>100000.000000</td>\n",
       "    </tr>\n",
       "    <tr>\n",
       "      <td>mean</td>\n",
       "      <td>0.002023</td>\n",
       "      <td>-0.002081</td>\n",
       "      <td>2.495128</td>\n",
       "      <td>95.000000</td>\n",
       "    </tr>\n",
       "    <tr>\n",
       "      <td>std</td>\n",
       "      <td>1.732045</td>\n",
       "      <td>1.730417</td>\n",
       "      <td>3.473445</td>\n",
       "      <td>44.749921</td>\n",
       "    </tr>\n",
       "    <tr>\n",
       "      <td>min</td>\n",
       "      <td>-8.760004</td>\n",
       "      <td>-7.084020</td>\n",
       "      <td>-11.970335</td>\n",
       "      <td>0.000000</td>\n",
       "    </tr>\n",
       "    <tr>\n",
       "      <td>25%</td>\n",
       "      <td>-1.162288</td>\n",
       "      <td>-1.174820</td>\n",
       "      <td>0.130359</td>\n",
       "      <td>59.450441</td>\n",
       "    </tr>\n",
       "    <tr>\n",
       "      <td>50%</td>\n",
       "      <td>0.009424</td>\n",
       "      <td>-0.009482</td>\n",
       "      <td>2.484236</td>\n",
       "      <td>94.925613</td>\n",
       "    </tr>\n",
       "    <tr>\n",
       "      <td>75%</td>\n",
       "      <td>1.158535</td>\n",
       "      <td>1.163678</td>\n",
       "      <td>4.858794</td>\n",
       "      <td>130.595027</td>\n",
       "    </tr>\n",
       "    <tr>\n",
       "      <td>max</td>\n",
       "      <td>7.238262</td>\n",
       "      <td>7.844801</td>\n",
       "      <td>16.739402</td>\n",
       "      <td>190.029838</td>\n",
       "    </tr>\n",
       "  </tbody>\n",
       "</table>\n",
       "</div>"
      ],
      "text/plain": [
       "                  f0             f1             f2        product\n",
       "count  100000.000000  100000.000000  100000.000000  100000.000000\n",
       "mean        0.002023      -0.002081       2.495128      95.000000\n",
       "std         1.732045       1.730417       3.473445      44.749921\n",
       "min        -8.760004      -7.084020     -11.970335       0.000000\n",
       "25%        -1.162288      -1.174820       0.130359      59.450441\n",
       "50%         0.009424      -0.009482       2.484236      94.925613\n",
       "75%         1.158535       1.163678       4.858794     130.595027\n",
       "max         7.238262       7.844801      16.739402     190.029838"
      ]
     },
     "execution_count": 38,
     "metadata": {},
     "output_type": "execute_result"
    }
   ],
   "source": [
    "# приведем таблицу для наглядности еще раз\n",
    "df.describe()"
   ]
  },
  {
   "cell_type": "code",
   "execution_count": 39,
   "metadata": {
    "scrolled": true
   },
   "outputs": [
    {
     "data": {
      "image/png": "[encoded data removed]",
      "text/plain": [
       "<Figure size 1440x360 with 2 Axes>"
      ]
     },
     "metadata": {},
     "output_type": "display_data"
    }
   ],
   "source": [
    "dist_and_box(df,'f0')"
   ]
  },
  {
   "cell_type": "markdown",
   "metadata": {},
   "source": [
    "Столбец \"f0\" имеет нормальное распределение с медианой в районе нуля. И так же наблюдаются выбросы."
   ]
  },
  {
   "cell_type": "code",
   "execution_count": 40,
   "metadata": {},
   "outputs": [
    {
     "data": {
      "image/png": "[encoded data removed]",
      "text/plain": [
       "<Figure size 1440x360 with 2 Axes>"
      ]
     },
     "metadata": {},
     "output_type": "display_data"
    }
   ],
   "source": [
    "dist_and_box(df,'f1')"
   ]
  },
  {
   "cell_type": "markdown",
   "metadata": {},
   "source": [
    "Столбец \"f1\" имеет нормальное распределение с медианой в районе нуля с отрицательной стороны. И так же наблюдаются выбросы. Графики \"f0\" и \"f1\" похожи визуально."
   ]
  },
  {
   "cell_type": "code",
   "execution_count": 41,
   "metadata": {},
   "outputs": [
    {
     "data": {
      "image/png": "[encoded data removed]",
      "text/plain": [
       "<Figure size 1440x360 with 2 Axes>"
      ]
     },
     "metadata": {},
     "output_type": "display_data"
    }
   ],
   "source": [
    "dist_and_box(df,'f2')"
   ]
  },
  {
   "cell_type": "markdown",
   "metadata": {},
   "source": [
    "Столбец \"f2\" имеет нормальное распределение с медианой в окресностях 2.5"
   ]
  },
  {
   "cell_type": "code",
   "execution_count": 42,
   "metadata": {},
   "outputs": [
    {
     "data": {
      "image/png": "[encoded data removed]",
      "text/plain": [
       "<Figure size 1440x360 with 2 Axes>"
      ]
     },
     "metadata": {},
     "output_type": "display_data"
    }
   ],
   "source": [
    "dist_and_box(df,'product')"
   ]
  },
  {
   "cell_type": "markdown",
   "metadata": {},
   "source": [
    "По предварительному визуальному осмотру, можно предположить, что в районе сбора данные есть несколько тысяч перспективных скважин с мощностью около 175 тыс. баррелей и более. График похож на датасет №0."
   ]
  },
  {
   "cell_type": "markdown",
   "metadata": {},
   "source": [
    "#### Посмотрим на корреляцию"
   ]
  },
  {
   "cell_type": "code",
   "execution_count": 43,
   "metadata": {
    "scrolled": true
   },
   "outputs": [
    {
     "data": {
      "text/html": [
       "<div>\n",
       "<style scoped>\n",
       "    .dataframe tbody tr th:only-of-type {\n",
       "        vertical-align: middle;\n",
       "    }\n",
       "\n",
       "    .dataframe tbody tr th {\n",
       "        vertical-align: top;\n",
       "    }\n",
       "\n",
       "    .dataframe thead th {\n",
       "        text-align: right;\n",
       "    }\n",
       "</style>\n",
       "<table border=\"1\" class=\"dataframe\">\n",
       "  <thead>\n",
       "    <tr style=\"text-align: right;\">\n",
       "      <th></th>\n",
       "      <th>f0</th>\n",
       "      <th>f1</th>\n",
       "      <th>f2</th>\n",
       "      <th>product</th>\n",
       "    </tr>\n",
       "  </thead>\n",
       "  <tbody>\n",
       "    <tr>\n",
       "      <td>f0</td>\n",
       "      <td>1.000000</td>\n",
       "      <td>0.000528</td>\n",
       "      <td>-0.000448</td>\n",
       "      <td>-0.001987</td>\n",
       "    </tr>\n",
       "    <tr>\n",
       "      <td>f1</td>\n",
       "      <td>0.000528</td>\n",
       "      <td>1.000000</td>\n",
       "      <td>0.000779</td>\n",
       "      <td>-0.001012</td>\n",
       "    </tr>\n",
       "    <tr>\n",
       "      <td>f2</td>\n",
       "      <td>-0.000448</td>\n",
       "      <td>0.000779</td>\n",
       "      <td>1.000000</td>\n",
       "      <td>0.445871</td>\n",
       "    </tr>\n",
       "    <tr>\n",
       "      <td>product</td>\n",
       "      <td>-0.001987</td>\n",
       "      <td>-0.001012</td>\n",
       "      <td>0.445871</td>\n",
       "      <td>1.000000</td>\n",
       "    </tr>\n",
       "  </tbody>\n",
       "</table>\n",
       "</div>"
      ],
      "text/plain": [
       "               f0        f1        f2   product\n",
       "f0       1.000000  0.000528 -0.000448 -0.001987\n",
       "f1       0.000528  1.000000  0.000779 -0.001012\n",
       "f2      -0.000448  0.000779  1.000000  0.445871\n",
       "product -0.001987 -0.001012  0.445871  1.000000"
      ]
     },
     "execution_count": 43,
     "metadata": {},
     "output_type": "execute_result"
    }
   ],
   "source": [
    "df.corr()"
   ]
  },
  {
   "cell_type": "code",
   "execution_count": 44,
   "metadata": {},
   "outputs": [],
   "source": [
    "#можно визуализировать, но выполняется ооочень долго\n",
    "#sns.pairplot(data=df2, hue = 'product');"
   ]
  },
  {
   "cell_type": "markdown",
   "metadata": {},
   "source": [
    "\"f2\" и \"product\" имеют слабую 0.445871 корреляцию (но ближе к средней).  \n",
    "У остальных корреляция близка к нулю.\n"
   ]
  },
  {
   "cell_type": "markdown",
   "metadata": {},
   "source": [
    "# 2. Обучение и проверка модели для каждого региона  "
   ]
  },
  {
   "cell_type": "markdown",
   "metadata": {},
   "source": [
    "#### Разобьём данные на обучающую и валидационную выборки в соотношении 75:25\n",
    "#### Обучим модель и сделаем предсказания на валидационной выборке\n",
    "#### Сохраним предсказания и правильные ответы на валидационной выборке\n",
    "#### Покажем средний запас предсказанного сырья и RMSE модели"
   ]
  },
  {
   "cell_type": "code",
   "execution_count": 45,
   "metadata": {},
   "outputs": [],
   "source": [
    "def get_linear_regression_prediction_grid(df, target_column, get_size_df_split = False):\n",
    "    \n",
    "    # выделим признаки\n",
    "    target = df[target_column]\n",
    "    features = df.drop([target_column,'id'], axis=1) #если не удалить еще и id то будет ошибка, что текстовое поле\n",
    "    \n",
    "    # разобьём данные на тестовую и валидационную выборки в соотношении 75:25\n",
    "    features_train, features_valid, target_train, target_valid = train_test_split(\n",
    "    features, target, test_size=0.25, random_state=12345)\n",
    "    \n",
    "    if get_size_df_split:\n",
    "        print(f'Размеры тренировочной и валидационной выборок {features_train.shape} {features_valid.shape}')\n",
    "        print(f'Размеры признаков теста и валидации {target_train.shape} {target_valid.shape}')\n",
    "    \n",
    "    # обучим модель\n",
    "    parameters = {'fit_intercept':[True,False], 'copy_X':[True, False], 'normalize':[True,False]}\n",
    "    model = GridSearchCV(estimator=LinearRegression(), param_grid=parameters, cv=5)\n",
    "    model.fit(features_train, target_train)\n",
    "    predicted_valid = model.predict(features_valid)\n",
    "        \n",
    "    # посчитаем метрики\n",
    "    metrics = {}\n",
    "    metrics['mean_fact_target'] = round(target.mean(),4) # средняя всего фактического сырья\n",
    "    metrics['mean_predict_valid'] =  round(predicted_valid.mean(),4) # средняя предсказанного сырья\n",
    "    metrics['mse'] =  round(mean_squared_error(target_valid, predicted_valid),4)\n",
    "    metrics['rmse'] =  round(metrics['mse'] ** 0.5,4)\n",
    "    metrics['r2'] =  round(r2_score(target_valid, predicted_valid),4)\n",
    "    metrics['mae'] =  round(mean_absolute_error(target_valid, predicted_valid),4)\n",
    "    predicted_valid_for_median = pd.Series(target_train.median(), index=target_valid.index)\n",
    "    metrics['mae_median'] =  round(mean_absolute_error(target_valid, predicted_valid_for_median),4)\n",
    "    metrics[\"best_model_params\"] = model.best_params_\n",
    "    metrics[\"predicted_valid\"] = predicted_valid\n",
    "    metrics[\"target_valid\"] = target_valid\n",
    "    \n",
    "    return metrics"
   ]
  },
  {
   "cell_type": "code",
   "execution_count": 46,
   "metadata": {},
   "outputs": [],
   "source": [
    "target_column = 'product'\n",
    "\n",
    "#DataFrame №0\n",
    "metrics_df0 = get_linear_regression_prediction_grid(df0, target_column)\n",
    "\n",
    "#DataFrame №1\n",
    "metrics_df1 = get_linear_regression_prediction_grid(df1, target_column)\n",
    "\n",
    "#DataFrame №2\n",
    "metrics_df2 = get_linear_regression_prediction_grid(df2, target_column)"
   ]
  },
  {
   "cell_type": "code",
   "execution_count": 47,
   "metadata": {},
   "outputs": [
    {
     "name": "stdout",
     "output_type": "stream",
     "text": [
      "Средняя предсказанного сырья DataFrame_0: 92.5926\n",
      "RMSE DataFrame_0: 37.5794\n",
      "\n",
      "Средняя предсказанного сырья DataFrame_1: 68.7285\n",
      "RMSE DataFrame_1: 0.8931\n",
      "\n",
      "Средняя предсказанного сырья DataFrame_2: 94.965\n",
      "RMSE DataFrame_2: 40.0297\n",
      "\n"
     ]
    }
   ],
   "source": [
    "print(f'Средняя предсказанного сырья DataFrame_0: { metrics_df0[\"mean_predict_valid\"] }')\n",
    "print(f'RMSE DataFrame_0: { metrics_df0[\"rmse\"] }')\n",
    "print()\n",
    "print(f'Средняя предсказанного сырья DataFrame_1: { metrics_df1[\"mean_predict_valid\"] }')\n",
    "print(f'RMSE DataFrame_1: { metrics_df1[\"rmse\"] }')\n",
    "print()\n",
    "print(f'Средняя предсказанного сырья DataFrame_2: { metrics_df2[\"mean_predict_valid\"] }')\n",
    "print(f'RMSE DataFrame_2: { metrics_df2[\"rmse\"] }')\n",
    "print()"
   ]
  },
  {
   "cell_type": "markdown",
   "metadata": {},
   "source": [
    "Получились такие данные:\n",
    "\n",
    "DataFrame_0:  \n",
    "Средняя предсказанного сырья: 92.5926   \n",
    "RMSE: 37.5794  \n",
    "\n",
    "DataFrame_1:  \n",
    "Средняя предсказанного сырья: 68.7285  \n",
    "RMSE: 0.8931 \n",
    "\n",
    "DataFrame_2:  \n",
    "Средняя предсказанного сырья: 94.965  \n",
    "RMSE: 40.0297"
   ]
  },
  {
   "cell_type": "code",
   "execution_count": 48,
   "metadata": {},
   "outputs": [
    {
     "name": "stdout",
     "output_type": "stream",
     "text": [
      "Параметры лучше модели DataFrame_0: {'copy_X': True, 'fit_intercept': True, 'normalize': False}\n",
      "\n",
      "Параметры лучше модели DataFrame_1: {'copy_X': True, 'fit_intercept': True, 'normalize': True}\n",
      "\n",
      "Параметры лучше модели DataFrame_2: {'copy_X': True, 'fit_intercept': True, 'normalize': True}\n"
     ]
    }
   ],
   "source": [
    "print(f'Параметры лучше модели DataFrame_0: { metrics_df0[\"best_model_params\"] }')\n",
    "print()\n",
    "print(f'Параметры лучше модели DataFrame_1: { metrics_df1[\"best_model_params\"] }')\n",
    "print()\n",
    "print(f'Параметры лучше модели DataFrame_2: { metrics_df2[\"best_model_params\"] }')\n"
   ]
  },
  {
   "cell_type": "markdown",
   "metadata": {},
   "source": [
    "### Анализ полученных результатов"
   ]
  },
  {
   "cell_type": "markdown",
   "metadata": {},
   "source": [
    "\n",
    "| DataFrame, № | RMSE | R2 | MAE | MAE_median | Среднее фактическое, тыс.баррелей | Среднее предсказанное, тыс.баррелей  | Отклонение % |\n",
    "| ------------|--------:|-------:|--------:|--------:|---------:| ------ :| -----:|\n",
    "| 0           | 37.5794 | 0.2799 | 30.9196 | 37.6718 | 92.5000  | 92.5926 | 0.10% |\n",
    "| 1           | 0.8931  | 0.9996 |  0.7188 | 40.2655 | 68.8250  | 68.7285 | 0.14% |     \n",
    "| 2           | 40.0297 | 0.2052 | 32.7927 | 37.9210 | 95.0000  | 94.9650 | 0.04% |   "
   ]
  },
  {
   "cell_type": "markdown",
   "metadata": {},
   "source": [
    "Чем ближе корень из средней квадратичной ошибки (RMSE) к нулю тем лучше.  \n",
    "  \n",
    "Наши значения RMSE:  \n",
    "\n",
    "DataFrame_0 RMSE: 37.5794  \n",
    "DataFrame_1 RMSE: 0.8931  \n",
    "DataFrame_2 RMSE: 40.0297  \n",
    "  \n",
    "Чтобы понимать много это или мало, обычно MSE предсказаний сравнивают со средним MSE по выборке. Чтобы это постоянно не делать, есть метрика коэффициент детерминации R2. Который равен 1 - MSE/MSEсреднее. Чем R2 ближе к единице тем лучше.  \n",
    "  \n",
    "Наши значения R2:  \n",
    "  \n",
    "DataFrame_0 R2: 0.2799   \n",
    "DataFrame_1 R2: 0.9996   \n",
    "DataFrame_2 R2: 0.2052  \n",
    "  \n",
    "В нулевом и втором дата фрейме R2 довольно низкие. А в DataFrame_1 R2 = 0.9996 как и предсказывалось во время анализа на первом шаге, такой высокий коэффициент скорей всего из-за очень сильной связи целевого показателя с признаком 'f2'.  \n",
    "\n",
    "Метрика MAE среднее абсолютное отклонение так же как и RMSE чем ближе к нулю тем лучше. И при сравнении с медианным MAE наша полученная по предсказаниям модели лучше, особенно в DataFrame_1.  \n",
    "  \n",
    "Наши значения MAE:  \n",
    "   \n",
    "DataFrame_0 MAE: 30.9196   \n",
    "DataFrame_1 MAE:  0.7188   \n",
    "DataFrame_2 MAE: 32.7927  \n",
    "  \n",
    "Модель хорошо предсказывает мощность скважины в тыс.баррелей, отклонения по регионам от 0,04 до 0,14%."
   ]
  },
  {
   "cell_type": "markdown",
   "metadata": {},
   "source": [
    "# 3. Подготовка к расчёту прибыли"
   ]
  },
  {
   "cell_type": "markdown",
   "metadata": {},
   "source": [
    "### Все ключевые значения для расчётов сохраним в отдельных переменных"
   ]
  },
  {
   "cell_type": "markdown",
   "metadata": {},
   "source": [
    "Вводные для расчета прибыли:  \n",
    "  \n",
    "При разведке региона исследуют 500 точек, из которых с помощью машинного обучения выбирают 200 лучших для разработки.  "
   ]
  },
  {
   "cell_type": "code",
   "execution_count": 49,
   "metadata": {},
   "outputs": [],
   "source": [
    "count_of_wells = 200"
   ]
  },
  {
   "cell_type": "markdown",
   "metadata": {},
   "source": [
    "Бюджет на разработку скважин в регионе — 10 млрд рублей."
   ]
  },
  {
   "cell_type": "code",
   "execution_count": 50,
   "metadata": {},
   "outputs": [],
   "source": [
    "budget = 10_000_000_000"
   ]
  },
  {
   "cell_type": "markdown",
   "metadata": {},
   "source": [
    "Цена одной скважины — 50 млн рублей."
   ]
  },
  {
   "cell_type": "code",
   "execution_count": 51,
   "metadata": {},
   "outputs": [],
   "source": [
    "price_one_well = budget / count_of_wells \n",
    "#price_one_well = 50_000_000"
   ]
  },
  {
   "cell_type": "markdown",
   "metadata": {},
   "source": [
    "При нынешних ценах один баррель сырья приносит 450 рублей дохода. Доход с каждой единицы продукта составляет 450 тыс. рублей, поскольку объём указан в тысячах баррелей.  "
   ]
  },
  {
   "cell_type": "code",
   "execution_count": 52,
   "metadata": {},
   "outputs": [],
   "source": [
    "price_one_thousand_barrels = 450_000"
   ]
  },
  {
   "cell_type": "code",
   "execution_count": 53,
   "metadata": {},
   "outputs": [
    {
     "name": "stdout",
     "output_type": "stream",
     "text": [
      "(25000, 4)\n"
     ]
    }
   ],
   "source": [
    "region_df0 = pd.DataFrame(metrics_df0[\"target_valid\"])\n",
    "region_df0['predicted'] = metrics_df0[\"predicted_valid\"]\n",
    "region_df0['profit'] = metrics_df0[\"target_valid\"] * price_one_thousand_barrels\n",
    "region_df0['region'] = 0\n",
    "print(region_df0.shape)\n",
    "region_df1 = pd.DataFrame(metrics_df1[\"target_valid\"])\n",
    "region_df1['predicted'] = metrics_df1[\"predicted_valid\"]\n",
    "region_df1['profit'] = metrics_df1[\"target_valid\"] * price_one_thousand_barrels\n",
    "region_df1['region'] = 1\n",
    "\n",
    "region_df2 = pd.DataFrame(metrics_df2[\"target_valid\"])\n",
    "region_df2['predicted'] = metrics_df2[\"predicted_valid\"]\n",
    "region_df2['profit'] = metrics_df2[\"target_valid\"] * price_one_thousand_barrels\n",
    "region_df2['region'] = 2"
   ]
  },
  {
   "cell_type": "markdown",
   "metadata": {},
   "source": [
    "### Рассчитаем достаточный объём сырья для безубыточной разработки новой скважины. Сравним полученный объём сырья со средним запасом в каждом регионе"
   ]
  },
  {
   "cell_type": "code",
   "execution_count": 54,
   "metadata": {},
   "outputs": [
    {
     "data": {
      "text/plain": [
       "112"
      ]
     },
     "execution_count": 54,
     "metadata": {},
     "output_type": "execute_result"
    }
   ],
   "source": [
    "sufficient_volume = math.ceil(price_one_well / price_one_thousand_barrels)\n",
    "sufficient_volume"
   ]
  },
  {
   "cell_type": "code",
   "execution_count": 55,
   "metadata": {},
   "outputs": [
    {
     "data": {
      "text/html": [
       "<div>\n",
       "<style scoped>\n",
       "    .dataframe tbody tr th:only-of-type {\n",
       "        vertical-align: middle;\n",
       "    }\n",
       "\n",
       "    .dataframe tbody tr th {\n",
       "        vertical-align: top;\n",
       "    }\n",
       "\n",
       "    .dataframe thead th {\n",
       "        text-align: right;\n",
       "    }\n",
       "</style>\n",
       "<table border=\"1\" class=\"dataframe\">\n",
       "  <thead>\n",
       "    <tr style=\"text-align: right;\">\n",
       "      <th></th>\n",
       "      <th>predicted</th>\n",
       "      <th>product</th>\n",
       "      <th>profit</th>\n",
       "    </tr>\n",
       "    <tr>\n",
       "      <th>region</th>\n",
       "      <th></th>\n",
       "      <th></th>\n",
       "      <th></th>\n",
       "    </tr>\n",
       "  </thead>\n",
       "  <tbody>\n",
       "    <tr>\n",
       "      <td>0</td>\n",
       "      <td>92.592568</td>\n",
       "      <td>92.078597</td>\n",
       "      <td>4.143537e+07</td>\n",
       "    </tr>\n",
       "    <tr>\n",
       "      <td>1</td>\n",
       "      <td>68.728547</td>\n",
       "      <td>68.723136</td>\n",
       "      <td>3.092541e+07</td>\n",
       "    </tr>\n",
       "    <tr>\n",
       "      <td>2</td>\n",
       "      <td>94.965046</td>\n",
       "      <td>94.884233</td>\n",
       "      <td>4.269790e+07</td>\n",
       "    </tr>\n",
       "  </tbody>\n",
       "</table>\n",
       "</div>"
      ],
      "text/plain": [
       "        predicted    product        profit\n",
       "region                                    \n",
       "0       92.592568  92.078597  4.143537e+07\n",
       "1       68.728547  68.723136  3.092541e+07\n",
       "2       94.965046  94.884233  4.269790e+07"
      ]
     },
     "execution_count": 55,
     "metadata": {},
     "output_type": "execute_result"
    }
   ],
   "source": [
    "oil_reserve = pd.concat([region_df0, region_df1, region_df2])\n",
    "oil_reserve.pivot_table(index='region')"
   ]
  },
  {
   "cell_type": "markdown",
   "metadata": {},
   "source": [
    "Всего в одном регионе бюджет в 10 млрд.руб. выделяют для разработки 200 наиболее перспективных скважин с затратами 50 милн.руб. на одну скважину. При существующем уровне цен в 450 тыс.руб. за тыс.баррелей, безубыточная добыча начинается со скважин с запасом в 112 тыс.баррелей. По предсказаниям в среднем такого объема нет ни в одном регионе."
   ]
  },
  {
   "cell_type": "markdown",
   "metadata": {},
   "source": [
    "# 4. Расчёт прибыли по выбранным скважинам и предсказаниям модели "
   ]
  },
  {
   "cell_type": "markdown",
   "metadata": {},
   "source": [
    "### Выберем скважины с максимальными значениями предсказаний "
   ]
  },
  {
   "cell_type": "code",
   "execution_count": 56,
   "metadata": {},
   "outputs": [
    {
     "data": {
      "text/html": [
       "<div>\n",
       "<style scoped>\n",
       "    .dataframe tbody tr th:only-of-type {\n",
       "        vertical-align: middle;\n",
       "    }\n",
       "\n",
       "    .dataframe tbody tr th {\n",
       "        vertical-align: top;\n",
       "    }\n",
       "\n",
       "    .dataframe thead th {\n",
       "        text-align: right;\n",
       "    }\n",
       "</style>\n",
       "<table border=\"1\" class=\"dataframe\">\n",
       "  <thead>\n",
       "    <tr style=\"text-align: right;\">\n",
       "      <th></th>\n",
       "      <th>product</th>\n",
       "      <th>predicted</th>\n",
       "      <th>profit</th>\n",
       "      <th>region</th>\n",
       "    </tr>\n",
       "  </thead>\n",
       "  <tbody>\n",
       "    <tr>\n",
       "      <td>93073</td>\n",
       "      <td>162.810993</td>\n",
       "      <td>180.180713</td>\n",
       "      <td>7.326495e+07</td>\n",
       "      <td>0</td>\n",
       "    </tr>\n",
       "    <tr>\n",
       "      <td>46784</td>\n",
       "      <td>153.639837</td>\n",
       "      <td>176.252213</td>\n",
       "      <td>6.913793e+07</td>\n",
       "      <td>0</td>\n",
       "    </tr>\n",
       "    <tr>\n",
       "      <td>78948</td>\n",
       "      <td>162.153488</td>\n",
       "      <td>175.850623</td>\n",
       "      <td>7.296907e+07</td>\n",
       "      <td>0</td>\n",
       "    </tr>\n",
       "    <tr>\n",
       "      <td>43388</td>\n",
       "      <td>96.893581</td>\n",
       "      <td>175.658429</td>\n",
       "      <td>4.360211e+07</td>\n",
       "      <td>0</td>\n",
       "    </tr>\n",
       "    <tr>\n",
       "      <td>6496</td>\n",
       "      <td>178.879516</td>\n",
       "      <td>173.299686</td>\n",
       "      <td>8.049578e+07</td>\n",
       "      <td>0</td>\n",
       "    </tr>\n",
       "    <tr>\n",
       "      <td>...</td>\n",
       "      <td>...</td>\n",
       "      <td>...</td>\n",
       "      <td>...</td>\n",
       "      <td>...</td>\n",
       "    </tr>\n",
       "    <tr>\n",
       "      <td>30488</td>\n",
       "      <td>179.683422</td>\n",
       "      <td>148.507064</td>\n",
       "      <td>8.085754e+07</td>\n",
       "      <td>0</td>\n",
       "    </tr>\n",
       "    <tr>\n",
       "      <td>98799</td>\n",
       "      <td>95.396917</td>\n",
       "      <td>148.481767</td>\n",
       "      <td>4.292861e+07</td>\n",
       "      <td>0</td>\n",
       "    </tr>\n",
       "    <tr>\n",
       "      <td>53840</td>\n",
       "      <td>160.361464</td>\n",
       "      <td>148.476498</td>\n",
       "      <td>7.216266e+07</td>\n",
       "      <td>0</td>\n",
       "    </tr>\n",
       "    <tr>\n",
       "      <td>4638</td>\n",
       "      <td>102.186603</td>\n",
       "      <td>148.436761</td>\n",
       "      <td>4.598397e+07</td>\n",
       "      <td>0</td>\n",
       "    </tr>\n",
       "    <tr>\n",
       "      <td>75908</td>\n",
       "      <td>119.890261</td>\n",
       "      <td>148.365941</td>\n",
       "      <td>5.395062e+07</td>\n",
       "      <td>0</td>\n",
       "    </tr>\n",
       "  </tbody>\n",
       "</table>\n",
       "<p>200 rows × 4 columns</p>\n",
       "</div>"
      ],
      "text/plain": [
       "          product   predicted        profit  region\n",
       "93073  162.810993  180.180713  7.326495e+07       0\n",
       "46784  153.639837  176.252213  6.913793e+07       0\n",
       "78948  162.153488  175.850623  7.296907e+07       0\n",
       "43388   96.893581  175.658429  4.360211e+07       0\n",
       "6496   178.879516  173.299686  8.049578e+07       0\n",
       "...           ...         ...           ...     ...\n",
       "30488  179.683422  148.507064  8.085754e+07       0\n",
       "98799   95.396917  148.481767  4.292861e+07       0\n",
       "53840  160.361464  148.476498  7.216266e+07       0\n",
       "4638   102.186603  148.436761  4.598397e+07       0\n",
       "75908  119.890261  148.365941  5.395062e+07       0\n",
       "\n",
       "[200 rows x 4 columns]"
      ]
     },
     "execution_count": 56,
     "metadata": {},
     "output_type": "execute_result"
    }
   ],
   "source": [
    "max_pred_df0 = region_df0.sort_values(by='predicted', ascending=False)[:200]\n",
    "max_pred_df0"
   ]
  },
  {
   "cell_type": "code",
   "execution_count": 57,
   "metadata": {},
   "outputs": [
    {
     "data": {
      "text/html": [
       "<div>\n",
       "<style scoped>\n",
       "    .dataframe tbody tr th:only-of-type {\n",
       "        vertical-align: middle;\n",
       "    }\n",
       "\n",
       "    .dataframe tbody tr th {\n",
       "        vertical-align: top;\n",
       "    }\n",
       "\n",
       "    .dataframe thead th {\n",
       "        text-align: right;\n",
       "    }\n",
       "</style>\n",
       "<table border=\"1\" class=\"dataframe\">\n",
       "  <thead>\n",
       "    <tr style=\"text-align: right;\">\n",
       "      <th></th>\n",
       "      <th>product</th>\n",
       "      <th>predicted</th>\n",
       "      <th>profit</th>\n",
       "      <th>region</th>\n",
       "    </tr>\n",
       "  </thead>\n",
       "  <tbody>\n",
       "    <tr>\n",
       "      <td>38665</td>\n",
       "      <td>137.945408</td>\n",
       "      <td>139.818970</td>\n",
       "      <td>6.207543e+07</td>\n",
       "      <td>1</td>\n",
       "    </tr>\n",
       "    <tr>\n",
       "      <td>20191</td>\n",
       "      <td>137.945408</td>\n",
       "      <td>139.773423</td>\n",
       "      <td>6.207543e+07</td>\n",
       "      <td>1</td>\n",
       "    </tr>\n",
       "    <tr>\n",
       "      <td>14041</td>\n",
       "      <td>137.945408</td>\n",
       "      <td>139.703330</td>\n",
       "      <td>6.207543e+07</td>\n",
       "      <td>1</td>\n",
       "    </tr>\n",
       "    <tr>\n",
       "      <td>24274</td>\n",
       "      <td>137.945408</td>\n",
       "      <td>139.560938</td>\n",
       "      <td>6.207543e+07</td>\n",
       "      <td>1</td>\n",
       "    </tr>\n",
       "    <tr>\n",
       "      <td>92782</td>\n",
       "      <td>137.945408</td>\n",
       "      <td>139.516754</td>\n",
       "      <td>6.207543e+07</td>\n",
       "      <td>1</td>\n",
       "    </tr>\n",
       "    <tr>\n",
       "      <td>...</td>\n",
       "      <td>...</td>\n",
       "      <td>...</td>\n",
       "      <td>...</td>\n",
       "      <td>...</td>\n",
       "    </tr>\n",
       "    <tr>\n",
       "      <td>13370</td>\n",
       "      <td>137.945408</td>\n",
       "      <td>138.421423</td>\n",
       "      <td>6.207543e+07</td>\n",
       "      <td>1</td>\n",
       "    </tr>\n",
       "    <tr>\n",
       "      <td>45823</td>\n",
       "      <td>137.945408</td>\n",
       "      <td>138.416960</td>\n",
       "      <td>6.207543e+07</td>\n",
       "      <td>1</td>\n",
       "    </tr>\n",
       "    <tr>\n",
       "      <td>86987</td>\n",
       "      <td>137.945408</td>\n",
       "      <td>138.413881</td>\n",
       "      <td>6.207543e+07</td>\n",
       "      <td>1</td>\n",
       "    </tr>\n",
       "    <tr>\n",
       "      <td>72313</td>\n",
       "      <td>137.945408</td>\n",
       "      <td>138.412834</td>\n",
       "      <td>6.207543e+07</td>\n",
       "      <td>1</td>\n",
       "    </tr>\n",
       "    <tr>\n",
       "      <td>59892</td>\n",
       "      <td>137.945408</td>\n",
       "      <td>138.410697</td>\n",
       "      <td>6.207543e+07</td>\n",
       "      <td>1</td>\n",
       "    </tr>\n",
       "  </tbody>\n",
       "</table>\n",
       "<p>200 rows × 4 columns</p>\n",
       "</div>"
      ],
      "text/plain": [
       "          product   predicted        profit  region\n",
       "38665  137.945408  139.818970  6.207543e+07       1\n",
       "20191  137.945408  139.773423  6.207543e+07       1\n",
       "14041  137.945408  139.703330  6.207543e+07       1\n",
       "24274  137.945408  139.560938  6.207543e+07       1\n",
       "92782  137.945408  139.516754  6.207543e+07       1\n",
       "...           ...         ...           ...     ...\n",
       "13370  137.945408  138.421423  6.207543e+07       1\n",
       "45823  137.945408  138.416960  6.207543e+07       1\n",
       "86987  137.945408  138.413881  6.207543e+07       1\n",
       "72313  137.945408  138.412834  6.207543e+07       1\n",
       "59892  137.945408  138.410697  6.207543e+07       1\n",
       "\n",
       "[200 rows x 4 columns]"
      ]
     },
     "execution_count": 57,
     "metadata": {},
     "output_type": "execute_result"
    }
   ],
   "source": [
    "max_pred_df1 = region_df1.sort_values(by='predicted', ascending=False)[:200]\n",
    "max_pred_df1"
   ]
  },
  {
   "cell_type": "code",
   "execution_count": 58,
   "metadata": {},
   "outputs": [
    {
     "data": {
      "text/html": [
       "<div>\n",
       "<style scoped>\n",
       "    .dataframe tbody tr th:only-of-type {\n",
       "        vertical-align: middle;\n",
       "    }\n",
       "\n",
       "    .dataframe tbody tr th {\n",
       "        vertical-align: top;\n",
       "    }\n",
       "\n",
       "    .dataframe thead th {\n",
       "        text-align: right;\n",
       "    }\n",
       "</style>\n",
       "<table border=\"1\" class=\"dataframe\">\n",
       "  <thead>\n",
       "    <tr style=\"text-align: right;\">\n",
       "      <th></th>\n",
       "      <th>product</th>\n",
       "      <th>predicted</th>\n",
       "      <th>profit</th>\n",
       "      <th>region</th>\n",
       "    </tr>\n",
       "  </thead>\n",
       "  <tbody>\n",
       "    <tr>\n",
       "      <td>98619</td>\n",
       "      <td>175.103291</td>\n",
       "      <td>165.856833</td>\n",
       "      <td>7.879648e+07</td>\n",
       "      <td>2</td>\n",
       "    </tr>\n",
       "    <tr>\n",
       "      <td>46649</td>\n",
       "      <td>131.627481</td>\n",
       "      <td>165.679685</td>\n",
       "      <td>5.923237e+07</td>\n",
       "      <td>2</td>\n",
       "    </tr>\n",
       "    <tr>\n",
       "      <td>82661</td>\n",
       "      <td>141.160070</td>\n",
       "      <td>163.439962</td>\n",
       "      <td>6.352203e+07</td>\n",
       "      <td>2</td>\n",
       "    </tr>\n",
       "    <tr>\n",
       "      <td>53151</td>\n",
       "      <td>159.676082</td>\n",
       "      <td>162.062589</td>\n",
       "      <td>7.185424e+07</td>\n",
       "      <td>2</td>\n",
       "    </tr>\n",
       "    <tr>\n",
       "      <td>18747</td>\n",
       "      <td>142.135203</td>\n",
       "      <td>161.797476</td>\n",
       "      <td>6.396084e+07</td>\n",
       "      <td>2</td>\n",
       "    </tr>\n",
       "    <tr>\n",
       "      <td>...</td>\n",
       "      <td>...</td>\n",
       "      <td>...</td>\n",
       "      <td>...</td>\n",
       "      <td>...</td>\n",
       "    </tr>\n",
       "    <tr>\n",
       "      <td>66244</td>\n",
       "      <td>104.949568</td>\n",
       "      <td>142.490763</td>\n",
       "      <td>4.722731e+07</td>\n",
       "      <td>2</td>\n",
       "    </tr>\n",
       "    <tr>\n",
       "      <td>34285</td>\n",
       "      <td>89.492500</td>\n",
       "      <td>142.485922</td>\n",
       "      <td>4.027162e+07</td>\n",
       "      <td>2</td>\n",
       "    </tr>\n",
       "    <tr>\n",
       "      <td>36778</td>\n",
       "      <td>184.895101</td>\n",
       "      <td>142.465777</td>\n",
       "      <td>8.320280e+07</td>\n",
       "      <td>2</td>\n",
       "    </tr>\n",
       "    <tr>\n",
       "      <td>7806</td>\n",
       "      <td>137.480469</td>\n",
       "      <td>142.454763</td>\n",
       "      <td>6.186621e+07</td>\n",
       "      <td>2</td>\n",
       "    </tr>\n",
       "    <tr>\n",
       "      <td>62558</td>\n",
       "      <td>134.507140</td>\n",
       "      <td>142.408851</td>\n",
       "      <td>6.052821e+07</td>\n",
       "      <td>2</td>\n",
       "    </tr>\n",
       "  </tbody>\n",
       "</table>\n",
       "<p>200 rows × 4 columns</p>\n",
       "</div>"
      ],
      "text/plain": [
       "          product   predicted        profit  region\n",
       "98619  175.103291  165.856833  7.879648e+07       2\n",
       "46649  131.627481  165.679685  5.923237e+07       2\n",
       "82661  141.160070  163.439962  6.352203e+07       2\n",
       "53151  159.676082  162.062589  7.185424e+07       2\n",
       "18747  142.135203  161.797476  6.396084e+07       2\n",
       "...           ...         ...           ...     ...\n",
       "66244  104.949568  142.490763  4.722731e+07       2\n",
       "34285   89.492500  142.485922  4.027162e+07       2\n",
       "36778  184.895101  142.465777  8.320280e+07       2\n",
       "7806   137.480469  142.454763  6.186621e+07       2\n",
       "62558  134.507140  142.408851  6.052821e+07       2\n",
       "\n",
       "[200 rows x 4 columns]"
      ]
     },
     "execution_count": 58,
     "metadata": {},
     "output_type": "execute_result"
    }
   ],
   "source": [
    "max_pred_df2 = region_df2.sort_values(by='predicted', ascending=False)[:200]\n",
    "max_pred_df2"
   ]
  },
  {
   "cell_type": "markdown",
   "metadata": {},
   "source": [
    "### Просуммируем целевое значение объёма сырья, соответствующее этим предсказаниям"
   ]
  },
  {
   "cell_type": "code",
   "execution_count": 59,
   "metadata": {},
   "outputs": [
    {
     "name": "stdout",
     "output_type": "stream",
     "text": [
      "Целевое значение объёма сырья DataFrame_0: 29601 тыс.баррелей\n",
      "Целевое значение объёма сырья DataFrame_1: 27589 тыс.баррелей\n",
      "Целевое значение объёма сырья DataFrame_2: 28245 тыс.баррелей\n"
     ]
    }
   ],
   "source": [
    "sum_oil_df0 = math.floor(max_pred_df0['product'].sum())\n",
    "print(f'Целевое значение объёма сырья DataFrame_0: { sum_oil_df0 } тыс.баррелей')\n",
    "sum_oil_df1 = math.floor(max_pred_df1['product'].sum())\n",
    "print(f'Целевое значение объёма сырья DataFrame_1: { sum_oil_df1 } тыс.баррелей')\n",
    "sum_oil_df2 = math.floor(max_pred_df2['product'].sum())\n",
    "print(f'Целевое значение объёма сырья DataFrame_2: { sum_oil_df2 } тыс.баррелей')"
   ]
  },
  {
   "cell_type": "markdown",
   "metadata": {},
   "source": [
    "### Рассчитаем прибыль для полученного объёма сырья  в млрд. руб."
   ]
  },
  {
   "cell_type": "code",
   "execution_count": 60,
   "metadata": {},
   "outputs": [
    {
     "name": "stdout",
     "output_type": "stream",
     "text": [
      "Прибыль для полученного объёма сырья DataFrame_0: 3.3205 млрд.руб.\n",
      "Прибыль для полученного объёма сырья DataFrame_1: 2.4150 млрд.руб.\n",
      "Прибыль для полученного объёма сырья DataFrame_2: 2.7102 млрд.руб.\n"
     ]
    }
   ],
   "source": [
    "profit_df0 = round(((sum_oil_df0 * price_one_thousand_barrels) - budget)/1_000_000_000,4)\n",
    "print('Прибыль для полученного объёма сырья DataFrame_0: {:.4f} млрд.руб.'.format(profit_df0))\n",
    "profit_df1 = round(((sum_oil_df1 * price_one_thousand_barrels) - budget)/1_000_000_000,4)\n",
    "print('Прибыль для полученного объёма сырья DataFrame_1: {:.4f} млрд.руб.'.format(profit_df1))\n",
    "profit_df2 = round(((sum_oil_df2 * price_one_thousand_barrels) - budget)/1_000_000_000,4)\n",
    "print('Прибыль для полученного объёма сырья DataFrame_2: {:.4f} млрд.руб.'.format(profit_df2))"
   ]
  },
  {
   "cell_type": "markdown",
   "metadata": {},
   "source": [
    "### Выводы"
   ]
  },
  {
   "cell_type": "markdown",
   "metadata": {},
   "source": [
    "Отобрали по 200 скважин в каждом регионе с наибольшей мощностью которую предсказала модель. Просуммировали реальные данные по этим скажинам. Посчитали прибыль путём вычитания из всех денег которые принесут все скважины, бюджета на разработку в данном регионе. По предварительным данным в каждой регионе прибыль от разработки от 2,4 до 3,32 миллиарда рублей."
   ]
  },
  {
   "cell_type": "markdown",
   "metadata": {},
   "source": [
    "# 5. Посчитаем риски и прибыль для каждого региона"
   ]
  },
  {
   "cell_type": "markdown",
   "metadata": {},
   "source": [
    "### Применим технику Bootstrap с 1000 выборок, чтобы найти распределение прибыли "
   ]
  },
  {
   "cell_type": "code",
   "execution_count": 61,
   "metadata": {},
   "outputs": [],
   "source": [
    "\n",
    "def get_values(df):\n",
    "    global budget\n",
    "    state = np.random.RandomState(12345)\n",
    "    values = []\n",
    "    for i in range(1000): \n",
    "        data = df.sample(n=500, random_state=state, replace=True)\n",
    "        max_pred = data.sort_values(by='predicted', ascending=False)[:200]\n",
    "        income = (max_pred['profit'].sum() - budget)/1_000_000_000\n",
    "        values.append(income)\n",
    "    values = pd.Series(values)\n",
    "    lower = values.quantile(0.025)\n",
    "    hight = values.quantile(0.975)\n",
    "    loss = values[values<0]\n",
    "    mean = values.mean()\n",
    "    print(\"Средняя прибыль: {:.6f} млрд.руб.\".format(mean))\n",
    "    print(\"2,5%-квантиль: {:.6f} млрд.руб.\".format(lower))\n",
    "    print(\"97,5%-квантиль: {:.6f} млрд.руб.\".format(hight))\n",
    "    print(\"Количество убыточных экспериментов:\", loss.count())\n",
    "    print(\"Вероятность убытков: {:.2%}\".format(loss.count()/len(values)))\n",
    "    print(\"Максимальный убыток:\", loss.min())\n",
    "    print(\"Максимальная прибыль:\", values.max())\n",
    "    print(\"Количество экспериментов:\", len(values))"
   ]
  },
  {
   "cell_type": "code",
   "execution_count": 62,
   "metadata": {},
   "outputs": [
    {
     "name": "stdout",
     "output_type": "stream",
     "text": [
      "Регион DataFrame_0:\n",
      "Средняя прибыль: 0.396165 млрд.руб.\n",
      "2,5%-квантиль: -0.111216 млрд.руб.\n",
      "97,5%-квантиль: 0.909767 млрд.руб.\n",
      "Количество убыточных экспериментов: 69\n",
      "Вероятность убытков: 6.90%\n",
      "Максимальный убыток: -0.3695671193500767\n",
      "Максимальная прибыль: 1.3492668656302222\n",
      "Количество экспериментов: 1000\n"
     ]
    }
   ],
   "source": [
    "print('Регион DataFrame_0:')\n",
    "get_values(region_df0)"
   ]
  },
  {
   "cell_type": "markdown",
   "metadata": {},
   "source": [
    "##### Мои значения  Регион DataFrame_0:  \n",
    "  \n",
    "Средняя прибыль: 0.396165 млрд.руб.  \n",
    "2,5%-квантиль: -0.111216 млрд.руб.  \n",
    "97,5%-квантиль: 0.909767 млрд.руб.  \n",
    "Количество убыточных экспериментов: 69  \n",
    "Вероятность убытков: 6.90%  \n",
    "Максимальный убыток: -0.3695671193500767  \n",
    "Максимальная прибыль: 1.3492668656302222  \n",
    "Количество экспериментов: 1000  "
   ]
  },
  {
   "cell_type": "code",
   "execution_count": 63,
   "metadata": {},
   "outputs": [
    {
     "name": "stdout",
     "output_type": "stream",
     "text": [
      "Регион DataFrame_1:\n",
      "Средняя прибыль: 0.456045 млрд.руб.\n",
      "2,5%-квантиль: 0.033821 млрд.руб.\n",
      "97,5%-квантиль: 0.852289 млрд.руб.\n",
      "Количество убыточных экспериментов: 15\n",
      "Вероятность убытков: 1.50%\n",
      "Максимальный убыток: -0.1922681091210556\n",
      "Максимальная прибыль: 1.1540472794043521\n",
      "Количество экспериментов: 1000\n"
     ]
    }
   ],
   "source": [
    "print('Регион DataFrame_1:')\n",
    "get_values(region_df1)"
   ]
  },
  {
   "cell_type": "markdown",
   "metadata": {},
   "source": [
    "##### Мои значения  Регион DataFrame_1:  \n",
    "  \n",
    "Средняя прибыль: 0.456045 млрд.руб.  \n",
    "2,5%-квантиль: 0.033821 млрд.руб.  \n",
    "97,5%-квантиль: 0.852289 млрд.руб.  \n",
    "Количество убыточных экспериментов: 15  \n",
    "Вероятность убытков: 1.50%  \n",
    "Максимальный убыток: -0.1922681091210556  \n",
    "Максимальная прибыль: 1.1540472794043521  \n",
    "Количество экспериментов: 1000"
   ]
  },
  {
   "cell_type": "code",
   "execution_count": 64,
   "metadata": {},
   "outputs": [
    {
     "name": "stdout",
     "output_type": "stream",
     "text": [
      "Регион DataFrame_2:\n",
      "Средняя прибыль: 0.404404 млрд.руб.\n",
      "2,5%-квантиль: -0.163350 млрд.руб.\n",
      "97,5%-квантиль: 0.950360 млрд.руб.\n",
      "Количество убыточных экспериментов: 76\n",
      "Вероятность убытков: 7.60%\n",
      "Максимальный убыток: -0.4178569542016144\n",
      "Максимальная прибыль: 1.3305932187701168\n",
      "Количество экспериментов: 1000\n"
     ]
    }
   ],
   "source": [
    "print('Регион DataFrame_2:')\n",
    "get_values(region_df2)"
   ]
  },
  {
   "cell_type": "markdown",
   "metadata": {},
   "source": [
    "##### Мои значения  Регион DataFrame_2:    \n",
    "  \n",
    "Средняя прибыль: 0.404404 млрд.руб.  \n",
    "2,5%-квантиль: -0.163350 млрд.руб.  \n",
    "97,5%-квантиль: 0.950360 млрд.руб.  \n",
    "Количество убыточных экспериментов: 76  \n",
    "Вероятность убытков: 7.60%  \n",
    "Максимальный убыток: -0.4178569542016144  \n",
    "Максимальная прибыль: 1.3305932187701168  \n",
    "Количество экспериментов: 1000"
   ]
  },
  {
   "cell_type": "markdown",
   "metadata": {},
   "source": [
    "### Вывод  \n"
   ]
  },
  {
   "cell_type": "markdown",
   "metadata": {},
   "source": [
    "Судя по данным если брать 500 скважин произвольным образом, и из них 200 то в любом регионе прибыль будет, но не такая высокая как если брать по предсказанным моделью:  \n",
    "  \n",
    "Прибыль DataFrame_0: 3.3205 млрд.руб.  \n",
    "Прибыль DataFrame_1: 2.4150 млрд.руб.  \n",
    "Прибыль DataFrame_2: 2.7102 млрд.руб.  \n",
    "  \n",
    "По предсказанию модели лидер по прибыли DataFrame_0: 3.3205 млрд.руб. \n",
    "\n",
    "У региона с DataFrame_1 вероятность убытков всего 1.5% и в пределах доверительного интервала 95% добыча все равно остаётся без убыточной, тем более средняя прибыль выше чем в других регионах:  \n",
    "  \n",
    "Средняя прибыль DataFrame_0: 0.396165 млрд.руб.  \n",
    "Средняя прибыль DataFrame_1: 0.456045 млрд.руб.\n",
    "Средняя прибыль DataFrame_2: 0.404404 млрд.руб."
   ]
  },
  {
   "cell_type": "markdown",
   "metadata": {},
   "source": [
    "## Общие выводы работы  \n"
   ]
  },
  {
   "cell_type": "markdown",
   "metadata": {
    "pycharm": {
     "name": "#%% md\n"
    }
   },
   "source": [
    "На первом шаге, провели разведочный анализ, посмотрели на данные, построили графики. Проверка на корреляцию показала в DataFrame_1 очень сильную связь между целевым признаком и признаком-столбцом \"f2\".  \n",
    "  \n",
    "Далее была разработана и обучены три модели Линейной регрессии, параметры подобраны с помощью GridSearchCV для каждого датасета.  \n",
    "\n",
    "#### Параметры лучших моделей:  \n",
    "  \n",
    "Параметры лучше модели DataFrame_0: {'copy_X': True, 'fit_intercept': True, 'normalize': False}\n",
    "\n",
    "Параметры лучше модели DataFrame_1: {'copy_X': True, 'fit_intercept': True, 'normalize': True}\n",
    "\n",
    "Параметры лучше модели DataFrame_2: {'copy_X': True, 'fit_intercept': True, 'normalize': True}  \n",
    "  \n",
    "#### Метрики полученных результатов  \n",
    "    \n",
    "| DataFrame, № | RMSE | R2 | MAE | MAE_media | Среднее фактическое, тыс.баррелей | Среднее предсказанное, тыс.баррелей  | Отклонение % |\n",
    "| ------------|--------:|-------:|--------:|--------:|---------:| ------ :| -----:|\n",
    "| 0           | 37.5794 | 0.2799 | 30.9196 | 37.6718 | 92.5000  | 92.5926 | 0.10% |\n",
    "| 1           | 0.8931  | 0.9996 |  0.7188 | 40.2655 | 68.8250  | 68.7285 | 0.14% |     \n",
    "| 2           | 40.0297 | 0.2052 | 32.7927 | 37.9210 | 95.0000  | 94.9650 | 0.04% |  \n",
    "\n",
    "По таблице видно, что лидер по метрикам модель для DataFrame_1. Низкое RMSE = 0.8931 и MAE = 0.7188, и высокий коэффициент детерминации R2 = 0.9996, хоть и предсказанное и фактическое значения добычи ниже чем в других регионах. \n",
    "  \n",
    "Далее была посчитана прибыль по предсказанниям моделей:  \n",
    "  \n",
    "Прибыль DataFrame_0: 3.3205 млрд.руб.  \n",
    "Прибыль DataFrame_1: 2.4150 млрд.руб.  \n",
    "Прибыль DataFrame_2: 2.7102 млрд.руб.  \n",
    "  \n",
    "Хоть здесь и лидер DataFrame_0: 3.3205 млрд.руб всё же техника Bootstrap\n",
    "показывает не высокие риски разрабатывать в этом регионе 6,9%.\n",
    "  \n",
    "Судя по анализу Bootstrap даёт нам явно понять, что регион DataFrame_1,\n",
    "будет предпочтительнее, так как при разработке 200 скважин, вероятность убытков\n",
    "наименьшая."
   ]
  }
 ],
 "metadata": {
  "kernelspec": {
   "display_name": "Python 3",
   "language": "python",
   "name": "python3"
  },
  "language_info": {
   "codemirror_mode": {
    "name": "ipython",
    "version": 3
   },
   "file_extension": ".py",
   "mimetype": "text/x-python",
   "name": "python",
   "nbconvert_exporter": "python",
   "pygments_lexer": "ipython3",
   "version": "3.7.8"
  },
  "toc": {
   "base_numbering": 1,
   "nav_menu": {},
   "number_sections": true,
   "sideBar": true,
   "skip_h1_title": false,
   "title_cell": "Table of Contents",
   "title_sidebar": "Contents",
   "toc_cell": false,
   "toc_position": {},
   "toc_section_display": true,
   "toc_window_display": false
  }
 },
 "nbformat": 4,
 "nbformat_minor": 2
}