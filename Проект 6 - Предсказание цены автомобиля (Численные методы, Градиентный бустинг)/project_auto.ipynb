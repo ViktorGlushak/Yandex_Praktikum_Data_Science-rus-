{
 "cells": [
  {
   "cell_type": "markdown",
   "metadata": {},
   "source": [
    "## Описание проекта\n",
    "\n",
    "Сервис по продаже автомобилей с пробегом разрабатывает приложение\n",
    "для привлечения новых клиентов. В нём можно быстро узнать рыночную\n",
    "стоимость своего автомобиля. В вашем распоряжении исторические данные:\n",
    "технические характеристики, комплектации и цены автомобилей.\n",
    "Вам нужно построить модель для определения стоимости.\n",
    "\n",
    "Заказчику важны:\n",
    "\n",
    "- качество предсказания;\n",
    "- скорость предсказания;\n",
    "- время обучения."
   ]
  },
  {
   "cell_type": "markdown",
   "metadata": {},
   "source": [
    "### Описание данных  \n",
    "  \n",
    "#### Признаки  \n",
    "  \n",
    "- DateCrawled — дата скачивания анкеты из базы\n",
    "- VehicleType — тип автомобильного кузова\n",
    "- RegistrationYear — год регистрации автомобиля\n",
    "- Gearbox — тип коробки передач\n",
    "- Power — мощность (л. с.)\n",
    "- Model — модель автомобиля\n",
    "- Kilometer — пробег (км)\n",
    "- RegistrationMonth — месяц регистрации автомобиля\n",
    "- FuelType — тип топлива\n",
    "- Brand — марка автомобиля\n",
    "- NotRepaired — была машина в ремонте или нет\n",
    "- DateCreated — дата создания анкеты\n",
    "- NumberOfPictures — количество фотографий автомобиля\n",
    "- PostalCode — почтовый индекс владельца анкеты (пользователя)\n",
    "- LastSeen — дата последней активности пользователя \n",
    "\n",
    "#### Целевой признак\n",
    "- Price — цена (евро)"
   ]
  },
  {
   "cell_type": "markdown",
   "metadata": {},
   "source": [
    "### План работы  \n",
    "  \n",
    "##### Шаг 1. Откроем, изучим и подготовим данные  \n",
    "  \n",
    "##### Шаг 2. Обучим разные модели. Для каждой попробуем различные гиперпараметры. \n",
    "  \n",
    "##### Шаг 3. Проанализируем скорость работы и качество моделей."
   ]
  },
  {
   "cell_type": "markdown",
   "metadata": {},
   "source": [
    "# 1. Откроем, изучим и подготовим данные  "
   ]
  },
  {
   "cell_type": "code",
   "execution_count": 1,
   "metadata": {},
   "outputs": [],
   "source": [
    "import math\n",
    "import numpy as np\n",
    "import pandas as pd\n",
    "import seaborn as sns\n",
    "import matplotlib.pyplot as plt\n",
    "from sklearn.model_selection import train_test_split\n",
    "from sklearn.preprocessing import StandardScaler\n",
    "from sklearn.metrics import mean_squared_error\n",
    "import warnings\n",
    "warnings.filterwarnings(\"ignore\")"
   ]
  },
  {
   "cell_type": "code",
   "execution_count": 2,
   "metadata": {},
   "outputs": [
    {
     "name": "stdout",
     "output_type": "stream",
     "text": [
      "Размер датасета: (354369, 16)\n"
     ]
    }
   ],
   "source": [
    "df = pd.read_csv('/datasets/autos.csv')\n",
    "print('Размер датасета:', df.shape)"
   ]
  },
  {
   "cell_type": "code",
   "execution_count": 3,
   "metadata": {},
   "outputs": [
    {
     "data": {
      "text/html": [
       "<div>\n",
       "<style scoped>\n",
       "    .dataframe tbody tr th:only-of-type {\n",
       "        vertical-align: middle;\n",
       "    }\n",
       "\n",
       "    .dataframe tbody tr th {\n",
       "        vertical-align: top;\n",
       "    }\n",
       "\n",
       "    .dataframe thead th {\n",
       "        text-align: right;\n",
       "    }\n",
       "</style>\n",
       "<table border=\"1\" class=\"dataframe\">\n",
       "  <thead>\n",
       "    <tr style=\"text-align: right;\">\n",
       "      <th></th>\n",
       "      <th>DateCrawled</th>\n",
       "      <th>Price</th>\n",
       "      <th>VehicleType</th>\n",
       "      <th>RegistrationYear</th>\n",
       "      <th>Gearbox</th>\n",
       "      <th>Power</th>\n",
       "      <th>Model</th>\n",
       "      <th>Kilometer</th>\n",
       "      <th>RegistrationMonth</th>\n",
       "      <th>FuelType</th>\n",
       "      <th>Brand</th>\n",
       "      <th>NotRepaired</th>\n",
       "      <th>DateCreated</th>\n",
       "      <th>NumberOfPictures</th>\n",
       "      <th>PostalCode</th>\n",
       "      <th>LastSeen</th>\n",
       "    </tr>\n",
       "  </thead>\n",
       "  <tbody>\n",
       "    <tr>\n",
       "      <td>0</td>\n",
       "      <td>2016-03-24 11:52:17</td>\n",
       "      <td>480</td>\n",
       "      <td>NaN</td>\n",
       "      <td>1993</td>\n",
       "      <td>manual</td>\n",
       "      <td>0</td>\n",
       "      <td>golf</td>\n",
       "      <td>150000</td>\n",
       "      <td>0</td>\n",
       "      <td>petrol</td>\n",
       "      <td>volkswagen</td>\n",
       "      <td>NaN</td>\n",
       "      <td>2016-03-24 00:00:00</td>\n",
       "      <td>0</td>\n",
       "      <td>70435</td>\n",
       "      <td>2016-04-07 03:16:57</td>\n",
       "    </tr>\n",
       "    <tr>\n",
       "      <td>1</td>\n",
       "      <td>2016-03-24 10:58:45</td>\n",
       "      <td>18300</td>\n",
       "      <td>coupe</td>\n",
       "      <td>2011</td>\n",
       "      <td>manual</td>\n",
       "      <td>190</td>\n",
       "      <td>NaN</td>\n",
       "      <td>125000</td>\n",
       "      <td>5</td>\n",
       "      <td>gasoline</td>\n",
       "      <td>audi</td>\n",
       "      <td>yes</td>\n",
       "      <td>2016-03-24 00:00:00</td>\n",
       "      <td>0</td>\n",
       "      <td>66954</td>\n",
       "      <td>2016-04-07 01:46:50</td>\n",
       "    </tr>\n",
       "    <tr>\n",
       "      <td>2</td>\n",
       "      <td>2016-03-14 12:52:21</td>\n",
       "      <td>9800</td>\n",
       "      <td>suv</td>\n",
       "      <td>2004</td>\n",
       "      <td>auto</td>\n",
       "      <td>163</td>\n",
       "      <td>grand</td>\n",
       "      <td>125000</td>\n",
       "      <td>8</td>\n",
       "      <td>gasoline</td>\n",
       "      <td>jeep</td>\n",
       "      <td>NaN</td>\n",
       "      <td>2016-03-14 00:00:00</td>\n",
       "      <td>0</td>\n",
       "      <td>90480</td>\n",
       "      <td>2016-04-05 12:47:46</td>\n",
       "    </tr>\n",
       "    <tr>\n",
       "      <td>3</td>\n",
       "      <td>2016-03-17 16:54:04</td>\n",
       "      <td>1500</td>\n",
       "      <td>small</td>\n",
       "      <td>2001</td>\n",
       "      <td>manual</td>\n",
       "      <td>75</td>\n",
       "      <td>golf</td>\n",
       "      <td>150000</td>\n",
       "      <td>6</td>\n",
       "      <td>petrol</td>\n",
       "      <td>volkswagen</td>\n",
       "      <td>no</td>\n",
       "      <td>2016-03-17 00:00:00</td>\n",
       "      <td>0</td>\n",
       "      <td>91074</td>\n",
       "      <td>2016-03-17 17:40:17</td>\n",
       "    </tr>\n",
       "    <tr>\n",
       "      <td>4</td>\n",
       "      <td>2016-03-31 17:25:20</td>\n",
       "      <td>3600</td>\n",
       "      <td>small</td>\n",
       "      <td>2008</td>\n",
       "      <td>manual</td>\n",
       "      <td>69</td>\n",
       "      <td>fabia</td>\n",
       "      <td>90000</td>\n",
       "      <td>7</td>\n",
       "      <td>gasoline</td>\n",
       "      <td>skoda</td>\n",
       "      <td>no</td>\n",
       "      <td>2016-03-31 00:00:00</td>\n",
       "      <td>0</td>\n",
       "      <td>60437</td>\n",
       "      <td>2016-04-06 10:17:21</td>\n",
       "    </tr>\n",
       "  </tbody>\n",
       "</table>\n",
       "</div>"
      ],
      "text/plain": [
       "           DateCrawled  Price VehicleType  RegistrationYear Gearbox  Power  \\\n",
       "0  2016-03-24 11:52:17    480         NaN              1993  manual      0   \n",
       "1  2016-03-24 10:58:45  18300       coupe              2011  manual    190   \n",
       "2  2016-03-14 12:52:21   9800         suv              2004    auto    163   \n",
       "3  2016-03-17 16:54:04   1500       small              2001  manual     75   \n",
       "4  2016-03-31 17:25:20   3600       small              2008  manual     69   \n",
       "\n",
       "   Model  Kilometer  RegistrationMonth  FuelType       Brand NotRepaired  \\\n",
       "0   golf     150000                  0    petrol  volkswagen         NaN   \n",
       "1    NaN     125000                  5  gasoline        audi         yes   \n",
       "2  grand     125000                  8  gasoline        jeep         NaN   \n",
       "3   golf     150000                  6    petrol  volkswagen          no   \n",
       "4  fabia      90000                  7  gasoline       skoda          no   \n",
       "\n",
       "           DateCreated  NumberOfPictures  PostalCode             LastSeen  \n",
       "0  2016-03-24 00:00:00                 0       70435  2016-04-07 03:16:57  \n",
       "1  2016-03-24 00:00:00                 0       66954  2016-04-07 01:46:50  \n",
       "2  2016-03-14 00:00:00                 0       90480  2016-04-05 12:47:46  \n",
       "3  2016-03-17 00:00:00                 0       91074  2016-03-17 17:40:17  \n",
       "4  2016-03-31 00:00:00                 0       60437  2016-04-06 10:17:21  "
      ]
     },
     "execution_count": 3,
     "metadata": {},
     "output_type": "execute_result"
    }
   ],
   "source": [
    "df.head()"
   ]
  },
  {
   "cell_type": "code",
   "execution_count": 4,
   "metadata": {},
   "outputs": [
    {
     "data": {
      "text/html": [
       "<div>\n",
       "<style scoped>\n",
       "    .dataframe tbody tr th:only-of-type {\n",
       "        vertical-align: middle;\n",
       "    }\n",
       "\n",
       "    .dataframe tbody tr th {\n",
       "        vertical-align: top;\n",
       "    }\n",
       "\n",
       "    .dataframe thead th {\n",
       "        text-align: right;\n",
       "    }\n",
       "</style>\n",
       "<table border=\"1\" class=\"dataframe\">\n",
       "  <thead>\n",
       "    <tr style=\"text-align: right;\">\n",
       "      <th></th>\n",
       "      <th>Price</th>\n",
       "      <th>RegistrationYear</th>\n",
       "      <th>Power</th>\n",
       "      <th>Kilometer</th>\n",
       "      <th>RegistrationMonth</th>\n",
       "      <th>NumberOfPictures</th>\n",
       "      <th>PostalCode</th>\n",
       "    </tr>\n",
       "  </thead>\n",
       "  <tbody>\n",
       "    <tr>\n",
       "      <td>count</td>\n",
       "      <td>354369.000000</td>\n",
       "      <td>354369.000000</td>\n",
       "      <td>354369.000000</td>\n",
       "      <td>354369.000000</td>\n",
       "      <td>354369.000000</td>\n",
       "      <td>354369.0</td>\n",
       "      <td>354369.000000</td>\n",
       "    </tr>\n",
       "    <tr>\n",
       "      <td>mean</td>\n",
       "      <td>4416.656776</td>\n",
       "      <td>2004.234448</td>\n",
       "      <td>110.094337</td>\n",
       "      <td>128211.172535</td>\n",
       "      <td>5.714645</td>\n",
       "      <td>0.0</td>\n",
       "      <td>50508.689087</td>\n",
       "    </tr>\n",
       "    <tr>\n",
       "      <td>std</td>\n",
       "      <td>4514.158514</td>\n",
       "      <td>90.227958</td>\n",
       "      <td>189.850405</td>\n",
       "      <td>37905.341530</td>\n",
       "      <td>3.726421</td>\n",
       "      <td>0.0</td>\n",
       "      <td>25783.096248</td>\n",
       "    </tr>\n",
       "    <tr>\n",
       "      <td>min</td>\n",
       "      <td>0.000000</td>\n",
       "      <td>1000.000000</td>\n",
       "      <td>0.000000</td>\n",
       "      <td>5000.000000</td>\n",
       "      <td>0.000000</td>\n",
       "      <td>0.0</td>\n",
       "      <td>1067.000000</td>\n",
       "    </tr>\n",
       "    <tr>\n",
       "      <td>25%</td>\n",
       "      <td>1050.000000</td>\n",
       "      <td>1999.000000</td>\n",
       "      <td>69.000000</td>\n",
       "      <td>125000.000000</td>\n",
       "      <td>3.000000</td>\n",
       "      <td>0.0</td>\n",
       "      <td>30165.000000</td>\n",
       "    </tr>\n",
       "    <tr>\n",
       "      <td>50%</td>\n",
       "      <td>2700.000000</td>\n",
       "      <td>2003.000000</td>\n",
       "      <td>105.000000</td>\n",
       "      <td>150000.000000</td>\n",
       "      <td>6.000000</td>\n",
       "      <td>0.0</td>\n",
       "      <td>49413.000000</td>\n",
       "    </tr>\n",
       "    <tr>\n",
       "      <td>75%</td>\n",
       "      <td>6400.000000</td>\n",
       "      <td>2008.000000</td>\n",
       "      <td>143.000000</td>\n",
       "      <td>150000.000000</td>\n",
       "      <td>9.000000</td>\n",
       "      <td>0.0</td>\n",
       "      <td>71083.000000</td>\n",
       "    </tr>\n",
       "    <tr>\n",
       "      <td>max</td>\n",
       "      <td>20000.000000</td>\n",
       "      <td>9999.000000</td>\n",
       "      <td>20000.000000</td>\n",
       "      <td>150000.000000</td>\n",
       "      <td>12.000000</td>\n",
       "      <td>0.0</td>\n",
       "      <td>99998.000000</td>\n",
       "    </tr>\n",
       "  </tbody>\n",
       "</table>\n",
       "</div>"
      ],
      "text/plain": [
       "               Price  RegistrationYear          Power      Kilometer  \\\n",
       "count  354369.000000     354369.000000  354369.000000  354369.000000   \n",
       "mean     4416.656776       2004.234448     110.094337  128211.172535   \n",
       "std      4514.158514         90.227958     189.850405   37905.341530   \n",
       "min         0.000000       1000.000000       0.000000    5000.000000   \n",
       "25%      1050.000000       1999.000000      69.000000  125000.000000   \n",
       "50%      2700.000000       2003.000000     105.000000  150000.000000   \n",
       "75%      6400.000000       2008.000000     143.000000  150000.000000   \n",
       "max     20000.000000       9999.000000   20000.000000  150000.000000   \n",
       "\n",
       "       RegistrationMonth  NumberOfPictures     PostalCode  \n",
       "count      354369.000000          354369.0  354369.000000  \n",
       "mean            5.714645               0.0   50508.689087  \n",
       "std             3.726421               0.0   25783.096248  \n",
       "min             0.000000               0.0    1067.000000  \n",
       "25%             3.000000               0.0   30165.000000  \n",
       "50%             6.000000               0.0   49413.000000  \n",
       "75%             9.000000               0.0   71083.000000  \n",
       "max            12.000000               0.0   99998.000000  "
      ]
     },
     "execution_count": 4,
     "metadata": {},
     "output_type": "execute_result"
    }
   ],
   "source": [
    "df.describe()"
   ]
  },
  {
   "cell_type": "markdown",
   "metadata": {},
   "source": [
    "Колонка NumberOfPictures все нули, можно удалить.\n",
    "Price, Power имеет нули, которые тоже можно удалить.\n",
    "Power имеет слишком большие значения в максимуме 20000,\n",
    "посмотрим подробнее далее. RegistrationMonth имеет нулевые месяцы.\n",
    "RegistrationYear имеет годы более 2020 и менее 1001, что явно являются выбросами."
   ]
  },
  {
   "cell_type": "code",
   "execution_count": 5,
   "metadata": {},
   "outputs": [
    {
     "name": "stdout",
     "output_type": "stream",
     "text": [
      "<class 'pandas.core.frame.DataFrame'>\n",
      "RangeIndex: 354369 entries, 0 to 354368\n",
      "Data columns (total 16 columns):\n",
      "DateCrawled          354369 non-null object\n",
      "Price                354369 non-null int64\n",
      "VehicleType          316879 non-null object\n",
      "RegistrationYear     354369 non-null int64\n",
      "Gearbox              334536 non-null object\n",
      "Power                354369 non-null int64\n",
      "Model                334664 non-null object\n",
      "Kilometer            354369 non-null int64\n",
      "RegistrationMonth    354369 non-null int64\n",
      "FuelType             321474 non-null object\n",
      "Brand                354369 non-null object\n",
      "NotRepaired          283215 non-null object\n",
      "DateCreated          354369 non-null object\n",
      "NumberOfPictures     354369 non-null int64\n",
      "PostalCode           354369 non-null int64\n",
      "LastSeen             354369 non-null object\n",
      "dtypes: int64(7), object(9)\n",
      "memory usage: 43.3+ MB\n"
     ]
    }
   ],
   "source": [
    "df.info()"
   ]
  },
  {
   "cell_type": "markdown",
   "metadata": {},
   "source": [
    "Есть пропуски в данных. DateCrawled, DateCreated,\n",
    "LastSeen можно удалить так как это даты. NotRepaired на uint8 0 и 1."
   ]
  },
  {
   "cell_type": "code",
   "execution_count": 6,
   "metadata": {},
   "outputs": [
    {
     "data": {
      "text/html": [
       "<div>\n",
       "<style scoped>\n",
       "    .dataframe tbody tr th:only-of-type {\n",
       "        vertical-align: middle;\n",
       "    }\n",
       "\n",
       "    .dataframe tbody tr th {\n",
       "        vertical-align: top;\n",
       "    }\n",
       "\n",
       "    .dataframe thead th {\n",
       "        text-align: right;\n",
       "    }\n",
       "</style>\n",
       "<table border=\"1\" class=\"dataframe\">\n",
       "  <thead>\n",
       "    <tr style=\"text-align: right;\">\n",
       "      <th></th>\n",
       "      <th>Total</th>\n",
       "      <th>Percent</th>\n",
       "    </tr>\n",
       "  </thead>\n",
       "  <tbody>\n",
       "    <tr>\n",
       "      <td>NotRepaired</td>\n",
       "      <td>71154</td>\n",
       "      <td>20.079070</td>\n",
       "    </tr>\n",
       "    <tr>\n",
       "      <td>VehicleType</td>\n",
       "      <td>37490</td>\n",
       "      <td>10.579368</td>\n",
       "    </tr>\n",
       "    <tr>\n",
       "      <td>FuelType</td>\n",
       "      <td>32895</td>\n",
       "      <td>9.282697</td>\n",
       "    </tr>\n",
       "    <tr>\n",
       "      <td>Gearbox</td>\n",
       "      <td>19833</td>\n",
       "      <td>5.596709</td>\n",
       "    </tr>\n",
       "    <tr>\n",
       "      <td>Model</td>\n",
       "      <td>19705</td>\n",
       "      <td>5.560588</td>\n",
       "    </tr>\n",
       "    <tr>\n",
       "      <td>LastSeen</td>\n",
       "      <td>0</td>\n",
       "      <td>0.000000</td>\n",
       "    </tr>\n",
       "    <tr>\n",
       "      <td>PostalCode</td>\n",
       "      <td>0</td>\n",
       "      <td>0.000000</td>\n",
       "    </tr>\n",
       "    <tr>\n",
       "      <td>NumberOfPictures</td>\n",
       "      <td>0</td>\n",
       "      <td>0.000000</td>\n",
       "    </tr>\n",
       "    <tr>\n",
       "      <td>DateCreated</td>\n",
       "      <td>0</td>\n",
       "      <td>0.000000</td>\n",
       "    </tr>\n",
       "    <tr>\n",
       "      <td>Brand</td>\n",
       "      <td>0</td>\n",
       "      <td>0.000000</td>\n",
       "    </tr>\n",
       "    <tr>\n",
       "      <td>RegistrationMonth</td>\n",
       "      <td>0</td>\n",
       "      <td>0.000000</td>\n",
       "    </tr>\n",
       "    <tr>\n",
       "      <td>Kilometer</td>\n",
       "      <td>0</td>\n",
       "      <td>0.000000</td>\n",
       "    </tr>\n",
       "    <tr>\n",
       "      <td>Power</td>\n",
       "      <td>0</td>\n",
       "      <td>0.000000</td>\n",
       "    </tr>\n",
       "    <tr>\n",
       "      <td>RegistrationYear</td>\n",
       "      <td>0</td>\n",
       "      <td>0.000000</td>\n",
       "    </tr>\n",
       "    <tr>\n",
       "      <td>Price</td>\n",
       "      <td>0</td>\n",
       "      <td>0.000000</td>\n",
       "    </tr>\n",
       "    <tr>\n",
       "      <td>DateCrawled</td>\n",
       "      <td>0</td>\n",
       "      <td>0.000000</td>\n",
       "    </tr>\n",
       "  </tbody>\n",
       "</table>\n",
       "</div>"
      ],
      "text/plain": [
       "                   Total    Percent\n",
       "NotRepaired        71154  20.079070\n",
       "VehicleType        37490  10.579368\n",
       "FuelType           32895   9.282697\n",
       "Gearbox            19833   5.596709\n",
       "Model              19705   5.560588\n",
       "LastSeen               0   0.000000\n",
       "PostalCode             0   0.000000\n",
       "NumberOfPictures       0   0.000000\n",
       "DateCreated            0   0.000000\n",
       "Brand                  0   0.000000\n",
       "RegistrationMonth      0   0.000000\n",
       "Kilometer              0   0.000000\n",
       "Power                  0   0.000000\n",
       "RegistrationYear       0   0.000000\n",
       "Price                  0   0.000000\n",
       "DateCrawled            0   0.000000"
      ]
     },
     "execution_count": 6,
     "metadata": {},
     "output_type": "execute_result"
    }
   ],
   "source": [
    "def missing_data(data):\n",
    "    total = data.isnull().sum().sort_values(ascending = False)\n",
    "    percent = (data.isnull().sum()/data.isnull().count()*100).sort_values(ascending = False)\n",
    "    return pd.concat([total, percent], axis=1, keys=['Total', 'Percent'])\n",
    "missing_data(df)"
   ]
  },
  {
   "cell_type": "markdown",
   "metadata": {},
   "source": [
    "Больше всего пропусков в NotRepaired (Была ли машина в ремонте),\n",
    "VehicleType (тип автомобильного кузова), FuelType (тип топлива),\n",
    "Gearbox (тип коробки передач), Model (модель автомобиля).\n",
    "Восстановить данные не представляется возможным, поэтому удалим их."
   ]
  },
  {
   "cell_type": "code",
   "execution_count": 7,
   "metadata": {},
   "outputs": [],
   "source": [
    "df = df.dropna()"
   ]
  },
  {
   "cell_type": "code",
   "execution_count": 8,
   "metadata": {},
   "outputs": [
    {
     "data": {
      "text/plain": [
       "(245814, 16)"
      ]
     },
     "execution_count": 8,
     "metadata": {},
     "output_type": "execute_result"
    }
   ],
   "source": [
    "df.shape"
   ]
  },
  {
   "cell_type": "markdown",
   "metadata": {},
   "source": [
    "Было 354369 осталось 245814 (69% от первоначального датасета)."
   ]
  },
  {
   "cell_type": "code",
   "execution_count": 9,
   "metadata": {},
   "outputs": [
    {
     "data": {
      "text/html": [
       "<div>\n",
       "<style scoped>\n",
       "    .dataframe tbody tr th:only-of-type {\n",
       "        vertical-align: middle;\n",
       "    }\n",
       "\n",
       "    .dataframe tbody tr th {\n",
       "        vertical-align: top;\n",
       "    }\n",
       "\n",
       "    .dataframe thead th {\n",
       "        text-align: right;\n",
       "    }\n",
       "</style>\n",
       "<table border=\"1\" class=\"dataframe\">\n",
       "  <thead>\n",
       "    <tr style=\"text-align: right;\">\n",
       "      <th></th>\n",
       "      <th>Total</th>\n",
       "      <th>Percent</th>\n",
       "    </tr>\n",
       "  </thead>\n",
       "  <tbody>\n",
       "    <tr>\n",
       "      <td>LastSeen</td>\n",
       "      <td>0</td>\n",
       "      <td>0.0</td>\n",
       "    </tr>\n",
       "    <tr>\n",
       "      <td>PostalCode</td>\n",
       "      <td>0</td>\n",
       "      <td>0.0</td>\n",
       "    </tr>\n",
       "    <tr>\n",
       "      <td>NumberOfPictures</td>\n",
       "      <td>0</td>\n",
       "      <td>0.0</td>\n",
       "    </tr>\n",
       "    <tr>\n",
       "      <td>DateCreated</td>\n",
       "      <td>0</td>\n",
       "      <td>0.0</td>\n",
       "    </tr>\n",
       "    <tr>\n",
       "      <td>NotRepaired</td>\n",
       "      <td>0</td>\n",
       "      <td>0.0</td>\n",
       "    </tr>\n",
       "    <tr>\n",
       "      <td>Brand</td>\n",
       "      <td>0</td>\n",
       "      <td>0.0</td>\n",
       "    </tr>\n",
       "    <tr>\n",
       "      <td>FuelType</td>\n",
       "      <td>0</td>\n",
       "      <td>0.0</td>\n",
       "    </tr>\n",
       "    <tr>\n",
       "      <td>RegistrationMonth</td>\n",
       "      <td>0</td>\n",
       "      <td>0.0</td>\n",
       "    </tr>\n",
       "    <tr>\n",
       "      <td>Kilometer</td>\n",
       "      <td>0</td>\n",
       "      <td>0.0</td>\n",
       "    </tr>\n",
       "    <tr>\n",
       "      <td>Model</td>\n",
       "      <td>0</td>\n",
       "      <td>0.0</td>\n",
       "    </tr>\n",
       "    <tr>\n",
       "      <td>Power</td>\n",
       "      <td>0</td>\n",
       "      <td>0.0</td>\n",
       "    </tr>\n",
       "    <tr>\n",
       "      <td>Gearbox</td>\n",
       "      <td>0</td>\n",
       "      <td>0.0</td>\n",
       "    </tr>\n",
       "    <tr>\n",
       "      <td>RegistrationYear</td>\n",
       "      <td>0</td>\n",
       "      <td>0.0</td>\n",
       "    </tr>\n",
       "    <tr>\n",
       "      <td>VehicleType</td>\n",
       "      <td>0</td>\n",
       "      <td>0.0</td>\n",
       "    </tr>\n",
       "    <tr>\n",
       "      <td>Price</td>\n",
       "      <td>0</td>\n",
       "      <td>0.0</td>\n",
       "    </tr>\n",
       "    <tr>\n",
       "      <td>DateCrawled</td>\n",
       "      <td>0</td>\n",
       "      <td>0.0</td>\n",
       "    </tr>\n",
       "  </tbody>\n",
       "</table>\n",
       "</div>"
      ],
      "text/plain": [
       "                   Total  Percent\n",
       "LastSeen               0      0.0\n",
       "PostalCode             0      0.0\n",
       "NumberOfPictures       0      0.0\n",
       "DateCreated            0      0.0\n",
       "NotRepaired            0      0.0\n",
       "Brand                  0      0.0\n",
       "FuelType               0      0.0\n",
       "RegistrationMonth      0      0.0\n",
       "Kilometer              0      0.0\n",
       "Model                  0      0.0\n",
       "Power                  0      0.0\n",
       "Gearbox                0      0.0\n",
       "RegistrationYear       0      0.0\n",
       "VehicleType            0      0.0\n",
       "Price                  0      0.0\n",
       "DateCrawled            0      0.0"
      ]
     },
     "execution_count": 9,
     "metadata": {},
     "output_type": "execute_result"
    }
   ],
   "source": [
    "missing_data(df)"
   ]
  },
  {
   "cell_type": "markdown",
   "metadata": {},
   "source": [
    "Пропусков больше нет. Проверим на дубликаты."
   ]
  },
  {
   "cell_type": "code",
   "execution_count": 10,
   "metadata": {},
   "outputs": [
    {
     "data": {
      "text/plain": [
       "4"
      ]
     },
     "execution_count": 10,
     "metadata": {},
     "output_type": "execute_result"
    }
   ],
   "source": [
    "df.duplicated().sum()"
   ]
  },
  {
   "cell_type": "markdown",
   "metadata": {},
   "source": [
    "Удалим дубликаты."
   ]
  },
  {
   "cell_type": "code",
   "execution_count": 11,
   "metadata": {},
   "outputs": [
    {
     "data": {
      "text/plain": [
       "0"
      ]
     },
     "execution_count": 11,
     "metadata": {},
     "output_type": "execute_result"
    }
   ],
   "source": [
    "df = df.drop_duplicates()\n",
    "df.duplicated().sum()"
   ]
  },
  {
   "cell_type": "markdown",
   "metadata": {},
   "source": [
    "На нескольких сайтов по\n",
    "продажам подержанных автомобилей в Германии (страну можно определить по\n",
    "почтовым индексам) показало, что цены начинаются с 0 и 1 евро,\n",
    " но это единичные объявления и не понятно, то ли это ошибка при заполнении формы,\n",
    " то ли машины на металлолом. Поэтому\n",
    "очистим нулевые значения и слишком маленькие в колонке Price,\n",
    "и нулевые в Power, NumberOfPictures."
   ]
  },
  {
   "cell_type": "code",
   "execution_count": 12,
   "metadata": {},
   "outputs": [
    {
     "data": {
      "text/plain": [
       "3779"
      ]
     },
     "execution_count": 12,
     "metadata": {},
     "output_type": "execute_result"
    }
   ],
   "source": [
    "df[df['Price'] < 50]['Price'].count()"
   ]
  },
  {
   "cell_type": "code",
   "execution_count": 13,
   "metadata": {},
   "outputs": [
    {
     "data": {
      "text/plain": [
       "9612"
      ]
     },
     "execution_count": 13,
     "metadata": {},
     "output_type": "execute_result"
    }
   ],
   "source": [
    "df[df['Power'] == 0]['Power'].count()"
   ]
  },
  {
   "cell_type": "code",
   "execution_count": 14,
   "metadata": {},
   "outputs": [
    {
     "data": {
      "text/plain": [
       "7531"
      ]
     },
     "execution_count": 14,
     "metadata": {},
     "output_type": "execute_result"
    }
   ],
   "source": [
    "df[df['RegistrationMonth'] == 0]['RegistrationMonth'].count()"
   ]
  },
  {
   "cell_type": "code",
   "execution_count": 15,
   "metadata": {},
   "outputs": [
    {
     "data": {
      "text/plain": [
       "18112"
      ]
     },
     "execution_count": 15,
     "metadata": {},
     "output_type": "execute_result"
    }
   ],
   "source": [
    "df[df['RegistrationMonth'] == 12]['RegistrationMonth'].count()"
   ]
  },
  {
   "cell_type": "markdown",
   "metadata": {},
   "source": [
    "Есть и нулевой месяц и двенадцатый,\n",
    " поэтому вряд ли нумерация была с нуля. Ноль выброс, можно его удалить."
   ]
  },
  {
   "cell_type": "code",
   "execution_count": 16,
   "metadata": {},
   "outputs": [],
   "source": [
    "df = df[df['Price'] != 0]\n",
    "df = df[df['Power'] != 0]\n",
    "df = df[df['RegistrationMonth'] != 0]"
   ]
  },
  {
   "cell_type": "code",
   "execution_count": 17,
   "metadata": {},
   "outputs": [
    {
     "data": {
      "text/plain": [
       "0"
      ]
     },
     "execution_count": 17,
     "metadata": {},
     "output_type": "execute_result"
    }
   ],
   "source": [
    "df[df['Price'] == 0]['Price'].count()"
   ]
  },
  {
   "cell_type": "code",
   "execution_count": 18,
   "metadata": {},
   "outputs": [
    {
     "data": {
      "text/plain": [
       "0"
      ]
     },
     "execution_count": 18,
     "metadata": {},
     "output_type": "execute_result"
    }
   ],
   "source": [
    "df[df['Power'] == 0]['Power'].count()"
   ]
  },
  {
   "cell_type": "code",
   "execution_count": 19,
   "metadata": {},
   "outputs": [
    {
     "data": {
      "text/plain": [
       "0"
      ]
     },
     "execution_count": 19,
     "metadata": {},
     "output_type": "execute_result"
    }
   ],
   "source": [
    "df[df['RegistrationMonth'] == 0]['RegistrationMonth'].count()"
   ]
  },
  {
   "cell_type": "markdown",
   "metadata": {},
   "source": [
    "Теперь проверим годы."
   ]
  },
  {
   "cell_type": "code",
   "execution_count": 20,
   "metadata": {},
   "outputs": [
    {
     "data": {
      "text/plain": [
       "0"
      ]
     },
     "execution_count": 20,
     "metadata": {},
     "output_type": "execute_result"
    }
   ],
   "source": [
    "df[df['RegistrationYear'] < 1900]['RegistrationYear'].count()"
   ]
  },
  {
   "cell_type": "code",
   "execution_count": 21,
   "metadata": {},
   "outputs": [
    {
     "data": {
      "text/plain": [
       "0"
      ]
     },
     "execution_count": 21,
     "metadata": {},
     "output_type": "execute_result"
    }
   ],
   "source": [
    "df[df['RegistrationYear'] > 2020]['RegistrationYear'].count()"
   ]
  },
  {
   "cell_type": "markdown",
   "metadata": {},
   "source": [
    "Удалим колонку NumberOfPictures так как там все значения нулевые. И удалим даты тоже 'DateCrawled','DateCreated','LastSeen'"
   ]
  },
  {
   "cell_type": "code",
   "execution_count": 22,
   "metadata": {},
   "outputs": [],
   "source": [
    "df = df.drop(labels=['NumberOfPictures','DateCrawled','DateCreated','LastSeen'],axis=1)"
   ]
  },
  {
   "cell_type": "markdown",
   "metadata": {},
   "source": [
    "Изменим типы данных."
   ]
  },
  {
   "cell_type": "code",
   "execution_count": 23,
   "metadata": {},
   "outputs": [
    {
     "data": {
      "text/plain": [
       "3     0\n",
       "4     0\n",
       "5     1\n",
       "6     0\n",
       "10    0\n",
       "Name: NotRepaired, dtype: int64"
      ]
     },
     "execution_count": 23,
     "metadata": {},
     "output_type": "execute_result"
    }
   ],
   "source": [
    "df['NotRepaired'] = df['NotRepaired'].map({'yes': 1, 'no': 0})\n",
    "df['NotRepaired'].head()"
   ]
  },
  {
   "cell_type": "code",
   "execution_count": 24,
   "metadata": {},
   "outputs": [
    {
     "data": {
      "text/plain": [
       "Price                 int64\n",
       "VehicleType          object\n",
       "RegistrationYear      int64\n",
       "Gearbox              object\n",
       "Power                 int64\n",
       "Model                object\n",
       "Kilometer             int64\n",
       "RegistrationMonth     int64\n",
       "FuelType             object\n",
       "Brand                object\n",
       "NotRepaired           uint8\n",
       "PostalCode            int64\n",
       "dtype: object"
      ]
     },
     "execution_count": 24,
     "metadata": {},
     "output_type": "execute_result"
    }
   ],
   "source": [
    "df.astype({'NotRepaired': 'uint8'}).dtypes"
   ]
  },
  {
   "cell_type": "code",
   "execution_count": 25,
   "metadata": {},
   "outputs": [
    {
     "name": "stdout",
     "output_type": "stream",
     "text": [
      "<class 'pandas.core.frame.DataFrame'>\n",
      "Int64Index: 227670 entries, 3 to 354367\n",
      "Data columns (total 12 columns):\n",
      "Price                227670 non-null int64\n",
      "VehicleType          227670 non-null object\n",
      "RegistrationYear     227670 non-null int64\n",
      "Gearbox              227670 non-null object\n",
      "Power                227670 non-null int64\n",
      "Model                227670 non-null object\n",
      "Kilometer            227670 non-null int64\n",
      "RegistrationMonth    227670 non-null int64\n",
      "FuelType             227670 non-null object\n",
      "Brand                227670 non-null object\n",
      "NotRepaired          227670 non-null int64\n",
      "PostalCode           227670 non-null int64\n",
      "dtypes: int64(7), object(5)\n",
      "memory usage: 22.6+ MB\n"
     ]
    }
   ],
   "source": [
    "df.info()"
   ]
  },
  {
   "cell_type": "code",
   "execution_count": 26,
   "metadata": {},
   "outputs": [],
   "source": [
    "#Построим графики чтобы посмотреть на распределение\n",
    "def dist_and_box(df, col):\n",
    "    fig, axs = plt.subplots(ncols=2,figsize=(20,5))\n",
    "    sns.set(font_scale=1.10)\n",
    "    distplot = sns.distplot(df[col],ax=axs[0]).set_title(f'{col}',fontsize=20);\n",
    "    sns.boxplot(df[col], ax=axs[1]).set_title(f'{col}',fontsize=20);"
   ]
  },
  {
   "cell_type": "code",
   "execution_count": 27,
   "metadata": {},
   "outputs": [
    {
     "data": {
      "image/png": "[encoded data removed]",
      "text/plain": [
       "<Figure size 1440x360 with 2 Axes>"
      ]
     },
     "metadata": {
      "needs_background": "light"
     },
     "output_type": "display_data"
    }
   ],
   "source": [
    "dist_and_box(df, 'Price')"
   ]
  },
  {
   "cell_type": "code",
   "execution_count": 28,
   "metadata": {},
   "outputs": [
    {
     "data": {
      "text/plain": [
       "count    227670.000000\n",
       "mean       5356.900136\n",
       "std        4742.248910\n",
       "min           1.000000\n",
       "25%        1600.000000\n",
       "50%        3750.000000\n",
       "75%        7850.000000\n",
       "max       20000.000000\n",
       "Name: Price, dtype: float64"
      ]
     },
     "execution_count": 28,
     "metadata": {},
     "output_type": "execute_result"
    }
   ],
   "source": [
    "df['Price'].describe()"
   ]
  },
  {
   "cell_type": "markdown",
   "metadata": {},
   "source": [
    "Данные скошены вправо, среднее больше медианы.\n",
    " В правой части много выбросов, но такие цены на машину продавец вполне мог установить."
   ]
  },
  {
   "cell_type": "markdown",
   "metadata": {},
   "source": [
    "#### Посмотрим на корреляцию"
   ]
  },
  {
   "cell_type": "markdown",
   "metadata": {},
   "source": [
    "###### [Таблица величины коэффициентов корреляции и силы связи (шкала Чеддока)](https://statpsy.ru/correlation/velicina/):\n",
    "| Значение        | Интерпретация   |\n",
    "| --------------- |----------------:|\n",
    "| от 0 до 0,3     |   очень слабая  |\n",
    "| от 0,3 до 0,5   |   слабая        |\n",
    "| от 0, 5 до 0,7  |   средняя       |\n",
    "| от 0,7 до 0, 9  |   высокая       |\n",
    "| от 0,9 до 1     |   очень высокая |"
   ]
  },
  {
   "cell_type": "code",
   "execution_count": 29,
   "metadata": {},
   "outputs": [
    {
     "data": {
      "text/html": [
       "<div>\n",
       "<style scoped>\n",
       "    .dataframe tbody tr th:only-of-type {\n",
       "        vertical-align: middle;\n",
       "    }\n",
       "\n",
       "    .dataframe tbody tr th {\n",
       "        vertical-align: top;\n",
       "    }\n",
       "\n",
       "    .dataframe thead th {\n",
       "        text-align: right;\n",
       "    }\n",
       "</style>\n",
       "<table border=\"1\" class=\"dataframe\">\n",
       "  <thead>\n",
       "    <tr style=\"text-align: right;\">\n",
       "      <th></th>\n",
       "      <th>Price</th>\n",
       "    </tr>\n",
       "  </thead>\n",
       "  <tbody>\n",
       "    <tr>\n",
       "      <td>Kilometer</td>\n",
       "      <td>-0.408460</td>\n",
       "    </tr>\n",
       "    <tr>\n",
       "      <td>NotRepaired</td>\n",
       "      <td>-0.209712</td>\n",
       "    </tr>\n",
       "    <tr>\n",
       "      <td>RegistrationMonth</td>\n",
       "      <td>0.011243</td>\n",
       "    </tr>\n",
       "    <tr>\n",
       "      <td>PostalCode</td>\n",
       "      <td>0.056780</td>\n",
       "    </tr>\n",
       "    <tr>\n",
       "      <td>Power</td>\n",
       "      <td>0.200849</td>\n",
       "    </tr>\n",
       "    <tr>\n",
       "      <td>RegistrationYear</td>\n",
       "      <td>0.562452</td>\n",
       "    </tr>\n",
       "    <tr>\n",
       "      <td>Price</td>\n",
       "      <td>1.000000</td>\n",
       "    </tr>\n",
       "  </tbody>\n",
       "</table>\n",
       "</div>"
      ],
      "text/plain": [
       "                      Price\n",
       "Kilometer         -0.408460\n",
       "NotRepaired       -0.209712\n",
       "RegistrationMonth  0.011243\n",
       "PostalCode         0.056780\n",
       "Power              0.200849\n",
       "RegistrationYear   0.562452\n",
       "Price              1.000000"
      ]
     },
     "execution_count": 29,
     "metadata": {},
     "output_type": "execute_result"
    }
   ],
   "source": [
    "df.corr()[['Price']].sort_values('Price')"
   ]
  },
  {
   "cell_type": "markdown",
   "metadata": {},
   "source": [
    "\"Kilometer\" имеет слабую отрицательную -0.401434 корреляцию\n",
    "\"RegistrationYear\" имеет среднюю положительную 0.556149 корреляцию"
   ]
  },
  {
   "cell_type": "code",
   "execution_count": 30,
   "metadata": {},
   "outputs": [],
   "source": [
    "#можно визуализировать, но выполняется ооочень долго\n",
    "#sns.pairplot(data=df, hue = 'Price');"
   ]
  },
  {
   "cell_type": "code",
   "execution_count": 31,
   "metadata": {},
   "outputs": [
    {
     "data": {
      "image/png": "[encoded data removed]",
      "text/plain": [
       "<Figure size 1440x360 with 2 Axes>"
      ]
     },
     "metadata": {},
     "output_type": "display_data"
    }
   ],
   "source": [
    "dist_and_box(df, 'Power')"
   ]
  },
  {
   "cell_type": "code",
   "execution_count": 32,
   "metadata": {},
   "outputs": [
    {
     "data": {
      "text/plain": [
       "count    227670.000000\n",
       "mean        125.014991\n",
       "std         133.519494\n",
       "min           1.000000\n",
       "25%          82.000000\n",
       "50%         116.000000\n",
       "75%         150.000000\n",
       "max       20000.000000\n",
       "Name: Power, dtype: float64"
      ]
     },
     "execution_count": 32,
     "metadata": {},
     "output_type": "execute_result"
    }
   ],
   "source": [
    "df['Power'].describe()"
   ]
  },
  {
   "cell_type": "markdown",
   "metadata": {},
   "source": [
    "В данных мног выбросов, удалим все что больше 400 л.с."
   ]
  },
  {
   "cell_type": "code",
   "execution_count": 33,
   "metadata": {},
   "outputs": [
    {
     "data": {
      "text/plain": [
       "3365"
      ]
     },
     "execution_count": 33,
     "metadata": {},
     "output_type": "execute_result"
    }
   ],
   "source": [
    "df[(df['Power'] > 400) | (df['Power'] < 50)]['Power'].count()"
   ]
  },
  {
   "cell_type": "code",
   "execution_count": 34,
   "metadata": {},
   "outputs": [],
   "source": [
    "df = df[(df['Power'] < 400) & (df['Power'] > 50)]"
   ]
  },
  {
   "cell_type": "code",
   "execution_count": 35,
   "metadata": {},
   "outputs": [
    {
     "data": {
      "image/png": "[encoded data removed]",
      "text/plain": [
       "<Figure size 1440x360 with 2 Axes>"
      ]
     },
     "metadata": {},
     "output_type": "display_data"
    }
   ],
   "source": [
    "dist_and_box(df, 'Power')"
   ]
  },
  {
   "cell_type": "code",
   "execution_count": 36,
   "metadata": {
    "scrolled": false
   },
   "outputs": [
    {
     "data": {
      "text/plain": [
       "count    221508.000000\n",
       "mean        124.832390\n",
       "std          51.499831\n",
       "min          51.000000\n",
       "25%          86.000000\n",
       "50%         116.000000\n",
       "75%         150.000000\n",
       "max         399.000000\n",
       "Name: Power, dtype: float64"
      ]
     },
     "execution_count": 36,
     "metadata": {},
     "output_type": "execute_result"
    }
   ],
   "source": [
    "df['Power'].describe()"
   ]
  },
  {
   "cell_type": "markdown",
   "metadata": {},
   "source": [
    "### Теперь данные очищены. Подготовим признаки для обучения."
   ]
  },
  {
   "cell_type": "code",
   "execution_count": 37,
   "metadata": {},
   "outputs": [
    {
     "name": "stdout",
     "output_type": "stream",
     "text": [
      "<class 'pandas.core.frame.DataFrame'>\n",
      "Int64Index: 221508 entries, 3 to 354367\n",
      "Data columns (total 12 columns):\n",
      "Price                221508 non-null int64\n",
      "VehicleType          221508 non-null object\n",
      "RegistrationYear     221508 non-null int64\n",
      "Gearbox              221508 non-null object\n",
      "Power                221508 non-null int64\n",
      "Model                221508 non-null object\n",
      "Kilometer            221508 non-null int64\n",
      "RegistrationMonth    221508 non-null int64\n",
      "FuelType             221508 non-null object\n",
      "Brand                221508 non-null object\n",
      "NotRepaired          221508 non-null int64\n",
      "PostalCode           221508 non-null int64\n",
      "dtypes: int64(7), object(5)\n",
      "memory usage: 22.0+ MB\n"
     ]
    }
   ],
   "source": [
    "df.info()"
   ]
  },
  {
   "cell_type": "markdown",
   "metadata": {},
   "source": [
    "Закодируем категориальные признаки техникой OHE. "
   ]
  },
  {
   "cell_type": "code",
   "execution_count": 38,
   "metadata": {
    "scrolled": true
   },
   "outputs": [
    {
     "data": {
      "text/html": [
       "<div>\n",
       "<style scoped>\n",
       "    .dataframe tbody tr th:only-of-type {\n",
       "        vertical-align: middle;\n",
       "    }\n",
       "\n",
       "    .dataframe tbody tr th {\n",
       "        vertical-align: top;\n",
       "    }\n",
       "\n",
       "    .dataframe thead th {\n",
       "        text-align: right;\n",
       "    }\n",
       "</style>\n",
       "<table border=\"1\" class=\"dataframe\">\n",
       "  <thead>\n",
       "    <tr style=\"text-align: right;\">\n",
       "      <th></th>\n",
       "      <th>Price</th>\n",
       "      <th>RegistrationYear</th>\n",
       "      <th>Power</th>\n",
       "      <th>Kilometer</th>\n",
       "      <th>RegistrationMonth</th>\n",
       "      <th>NotRepaired</th>\n",
       "      <th>PostalCode</th>\n",
       "      <th>VehicleType_convertible</th>\n",
       "      <th>VehicleType_coupe</th>\n",
       "      <th>VehicleType_other</th>\n",
       "      <th>...</th>\n",
       "      <th>Brand_rover</th>\n",
       "      <th>Brand_saab</th>\n",
       "      <th>Brand_seat</th>\n",
       "      <th>Brand_skoda</th>\n",
       "      <th>Brand_smart</th>\n",
       "      <th>Brand_subaru</th>\n",
       "      <th>Brand_suzuki</th>\n",
       "      <th>Brand_toyota</th>\n",
       "      <th>Brand_volkswagen</th>\n",
       "      <th>Brand_volvo</th>\n",
       "    </tr>\n",
       "  </thead>\n",
       "  <tbody>\n",
       "    <tr>\n",
       "      <td>3</td>\n",
       "      <td>1500</td>\n",
       "      <td>2001</td>\n",
       "      <td>75</td>\n",
       "      <td>150000</td>\n",
       "      <td>6</td>\n",
       "      <td>0</td>\n",
       "      <td>91074</td>\n",
       "      <td>0</td>\n",
       "      <td>0</td>\n",
       "      <td>0</td>\n",
       "      <td>...</td>\n",
       "      <td>0</td>\n",
       "      <td>0</td>\n",
       "      <td>0</td>\n",
       "      <td>0</td>\n",
       "      <td>0</td>\n",
       "      <td>0</td>\n",
       "      <td>0</td>\n",
       "      <td>0</td>\n",
       "      <td>1</td>\n",
       "      <td>0</td>\n",
       "    </tr>\n",
       "    <tr>\n",
       "      <td>4</td>\n",
       "      <td>3600</td>\n",
       "      <td>2008</td>\n",
       "      <td>69</td>\n",
       "      <td>90000</td>\n",
       "      <td>7</td>\n",
       "      <td>0</td>\n",
       "      <td>60437</td>\n",
       "      <td>0</td>\n",
       "      <td>0</td>\n",
       "      <td>0</td>\n",
       "      <td>...</td>\n",
       "      <td>0</td>\n",
       "      <td>0</td>\n",
       "      <td>0</td>\n",
       "      <td>1</td>\n",
       "      <td>0</td>\n",
       "      <td>0</td>\n",
       "      <td>0</td>\n",
       "      <td>0</td>\n",
       "      <td>0</td>\n",
       "      <td>0</td>\n",
       "    </tr>\n",
       "    <tr>\n",
       "      <td>5</td>\n",
       "      <td>650</td>\n",
       "      <td>1995</td>\n",
       "      <td>102</td>\n",
       "      <td>150000</td>\n",
       "      <td>10</td>\n",
       "      <td>1</td>\n",
       "      <td>33775</td>\n",
       "      <td>0</td>\n",
       "      <td>0</td>\n",
       "      <td>0</td>\n",
       "      <td>...</td>\n",
       "      <td>0</td>\n",
       "      <td>0</td>\n",
       "      <td>0</td>\n",
       "      <td>0</td>\n",
       "      <td>0</td>\n",
       "      <td>0</td>\n",
       "      <td>0</td>\n",
       "      <td>0</td>\n",
       "      <td>0</td>\n",
       "      <td>0</td>\n",
       "    </tr>\n",
       "    <tr>\n",
       "      <td>6</td>\n",
       "      <td>2200</td>\n",
       "      <td>2004</td>\n",
       "      <td>109</td>\n",
       "      <td>150000</td>\n",
       "      <td>8</td>\n",
       "      <td>0</td>\n",
       "      <td>67112</td>\n",
       "      <td>1</td>\n",
       "      <td>0</td>\n",
       "      <td>0</td>\n",
       "      <td>...</td>\n",
       "      <td>0</td>\n",
       "      <td>0</td>\n",
       "      <td>0</td>\n",
       "      <td>0</td>\n",
       "      <td>0</td>\n",
       "      <td>0</td>\n",
       "      <td>0</td>\n",
       "      <td>0</td>\n",
       "      <td>0</td>\n",
       "      <td>0</td>\n",
       "    </tr>\n",
       "    <tr>\n",
       "      <td>10</td>\n",
       "      <td>2000</td>\n",
       "      <td>2004</td>\n",
       "      <td>105</td>\n",
       "      <td>150000</td>\n",
       "      <td>12</td>\n",
       "      <td>0</td>\n",
       "      <td>96224</td>\n",
       "      <td>0</td>\n",
       "      <td>0</td>\n",
       "      <td>0</td>\n",
       "      <td>...</td>\n",
       "      <td>0</td>\n",
       "      <td>0</td>\n",
       "      <td>0</td>\n",
       "      <td>0</td>\n",
       "      <td>0</td>\n",
       "      <td>0</td>\n",
       "      <td>0</td>\n",
       "      <td>0</td>\n",
       "      <td>0</td>\n",
       "      <td>0</td>\n",
       "    </tr>\n",
       "  </tbody>\n",
       "</table>\n",
       "<p>5 rows × 305 columns</p>\n",
       "</div>"
      ],
      "text/plain": [
       "    Price  RegistrationYear  Power  Kilometer  RegistrationMonth  NotRepaired  \\\n",
       "3    1500              2001     75     150000                  6            0   \n",
       "4    3600              2008     69      90000                  7            0   \n",
       "5     650              1995    102     150000                 10            1   \n",
       "6    2200              2004    109     150000                  8            0   \n",
       "10   2000              2004    105     150000                 12            0   \n",
       "\n",
       "    PostalCode  VehicleType_convertible  VehicleType_coupe  VehicleType_other  \\\n",
       "3        91074                        0                  0                  0   \n",
       "4        60437                        0                  0                  0   \n",
       "5        33775                        0                  0                  0   \n",
       "6        67112                        1                  0                  0   \n",
       "10       96224                        0                  0                  0   \n",
       "\n",
       "    ...  Brand_rover  Brand_saab  Brand_seat  Brand_skoda  Brand_smart  \\\n",
       "3   ...            0           0           0            0            0   \n",
       "4   ...            0           0           0            1            0   \n",
       "5   ...            0           0           0            0            0   \n",
       "6   ...            0           0           0            0            0   \n",
       "10  ...            0           0           0            0            0   \n",
       "\n",
       "    Brand_subaru  Brand_suzuki  Brand_toyota  Brand_volkswagen  Brand_volvo  \n",
       "3              0             0             0                 1            0  \n",
       "4              0             0             0                 0            0  \n",
       "5              0             0             0                 0            0  \n",
       "6              0             0             0                 0            0  \n",
       "10             0             0             0                 0            0  \n",
       "\n",
       "[5 rows x 305 columns]"
      ]
     },
     "execution_count": 38,
     "metadata": {},
     "output_type": "execute_result"
    }
   ],
   "source": [
    "df = pd.get_dummies(df, drop_first=True)\n",
    "df.head()"
   ]
  },
  {
   "cell_type": "markdown",
   "metadata": {},
   "source": [
    "Разделим выборки."
   ]
  },
  {
   "cell_type": "code",
   "execution_count": 39,
   "metadata": {},
   "outputs": [],
   "source": [
    "target_column = 'Price'\n",
    "target = df[target_column]"
   ]
  },
  {
   "cell_type": "code",
   "execution_count": 40,
   "metadata": {},
   "outputs": [],
   "source": [
    "features = df.drop([target_column], axis=1)\n",
    "features_train, features_valid, target_train, target_valid = train_test_split(\n",
    "    features, target, test_size=0.25, random_state=12345)"
   ]
  },
  {
   "cell_type": "markdown",
   "metadata": {},
   "source": [
    "Отмасштабируем числовые признаки"
   ]
  },
  {
   "cell_type": "code",
   "execution_count": 41,
   "metadata": {},
   "outputs": [],
   "source": [
    "numeric = ['RegistrationYear', 'Power', 'Kilometer', 'RegistrationMonth', 'PostalCode']"
   ]
  },
  {
   "cell_type": "code",
   "execution_count": 42,
   "metadata": {},
   "outputs": [],
   "source": [
    "scaler = StandardScaler()\n",
    "scaler.fit(features_train[numeric])\n",
    "features_train[numeric] = scaler.transform(features_train[numeric])\n",
    "features_valid[numeric] = scaler.transform(features_valid[numeric])"
   ]
  },
  {
   "cell_type": "markdown",
   "metadata": {},
   "source": [
    "# 2. Обучение моделей"
   ]
  },
  {
   "cell_type": "markdown",
   "metadata": {},
   "source": [
    "### LightGBM"
   ]
  },
  {
   "cell_type": "code",
   "execution_count": 43,
   "metadata": {},
   "outputs": [],
   "source": [
    "import lightgbm as lgb"
   ]
  },
  {
   "cell_type": "code",
   "execution_count": 44,
   "metadata": {},
   "outputs": [],
   "source": [
    "lgb_train = lgb.Dataset(features_train, target_train)\n",
    "lgb_eval = lgb.Dataset(features_valid, target_valid, reference=lgb_train)"
   ]
  },
  {
   "cell_type": "code",
   "execution_count": 45,
   "metadata": {},
   "outputs": [],
   "source": [
    "params = {\n",
    "    'boosting_type': 'gbdt',\n",
    "    'objective': 'regression',\n",
    "    'metric': {'rmse'},\n",
    "    'num_leaves': 31,\n",
    "    'learning_rate': 0.05,\n",
    "    'feature_fraction': 0.9,\n",
    "    'bagging_fraction': 0.8,\n",
    "    'bagging_freq': 5,\n",
    "    'verbose': 0\n",
    "}"
   ]
  },
  {
   "cell_type": "code",
   "execution_count": 46,
   "metadata": {
    "scrolled": true
   },
   "outputs": [
    {
     "name": "stdout",
     "output_type": "stream",
     "text": [
      "[1]\tvalid_0's rmse: 4573.62\n",
      "Training until validation scores don't improve for 5 rounds\n",
      "[2]\tvalid_0's rmse: 4439.87\n",
      "[3]\tvalid_0's rmse: 4279.92\n",
      "[4]\tvalid_0's rmse: 4129.88\n",
      "[5]\tvalid_0's rmse: 3988.2\n",
      "[6]\tvalid_0's rmse: 3856.64\n",
      "[7]\tvalid_0's rmse: 3732.49\n",
      "[8]\tvalid_0's rmse: 3616.61\n",
      "[9]\tvalid_0's rmse: 3506.71\n",
      "[10]\tvalid_0's rmse: 3405\n",
      "[11]\tvalid_0's rmse: 3323.33\n",
      "[12]\tvalid_0's rmse: 3230.83\n",
      "[13]\tvalid_0's rmse: 3145.53\n",
      "[14]\tvalid_0's rmse: 3077.71\n",
      "[15]\tvalid_0's rmse: 3001.13\n",
      "[16]\tvalid_0's rmse: 2929.59\n",
      "[17]\tvalid_0's rmse: 2861.5\n",
      "[18]\tvalid_0's rmse: 2798.32\n",
      "[19]\tvalid_0's rmse: 2754.16\n",
      "[20]\tvalid_0's rmse: 2697.41\n",
      "[21]\tvalid_0's rmse: 2644.41\n",
      "[22]\tvalid_0's rmse: 2594.97\n",
      "[23]\tvalid_0's rmse: 2548.7\n",
      "[24]\tvalid_0's rmse: 2505.94\n",
      "[25]\tvalid_0's rmse: 2464.11\n",
      "[26]\tvalid_0's rmse: 2424.92\n",
      "[27]\tvalid_0's rmse: 2388.97\n",
      "[28]\tvalid_0's rmse: 2355.29\n",
      "[29]\tvalid_0's rmse: 2323.92\n",
      "[30]\tvalid_0's rmse: 2293.67\n",
      "[31]\tvalid_0's rmse: 2265.46\n",
      "[32]\tvalid_0's rmse: 2239.14\n",
      "[33]\tvalid_0's rmse: 2213.37\n",
      "[34]\tvalid_0's rmse: 2189.56\n",
      "[35]\tvalid_0's rmse: 2167.53\n",
      "[36]\tvalid_0's rmse: 2147.01\n",
      "[37]\tvalid_0's rmse: 2125.26\n",
      "[38]\tvalid_0's rmse: 2106.04\n",
      "[39]\tvalid_0's rmse: 2088.45\n",
      "[40]\tvalid_0's rmse: 2071.51\n",
      "Did not meet early stopping. Best iteration is:\n",
      "[40]\tvalid_0's rmse: 2071.51\n",
      "CPU times: user 7.56 s, sys: 366 ms, total: 7.93 s\n",
      "Wall time: 8.06 s\n"
     ]
    }
   ],
   "source": [
    "%%time\n",
    "gbm_1 = lgb.train(params,\n",
    "                lgb_train,\n",
    "                num_boost_round=40,\n",
    "                valid_sets=lgb_eval,\n",
    "                early_stopping_rounds=5)"
   ]
  },
  {
   "cell_type": "markdown",
   "metadata": {},
   "source": [
    "Точность на обучении RMSE: 2071.51  \n",
    "Время обучения: 8.25 s"
   ]
  },
  {
   "cell_type": "code",
   "execution_count": 47,
   "metadata": {},
   "outputs": [
    {
     "name": "stdout",
     "output_type": "stream",
     "text": [
      "RMSE: 2071.5134456633855\n",
      "CPU times: user 521 ms, sys: 73.5 ms, total: 594 ms\n",
      "Wall time: 597 ms\n"
     ]
    }
   ],
   "source": [
    "%%time\n",
    "target_pred = gbm_1.predict(features_valid, num_iteration=gbm_1.best_iteration)\n",
    "print('RMSE:', mean_squared_error(target_valid, target_pred) ** 0.5)"
   ]
  },
  {
   "cell_type": "markdown",
   "metadata": {},
   "source": [
    "Точность предсказания RMSE: 2071.51  \n",
    "Время предсказания: 505 ms"
   ]
  },
  {
   "cell_type": "code",
   "execution_count": 48,
   "metadata": {},
   "outputs": [],
   "source": [
    "params = {\n",
    "    'boosting_type': 'gbdt',\n",
    "    'objective': 'regression',\n",
    "    'metric': {'rmse'},\n",
    "    'num_leaves': 60,\n",
    "    'learning_rate': 0.05,\n",
    "    'feature_fraction': 0.9,\n",
    "    'bagging_fraction': 0.8,\n",
    "    'bagging_freq': 5,\n",
    "    'verbose': 0,\n",
    "    'max_depth':20,\n",
    "    'min_data_in_leaf':100\n",
    "}"
   ]
  },
  {
   "cell_type": "code",
   "execution_count": 49,
   "metadata": {
    "scrolled": true
   },
   "outputs": [
    {
     "name": "stdout",
     "output_type": "stream",
     "text": [
      "[1]\tvalid_0's rmse: 4567.21\n",
      "Training until validation scores don't improve for 5 rounds\n",
      "[2]\tvalid_0's rmse: 4425.62\n",
      "[3]\tvalid_0's rmse: 4260.85\n",
      "[4]\tvalid_0's rmse: 4105.7\n",
      "[5]\tvalid_0's rmse: 3960.11\n",
      "[6]\tvalid_0's rmse: 3824.12\n",
      "[7]\tvalid_0's rmse: 3694.93\n",
      "[8]\tvalid_0's rmse: 3574.67\n",
      "[9]\tvalid_0's rmse: 3460.97\n",
      "[10]\tvalid_0's rmse: 3354.81\n",
      "[11]\tvalid_0's rmse: 3269.25\n",
      "[12]\tvalid_0's rmse: 3173.84\n",
      "[13]\tvalid_0's rmse: 3083.72\n",
      "[14]\tvalid_0's rmse: 3012.52\n",
      "[15]\tvalid_0's rmse: 2932.68\n",
      "[16]\tvalid_0's rmse: 2858.98\n",
      "[17]\tvalid_0's rmse: 2789.43\n",
      "[18]\tvalid_0's rmse: 2724.5\n",
      "[19]\tvalid_0's rmse: 2678.15\n",
      "[20]\tvalid_0's rmse: 2619.05\n",
      "[21]\tvalid_0's rmse: 2562.7\n",
      "[22]\tvalid_0's rmse: 2511.3\n",
      "[23]\tvalid_0's rmse: 2463.33\n",
      "[24]\tvalid_0's rmse: 2418.17\n",
      "[25]\tvalid_0's rmse: 2375.23\n",
      "[26]\tvalid_0's rmse: 2335.63\n",
      "[27]\tvalid_0's rmse: 2299.22\n",
      "[28]\tvalid_0's rmse: 2264.04\n",
      "[29]\tvalid_0's rmse: 2231.29\n",
      "[30]\tvalid_0's rmse: 2200.99\n",
      "[31]\tvalid_0's rmse: 2173.05\n",
      "[32]\tvalid_0's rmse: 2146.53\n",
      "[33]\tvalid_0's rmse: 2120.81\n",
      "[34]\tvalid_0's rmse: 2097.63\n",
      "[35]\tvalid_0's rmse: 2075.42\n",
      "[36]\tvalid_0's rmse: 2056.12\n",
      "[37]\tvalid_0's rmse: 2035.24\n",
      "[38]\tvalid_0's rmse: 2016.32\n",
      "[39]\tvalid_0's rmse: 1999.42\n",
      "[40]\tvalid_0's rmse: 1982.97\n",
      "Did not meet early stopping. Best iteration is:\n",
      "[40]\tvalid_0's rmse: 1982.97\n",
      "CPU times: user 6.33 s, sys: 65.1 ms, total: 6.39 s\n",
      "Wall time: 6.57 s\n"
     ]
    }
   ],
   "source": [
    "%%time\n",
    "gbm_2 = lgb.train(params,\n",
    "                lgb_train,\n",
    "                num_boost_round=40,\n",
    "                valid_sets=lgb_eval,\n",
    "                early_stopping_rounds=5)"
   ]
  },
  {
   "cell_type": "markdown",
   "metadata": {},
   "source": [
    "Изменил 'num_leaves': с 31 до 60, добавил 'max_depth':20 и 'min_data_in_leaf':100 и точность увеличилась."
   ]
  },
  {
   "cell_type": "markdown",
   "metadata": {},
   "source": [
    "Точность на обучении RMSE: 1982.97 (была 2071.51)    \n",
    "Время обучения: 6.28 s (было 8.25 s)"
   ]
  },
  {
   "cell_type": "code",
   "execution_count": 50,
   "metadata": {},
   "outputs": [
    {
     "name": "stdout",
     "output_type": "stream",
     "text": [
      "RMSE: 1982.9713046984687\n",
      "CPU times: user 558 ms, sys: 52.2 ms, total: 610 ms\n",
      "Wall time: 687 ms\n"
     ]
    }
   ],
   "source": [
    "%%time\n",
    "target_pred = gbm_2.predict(features_valid, num_iteration=gbm_2.best_iteration)\n",
    "print('RMSE:', mean_squared_error(target_valid, target_pred) ** 0.5)"
   ]
  },
  {
   "cell_type": "markdown",
   "metadata": {},
   "source": [
    "Точность предсказания RMSE: 1982.97 (2071.51)  \n",
    "Время предсказания: 557 ms (505 ms)"
   ]
  },
  {
   "cell_type": "code",
   "execution_count": 51,
   "metadata": {},
   "outputs": [],
   "source": [
    "params = {\n",
    "    'boosting_type': 'gbdt',\n",
    "    'objective': 'regression',\n",
    "    'metric': {'rmse'},\n",
    "    'num_leaves': 100,\n",
    "    'learning_rate': 0.05,\n",
    "    'feature_fraction': 0.9,\n",
    "    'bagging_fraction': 0.8,\n",
    "    'bagging_freq': 5,\n",
    "    'verbose': 0,\n",
    "    'max_depth':100,\n",
    "    'min_data_in_leaf':100,\n",
    "    'num_iterations': 100\n",
    "}"
   ]
  },
  {
   "cell_type": "code",
   "execution_count": 52,
   "metadata": {
    "scrolled": true
   },
   "outputs": [
    {
     "name": "stdout",
     "output_type": "stream",
     "text": [
      "[1]\tvalid_0's rmse: 4563.7\n",
      "Training until validation scores don't improve for 5 rounds\n",
      "[2]\tvalid_0's rmse: 4416.56\n",
      "[3]\tvalid_0's rmse: 4248.11\n",
      "[4]\tvalid_0's rmse: 4089.61\n",
      "[5]\tvalid_0's rmse: 3940.45\n",
      "[6]\tvalid_0's rmse: 3800.65\n",
      "[7]\tvalid_0's rmse: 3669.79\n",
      "[8]\tvalid_0's rmse: 3545.52\n",
      "[9]\tvalid_0's rmse: 3429.73\n",
      "[10]\tvalid_0's rmse: 3319.93\n",
      "[11]\tvalid_0's rmse: 3231.47\n",
      "[12]\tvalid_0's rmse: 3133.79\n",
      "[13]\tvalid_0's rmse: 3042.37\n",
      "[14]\tvalid_0's rmse: 2969.41\n",
      "[15]\tvalid_0's rmse: 2888.13\n",
      "[16]\tvalid_0's rmse: 2812.17\n",
      "[17]\tvalid_0's rmse: 2739.87\n",
      "[18]\tvalid_0's rmse: 2672.6\n",
      "[19]\tvalid_0's rmse: 2625.03\n",
      "[20]\tvalid_0's rmse: 2563.92\n",
      "[21]\tvalid_0's rmse: 2505.42\n",
      "[22]\tvalid_0's rmse: 2452.85\n",
      "[23]\tvalid_0's rmse: 2403.98\n",
      "[24]\tvalid_0's rmse: 2357.69\n",
      "[25]\tvalid_0's rmse: 2315.58\n",
      "[26]\tvalid_0's rmse: 2275.62\n",
      "[27]\tvalid_0's rmse: 2237.32\n",
      "[28]\tvalid_0's rmse: 2202.04\n",
      "[29]\tvalid_0's rmse: 2168.71\n",
      "[30]\tvalid_0's rmse: 2138.79\n",
      "[31]\tvalid_0's rmse: 2111\n",
      "[32]\tvalid_0's rmse: 2084.54\n",
      "[33]\tvalid_0's rmse: 2058.75\n",
      "[34]\tvalid_0's rmse: 2036.35\n",
      "[35]\tvalid_0's rmse: 2014.43\n",
      "[36]\tvalid_0's rmse: 1995.48\n",
      "[37]\tvalid_0's rmse: 1974.92\n",
      "[38]\tvalid_0's rmse: 1955.65\n",
      "[39]\tvalid_0's rmse: 1938.86\n",
      "[40]\tvalid_0's rmse: 1922.61\n",
      "[41]\tvalid_0's rmse: 1906.1\n",
      "[42]\tvalid_0's rmse: 1891.46\n",
      "[43]\tvalid_0's rmse: 1878.15\n",
      "[44]\tvalid_0's rmse: 1865.16\n",
      "[45]\tvalid_0's rmse: 1853.63\n",
      "[46]\tvalid_0's rmse: 1842.2\n",
      "[47]\tvalid_0's rmse: 1831.96\n",
      "[48]\tvalid_0's rmse: 1822.06\n",
      "[49]\tvalid_0's rmse: 1813.24\n",
      "[50]\tvalid_0's rmse: 1804.23\n",
      "[51]\tvalid_0's rmse: 1795.89\n",
      "[52]\tvalid_0's rmse: 1787.78\n",
      "[53]\tvalid_0's rmse: 1780.13\n",
      "[54]\tvalid_0's rmse: 1772.83\n",
      "[55]\tvalid_0's rmse: 1766.26\n",
      "[56]\tvalid_0's rmse: 1759.73\n",
      "[57]\tvalid_0's rmse: 1753.84\n",
      "[58]\tvalid_0's rmse: 1748.14\n",
      "[59]\tvalid_0's rmse: 1742.61\n",
      "[60]\tvalid_0's rmse: 1738.24\n",
      "[61]\tvalid_0's rmse: 1733.44\n",
      "[62]\tvalid_0's rmse: 1728.31\n",
      "[63]\tvalid_0's rmse: 1724.09\n",
      "[64]\tvalid_0's rmse: 1719.87\n",
      "[65]\tvalid_0's rmse: 1715.4\n",
      "[66]\tvalid_0's rmse: 1710.76\n",
      "[67]\tvalid_0's rmse: 1706.95\n",
      "[68]\tvalid_0's rmse: 1703.06\n",
      "[69]\tvalid_0's rmse: 1699.71\n",
      "[70]\tvalid_0's rmse: 1696.45\n",
      "[71]\tvalid_0's rmse: 1693.4\n",
      "[72]\tvalid_0's rmse: 1690.02\n",
      "[73]\tvalid_0's rmse: 1687.14\n",
      "[74]\tvalid_0's rmse: 1683.9\n",
      "[75]\tvalid_0's rmse: 1681.4\n",
      "[76]\tvalid_0's rmse: 1678.62\n",
      "[77]\tvalid_0's rmse: 1675.82\n",
      "[78]\tvalid_0's rmse: 1673.5\n",
      "[79]\tvalid_0's rmse: 1670.51\n",
      "[80]\tvalid_0's rmse: 1668.13\n",
      "[81]\tvalid_0's rmse: 1665.84\n",
      "[82]\tvalid_0's rmse: 1663.27\n",
      "[83]\tvalid_0's rmse: 1661\n",
      "[84]\tvalid_0's rmse: 1658.9\n",
      "[85]\tvalid_0's rmse: 1656.95\n",
      "[86]\tvalid_0's rmse: 1655.18\n",
      "[87]\tvalid_0's rmse: 1653.24\n",
      "[88]\tvalid_0's rmse: 1651.3\n",
      "[89]\tvalid_0's rmse: 1649.77\n",
      "[90]\tvalid_0's rmse: 1648.08\n",
      "[91]\tvalid_0's rmse: 1646.49\n",
      "[92]\tvalid_0's rmse: 1644.74\n",
      "[93]\tvalid_0's rmse: 1642.91\n",
      "[94]\tvalid_0's rmse: 1641.36\n",
      "[95]\tvalid_0's rmse: 1640.05\n",
      "[96]\tvalid_0's rmse: 1639.13\n",
      "[97]\tvalid_0's rmse: 1638.08\n",
      "[98]\tvalid_0's rmse: 1637.12\n",
      "[99]\tvalid_0's rmse: 1636.11\n",
      "[100]\tvalid_0's rmse: 1634.57\n",
      "Did not meet early stopping. Best iteration is:\n",
      "[100]\tvalid_0's rmse: 1634.57\n",
      "CPU times: user 20 s, sys: 133 ms, total: 20.1 s\n",
      "Wall time: 20.6 s\n"
     ]
    }
   ],
   "source": [
    "%%time\n",
    "gbm_3 = lgb.train(params,\n",
    "                lgb_train,\n",
    "                num_boost_round=40,\n",
    "                valid_sets=lgb_eval,\n",
    "                early_stopping_rounds=5)"
   ]
  },
  {
   "cell_type": "markdown",
   "metadata": {},
   "source": [
    "Изменил 'num_leaves': с 60 до 100, 'max_depth': с 20 до 100 и 'num_iterations': 100. Точность увеличилась."
   ]
  },
  {
   "cell_type": "markdown",
   "metadata": {},
   "source": [
    "Точность на обучении RMSE: 1634.57  (была 1982.97)    \n",
    "Время обучения: 20.6 s (было 6.28 s)"
   ]
  },
  {
   "cell_type": "code",
   "execution_count": 53,
   "metadata": {},
   "outputs": [
    {
     "name": "stdout",
     "output_type": "stream",
     "text": [
      "RMSE: 1634.5727548203192\n",
      "CPU times: user 1.36 s, sys: 73.8 ms, total: 1.44 s\n",
      "Wall time: 1.48 s\n"
     ]
    }
   ],
   "source": [
    "%%time\n",
    "target_pred = gbm_3.predict(features_valid, num_iteration=gbm_3.best_iteration)\n",
    "print('RMSE:', mean_squared_error(target_valid, target_pred) ** 0.5)"
   ]
  },
  {
   "cell_type": "markdown",
   "metadata": {},
   "source": [
    "Точность предсказания RMSE: 1634.57 (1982.97)  \n",
    "Время предсказания: 1.41 s (557 ms)"
   ]
  },
  {
   "cell_type": "markdown",
   "metadata": {},
   "source": [
    "### CatBoost"
   ]
  },
  {
   "cell_type": "code",
   "execution_count": 54,
   "metadata": {},
   "outputs": [],
   "source": [
    "from catboost import CatBoostRegressor"
   ]
  },
  {
   "cell_type": "code",
   "execution_count": 55,
   "metadata": {},
   "outputs": [],
   "source": [
    "params = {'iterations':40, \n",
    "          'eval_metric':'RMSE', \n",
    "          'verbose': 4,\n",
    "          'random_seed': 42\n",
    "         }"
   ]
  },
  {
   "cell_type": "code",
   "execution_count": 56,
   "metadata": {},
   "outputs": [],
   "source": [
    "cb_1 = CatBoostRegressor(**params)"
   ]
  },
  {
   "cell_type": "code",
   "execution_count": 57,
   "metadata": {
    "scrolled": true
   },
   "outputs": [
    {
     "name": "stdout",
     "output_type": "stream",
     "text": [
      "0:\tlearn: 4639.7142035\ttest: 4651.3164359\tbest: 4651.3164359 (0)\ttotal: 75.4ms\tremaining: 2.94s\n",
      "4:\tlearn: 4281.9714394\ttest: 4293.0544759\tbest: 4293.0544759 (4)\ttotal: 669ms\tremaining: 4.68s\n",
      "8:\tlearn: 3971.6316328\ttest: 3981.0911404\tbest: 3981.0911404 (8)\ttotal: 1.26s\tremaining: 4.35s\n",
      "12:\tlearn: 3705.9645168\ttest: 3713.8892270\tbest: 3713.8892270 (12)\ttotal: 1.87s\tremaining: 3.88s\n",
      "16:\tlearn: 3476.0464708\ttest: 3482.5307157\tbest: 3482.5307157 (16)\ttotal: 2.46s\tremaining: 3.33s\n",
      "20:\tlearn: 3277.5389333\ttest: 3282.8689595\tbest: 3282.8689595 (20)\ttotal: 3.05s\tremaining: 2.76s\n",
      "24:\tlearn: 3107.6635499\ttest: 3112.5431767\tbest: 3112.5431767 (24)\ttotal: 3.64s\tremaining: 2.19s\n",
      "28:\tlearn: 2958.3272594\ttest: 2962.8491526\tbest: 2962.8491526 (28)\ttotal: 4.15s\tremaining: 1.57s\n",
      "32:\tlearn: 2831.4360289\ttest: 2834.6081921\tbest: 2834.6081921 (32)\ttotal: 4.74s\tremaining: 1.01s\n",
      "36:\tlearn: 2723.7822791\ttest: 2726.4911980\tbest: 2726.4911980 (36)\ttotal: 5.33s\tremaining: 432ms\n",
      "39:\tlearn: 2651.6983139\ttest: 2653.8188116\tbest: 2653.8188116 (39)\ttotal: 5.73s\tremaining: 0us\n",
      "\n",
      "bestTest = 2653.818812\n",
      "bestIteration = 39\n",
      "\n",
      "CPU times: user 10.3 s, sys: 1.21 s, total: 11.5 s\n",
      "Wall time: 13.1 s\n"
     ]
    },
    {
     "data": {
      "text/plain": [
       "<catboost.core.CatBoostRegressor at 0x7f117c00dd50>"
      ]
     },
     "execution_count": 57,
     "metadata": {},
     "output_type": "execute_result"
    }
   ],
   "source": [
    "%%time\n",
    "cb_1.fit(features_train, target_train, eval_set=(features_valid, target_valid))"
   ]
  },
  {
   "cell_type": "markdown",
   "metadata": {},
   "source": [
    "Точность на обучении RMSE: 2653.82  \n",
    "Время обучения: 12.6 s"
   ]
  },
  {
   "cell_type": "code",
   "execution_count": 58,
   "metadata": {
    "scrolled": true
   },
   "outputs": [
    {
     "name": "stdout",
     "output_type": "stream",
     "text": [
      "RMSE: 2653.818811566305\n",
      "CPU times: user 24.5 ms, sys: 8.98 ms, total: 33.5 ms\n",
      "Wall time: 15.8 ms\n"
     ]
    }
   ],
   "source": [
    "%%time\n",
    "target_pred = cb_1.predict(features_valid)\n",
    "print('RMSE:', mean_squared_error(target_valid, target_pred) ** 0.5)"
   ]
  },
  {
   "cell_type": "markdown",
   "metadata": {},
   "source": [
    "Точность предсказания RMSE: 2653.82   \n",
    "Время предсказания: 15.2 ms"
   ]
  },
  {
   "cell_type": "code",
   "execution_count": 59,
   "metadata": {},
   "outputs": [],
   "source": [
    "params = {'iterations':100, \n",
    "          'learning_rate': 0.05,\n",
    "          'eval_metric':'RMSE', \n",
    "          'use_best_model': True,\n",
    "          'verbose': 4,\n",
    "          'random_seed': 42\n",
    "         }"
   ]
  },
  {
   "cell_type": "code",
   "execution_count": 60,
   "metadata": {},
   "outputs": [],
   "source": [
    "cb_2 = CatBoostRegressor(**params)"
   ]
  },
  {
   "cell_type": "code",
   "execution_count": 61,
   "metadata": {
    "scrolled": true
   },
   "outputs": [
    {
     "name": "stdout",
     "output_type": "stream",
     "text": [
      "0:\tlearn: 4574.3531322\ttest: 4585.6208540\tbest: 4585.6208540 (0)\ttotal: 21ms\tremaining: 2.08s\n",
      "4:\tlearn: 4016.8773805\ttest: 4027.7951148\tbest: 4027.7951148 (4)\ttotal: 616ms\tremaining: 11.7s\n",
      "8:\tlearn: 3579.5766698\ttest: 3587.5341387\tbest: 3587.5341387 (8)\ttotal: 1.21s\tremaining: 12.2s\n",
      "12:\tlearn: 3237.0322784\ttest: 3243.0383523\tbest: 3243.0383523 (12)\ttotal: 1.81s\tremaining: 12.1s\n",
      "16:\tlearn: 2975.2072147\ttest: 2979.0350402\tbest: 2979.0350402 (16)\ttotal: 2.31s\tremaining: 11.3s\n",
      "20:\tlearn: 2768.5379390\ttest: 2770.9327188\tbest: 2770.9327188 (20)\ttotal: 2.91s\tremaining: 10.9s\n",
      "24:\tlearn: 2608.5930647\ttest: 2610.2961897\tbest: 2610.2961897 (24)\ttotal: 3.5s\tremaining: 10.5s\n",
      "28:\tlearn: 2483.4237928\ttest: 2484.3331997\tbest: 2484.3331997 (28)\ttotal: 4.1s\tremaining: 10s\n",
      "32:\tlearn: 2387.8516847\ttest: 2387.5862945\tbest: 2387.5862945 (32)\ttotal: 4.69s\tremaining: 9.53s\n",
      "36:\tlearn: 2307.9598737\ttest: 2306.0101024\tbest: 2306.0101024 (36)\ttotal: 5.28s\tremaining: 9s\n",
      "40:\tlearn: 2245.8297930\ttest: 2243.1545207\tbest: 2243.1545207 (40)\ttotal: 5.79s\tremaining: 8.34s\n",
      "44:\tlearn: 2191.0340238\ttest: 2187.7764351\tbest: 2187.7764351 (44)\ttotal: 6.38s\tremaining: 7.8s\n",
      "48:\tlearn: 2144.7014225\ttest: 2141.1552683\tbest: 2141.1552683 (48)\ttotal: 6.98s\tremaining: 7.26s\n",
      "52:\tlearn: 2108.4233815\ttest: 2104.2944060\tbest: 2104.2944060 (52)\ttotal: 7.48s\tremaining: 6.63s\n",
      "56:\tlearn: 2077.5011378\ttest: 2072.9698396\tbest: 2072.9698396 (56)\ttotal: 8.07s\tremaining: 6.09s\n",
      "60:\tlearn: 2049.0734474\ttest: 2044.3195885\tbest: 2044.3195885 (60)\ttotal: 8.57s\tremaining: 5.48s\n",
      "64:\tlearn: 2022.8638791\ttest: 2018.0310141\tbest: 2018.0310141 (64)\ttotal: 9.16s\tremaining: 4.93s\n",
      "68:\tlearn: 2002.5522299\ttest: 1997.1060648\tbest: 1997.1060648 (68)\ttotal: 9.67s\tremaining: 4.34s\n",
      "72:\tlearn: 1984.7467223\ttest: 1979.5511966\tbest: 1979.5511966 (72)\ttotal: 10.3s\tremaining: 3.79s\n",
      "76:\tlearn: 1967.3214779\ttest: 1961.0946263\tbest: 1961.0946263 (76)\ttotal: 10.8s\tremaining: 3.21s\n",
      "80:\tlearn: 1950.5198633\ttest: 1944.1848912\tbest: 1944.1848912 (80)\ttotal: 11.4s\tremaining: 2.66s\n",
      "84:\tlearn: 1937.6852723\ttest: 1931.0995699\tbest: 1931.0995699 (84)\ttotal: 11.9s\tremaining: 2.09s\n",
      "88:\tlearn: 1925.2177779\ttest: 1918.6569039\tbest: 1918.6569039 (88)\ttotal: 12.4s\tremaining: 1.54s\n",
      "92:\tlearn: 1914.6519248\ttest: 1907.9168664\tbest: 1907.9168664 (92)\ttotal: 12.9s\tremaining: 974ms\n",
      "96:\tlearn: 1903.7080562\ttest: 1896.5469362\tbest: 1896.5469362 (96)\ttotal: 13.5s\tremaining: 419ms\n",
      "99:\tlearn: 1897.5445447\ttest: 1890.5832467\tbest: 1890.5832467 (99)\ttotal: 13.9s\tremaining: 0us\n",
      "\n",
      "bestTest = 1890.583247\n",
      "bestIteration = 99\n",
      "\n",
      "CPU times: user 17.3 s, sys: 2.18 s, total: 19.5 s\n",
      "Wall time: 20.5 s\n"
     ]
    },
    {
     "data": {
      "text/plain": [
       "<catboost.core.CatBoostRegressor at 0x7f117c7f2150>"
      ]
     },
     "execution_count": 61,
     "metadata": {},
     "output_type": "execute_result"
    }
   ],
   "source": [
    "%%time\n",
    "cb_2.fit(features_train, target_train, eval_set=(features_valid, target_valid))"
   ]
  },
  {
   "cell_type": "markdown",
   "metadata": {},
   "source": [
    "Увеличил 'iterations': с 40 до 100, добавил 'learning_rate': 0.05 и 'use_best_model': True"
   ]
  },
  {
   "cell_type": "markdown",
   "metadata": {},
   "source": [
    "Точность на обучении RMSE: 1890.58 (2653.82)  \n",
    "Время обучения: 20.9 s (12.6 s)"
   ]
  },
  {
   "cell_type": "code",
   "execution_count": 62,
   "metadata": {
    "scrolled": true
   },
   "outputs": [
    {
     "name": "stdout",
     "output_type": "stream",
     "text": [
      "RMSE: 1890.5832467377832\n",
      "CPU times: user 28.4 ms, sys: 21.4 ms, total: 49.8 ms\n",
      "Wall time: 18.8 ms\n"
     ]
    }
   ],
   "source": [
    "%%time\n",
    "target_pred = cb_2.predict(features_valid)\n",
    "print('RMSE:', mean_squared_error(target_valid, target_pred) ** 0.5)"
   ]
  },
  {
   "cell_type": "markdown",
   "metadata": {},
   "source": [
    "Точность предсказания RMSE: 1890.58 (2653.82)   \n",
    "Время предсказания: 18.5 ms (15.2 ms)  "
   ]
  },
  {
   "cell_type": "code",
   "execution_count": 63,
   "metadata": {},
   "outputs": [],
   "source": [
    "params = {'iterations':500, \n",
    "          'learning_rate': 0.02,\n",
    "          'eval_metric':'RMSE', \n",
    "          'use_best_model': True,\n",
    "          'verbose': 75,\n",
    "          'bagging_temperature': 0.2,\n",
    "          'depth':12,\n",
    "          'od_type':'Iter',\n",
    "          'metric_period': 75,\n",
    "          'od_wait':100,\n",
    "          'random_seed': 42\n",
    "         }"
   ]
  },
  {
   "cell_type": "code",
   "execution_count": 64,
   "metadata": {},
   "outputs": [],
   "source": [
    "cb_3 = CatBoostRegressor(**params)"
   ]
  },
  {
   "cell_type": "code",
   "execution_count": 65,
   "metadata": {
    "scrolled": true
   },
   "outputs": [
    {
     "name": "stderr",
     "output_type": "stream",
     "text": [
      "Warning: Overfitting detector is active, thus evaluation metric is calculated on every iteration. 'metric_period' is ignored for evaluation metric.\n"
     ]
    },
    {
     "name": "stdout",
     "output_type": "stream",
     "text": [
      "0:\tlearn: 4666.9228168\ttest: 4678.5960630\tbest: 4678.5960630 (0)\ttotal: 426ms\tremaining: 3m 32s\n",
      "75:\tlearn: 2200.6650538\ttest: 2206.7192813\tbest: 2206.7192813 (75)\ttotal: 29.2s\tremaining: 2m 42s\n",
      "150:\tlearn: 1800.7113397\ttest: 1810.7690497\tbest: 1810.7690497 (150)\ttotal: 58.1s\tremaining: 2m 14s\n",
      "225:\tlearn: 1703.9941784\ttest: 1720.1646193\tbest: 1720.1646193 (225)\ttotal: 1m 26s\tremaining: 1m 45s\n",
      "300:\tlearn: 1660.2619616\ttest: 1682.1994201\tbest: 1682.1994201 (300)\ttotal: 1m 55s\tremaining: 1m 16s\n",
      "375:\tlearn: 1627.1656382\ttest: 1655.4759751\tbest: 1655.4759751 (375)\ttotal: 2m 24s\tremaining: 47.7s\n",
      "450:\tlearn: 1600.1994665\ttest: 1634.6078775\tbest: 1634.6078775 (450)\ttotal: 2m 53s\tremaining: 18.8s\n",
      "499:\tlearn: 1586.0906471\ttest: 1624.5227645\tbest: 1624.5227645 (499)\ttotal: 3m 12s\tremaining: 0us\n",
      "\n",
      "bestTest = 1624.522765\n",
      "bestIteration = 499\n",
      "\n",
      "CPU times: user 2min 59s, sys: 17.4 s, total: 3min 17s\n",
      "Wall time: 3min 19s\n"
     ]
    },
    {
     "data": {
      "text/plain": [
       "<catboost.core.CatBoostRegressor at 0x7f117c881c90>"
      ]
     },
     "execution_count": 65,
     "metadata": {},
     "output_type": "execute_result"
    }
   ],
   "source": [
    "%%time\n",
    "cb_3.fit(features_train, target_train, eval_set=(features_valid, target_valid))"
   ]
  },
  {
   "cell_type": "markdown",
   "metadata": {},
   "source": [
    "Увеличил 'iterations': с 100 до 500, изменил 'learning_rate': с 0.05 на 0.02. Добавил bagging_temperature': 0.2, 'depth':12, 'od_type':'Iter', 'metric_period': 75, od_wait':100"
   ]
  },
  {
   "cell_type": "markdown",
   "metadata": {},
   "source": [
    "Точность на обучении RMSE: 1624.52 (1890.58)  \n",
    "Время обучения: 3min 19s (20.9 s)"
   ]
  },
  {
   "cell_type": "code",
   "execution_count": 66,
   "metadata": {
    "scrolled": true
   },
   "outputs": [
    {
     "name": "stdout",
     "output_type": "stream",
     "text": [
      "RMSE: 1624.522764528419\n",
      "CPU times: user 361 ms, sys: 46.2 ms, total: 407 ms\n",
      "Wall time: 366 ms\n"
     ]
    }
   ],
   "source": [
    "%%time\n",
    "target_pred = cb_3.predict(features_valid)\n",
    "print('RMSE:', mean_squared_error(target_valid, target_pred) ** 0.5)"
   ]
  },
  {
   "cell_type": "markdown",
   "metadata": {},
   "source": [
    "Точность предсказания RMSE: 1624.52 (1890.58)   \n",
    "Время предсказания: 396 ms (18.5 ms)  "
   ]
  },
  {
   "cell_type": "markdown",
   "metadata": {},
   "source": [
    "### Собственная модель градиентного бустинга"
   ]
  },
  {
   "cell_type": "code",
   "execution_count": 67,
   "metadata": {},
   "outputs": [],
   "source": [
    "from sklearn.tree import DecisionTreeRegressor"
   ]
  },
  {
   "cell_type": "code",
   "execution_count": 68,
   "metadata": {
    "scrolled": true
   },
   "outputs": [],
   "source": [
    "def my_booster(features_data, target_data, n= 40, nu= 0.1, verbose = 10):\n",
    "    features_df = features_data.copy()\n",
    "    target_df = target_data.copy()\n",
    "    trees = []\n",
    "    features_df['y_pred'] = target_df.mean()\n",
    "    features_df['residual'] = 0\n",
    "    for i in range(n):\n",
    "        features_df['residual'] = target_df - features_df['y_pred']\n",
    "        tree = DecisionTreeRegressor(max_depth=1)\n",
    "        tree.fit(features_df.drop(['residual','y_pred'],axis=1), features_df['residual'])\n",
    "        features_df['y_pred'] += nu * tree.predict(features_df.drop(['residual','y_pred'],axis=1))\n",
    "        trees.append(tree)\n",
    "        if i % verbose == 0:\n",
    "            print(f'{i} RMSE:', mean_squared_error(target_df, features_df['y_pred']) ** 0.5)\n",
    "    print(f'{n} RMSE:', mean_squared_error(target_df, features_df['y_pred']) ** 0.5)\n",
    "    return trees"
   ]
  },
  {
   "cell_type": "code",
   "execution_count": 69,
   "metadata": {},
   "outputs": [
    {
     "name": "stdout",
     "output_type": "stream",
     "text": [
      "0 RMSE: 4552.051855404981\n",
      "10 RMSE: 3578.1242937402058\n",
      "20 RMSE: 3125.4840961083114\n",
      "30 RMSE: 2877.6234173137746\n",
      "40 RMSE: 2744.52036533372\n",
      "CPU times: user 25.6 s, sys: 14.1 s, total: 39.7 s\n",
      "Wall time: 40.6 s\n"
     ]
    }
   ],
   "source": [
    "%%time\n",
    "trees_1 = my_booster(features_train, target_train)"
   ]
  },
  {
   "cell_type": "markdown",
   "metadata": {},
   "source": [
    "Точность на обучении RMSE: 2744.52  \n",
    "Время обучения: 41.3 s"
   ]
  },
  {
   "cell_type": "markdown",
   "metadata": {},
   "source": [
    "Проверим сделав предсказание."
   ]
  },
  {
   "cell_type": "code",
   "execution_count": 70,
   "metadata": {},
   "outputs": [],
   "source": [
    "def my_booster_pred(features_data, target_data, trees, nu = 0.1):\n",
    "    features_val = features_data.copy()\n",
    "    target_val = target_data.copy()\n",
    "    features_val['y_pred'] = target_val.mean()\n",
    "    features_val['residual'] = 0\n",
    "    for tree in trees:\n",
    "        features_val['y_pred'] += nu * tree.predict(features_val.drop(['residual','y_pred'],axis=1))\n",
    "    print(f'RMSE:', mean_squared_error(target_val, features_val['y_pred']) ** 0.5)"
   ]
  },
  {
   "cell_type": "code",
   "execution_count": 71,
   "metadata": {},
   "outputs": [
    {
     "name": "stdout",
     "output_type": "stream",
     "text": [
      "RMSE: 2746.6249707895286\n",
      "CPU times: user 2.5 s, sys: 2.02 s, total: 4.52 s\n",
      "Wall time: 4.63 s\n"
     ]
    }
   ],
   "source": [
    "%%time\n",
    "my_booster_pred(features_valid, target_valid, trees_1)"
   ]
  },
  {
   "cell_type": "markdown",
   "metadata": {},
   "source": [
    "Точность предсказания RMSE: 2746.625   \n",
    "Время предсказания: 4.72 s"
   ]
  },
  {
   "cell_type": "code",
   "execution_count": 72,
   "metadata": {
    "scrolled": true
   },
   "outputs": [
    {
     "name": "stdout",
     "output_type": "stream",
     "text": [
      "0 RMSE: 4643.780531479206\n",
      "20 RMSE: 3626.1642030921353\n",
      "40 RMSE: 3159.119370660326\n",
      "60 RMSE: 2910.792139456159\n",
      "CPU times: user 38.4 s, sys: 21.1 s, total: 59.5 s\n",
      "Wall time: 1min\n"
     ]
    }
   ],
   "source": [
    "%%time\n",
    "trees_2 = my_booster(features_train, target_train, 60, 0.05, verbose=20)"
   ]
  },
  {
   "cell_type": "markdown",
   "metadata": {},
   "source": [
    "Точность на обучении RMSE: 2910.79 (2746.62)   \n",
    "Время обучения: 1min 1s (41.3 s)"
   ]
  },
  {
   "cell_type": "code",
   "execution_count": 73,
   "metadata": {},
   "outputs": [
    {
     "name": "stdout",
     "output_type": "stream",
     "text": [
      "RMSE: 3090.9757427679137\n",
      "CPU times: user 3.81 s, sys: 2.93 s, total: 6.74 s\n",
      "Wall time: 6.9 s\n"
     ]
    }
   ],
   "source": [
    "%%time\n",
    "my_booster_pred(features_valid, target_valid, trees_2)"
   ]
  },
  {
   "cell_type": "markdown",
   "metadata": {},
   "source": [
    "Похоже модель переобучилась."
   ]
  },
  {
   "cell_type": "markdown",
   "metadata": {},
   "source": [
    "Точность предсказания RMSE: 3090.97 (2746.625)   \n",
    "Время предсказания: 6.99 s"
   ]
  },
  {
   "cell_type": "code",
   "execution_count": 74,
   "metadata": {
    "scrolled": true
   },
   "outputs": [
    {
     "name": "stdout",
     "output_type": "stream",
     "text": [
      "0 RMSE: 4643.780531479206\n",
      "20 RMSE: 3626.1642030921066\n",
      "40 RMSE: 3159.1193706603126\n",
      "60 RMSE: 2901.091981954808\n",
      "80 RMSE: 2749.5079157395603\n",
      "100 RMSE: 2654.1831929415666\n",
      "CPU times: user 1min 4s, sys: 34.5 s, total: 1min 39s\n",
      "Wall time: 1min 40s\n"
     ]
    }
   ],
   "source": [
    "%%time\n",
    "trees_3 = my_booster(features_train, target_train, 100, 0.05, verbose=20)"
   ]
  },
  {
   "cell_type": "markdown",
   "metadata": {},
   "source": [
    "Точность на обучении RMSE: 2654.18 (2744.52)  \n",
    "Время обучения: 1min 42s (41.3 s)"
   ]
  },
  {
   "cell_type": "code",
   "execution_count": 75,
   "metadata": {},
   "outputs": [
    {
     "name": "stdout",
     "output_type": "stream",
     "text": [
      "RMSE: 3486.9395484593115\n",
      "CPU times: user 6.23 s, sys: 4.94 s, total: 11.2 s\n",
      "Wall time: 11.3 s\n"
     ]
    }
   ],
   "source": [
    "%%time\n",
    "my_booster_pred(features_valid, target_valid, trees_3)"
   ]
  },
  {
   "cell_type": "markdown",
   "metadata": {},
   "source": [
    "Тоже переобучилась."
   ]
  },
  {
   "cell_type": "markdown",
   "metadata": {},
   "source": [
    "Точность предсказания RMSE: 3486.93 (2746.625)   \n",
    "Время предсказания: 11.3 s"
   ]
  },
  {
   "cell_type": "markdown",
   "metadata": {},
   "source": [
    "# 3. Анализ моделей"
   ]
  },
  {
   "cell_type": "markdown",
   "metadata": {},
   "source": [
    "#### Метрики полученных результатов  \n",
    "    \n",
    "| Модели         | RMSE на обучении | RMSE на предсказании  | Время обучения | Время предсказания |\n",
    "| ---------------|-----------------:|----------------------:|---------------:|-------------------:|\n",
    "| Lightgbm_1     |          2071.50 |               2071.51 |         8.25 s |           505.0 ms |\n",
    "| **Lightgbm_2** |          1982.97 |               1982.97 |     **6.28 s** |           688.0 ms |\n",
    "| Lightgbm_3     |          1634.57 |               1634.57 |         20.6 s |          1500.0 ms |\n",
    "| **CatBoost_1** |          2653.82 |               2653.82 |         12.6 s |        **15.2 ms** |\n",
    "| CatBoost_2     |          1890.58 |               1890.58 |         20.9 s |            18.5 ms |\n",
    "| **CatBoost_3** |      **1624.52** |           **1624.52** |     *3min 19s* |             396 ms |\n",
    "| My_booster_1   |          2744.52 |               2746.62 |       1min 42s |          4720.0 ms |\n",
    "| My_booster_2   |        *2910.79* |               3090.97 |        1min 1s |          6990.0 ms |\n",
    "| My_booster_3   |          2654.18 |             *3486.93* |       1min 42s |       *11300.0 ms* |"
   ]
  },
  {
   "cell_type": "markdown",
   "metadata": {
    "pycharm": {
     "name": "#%% md\n"
    }
   },
   "source": [
    "Данные для этой работы были очищены, проанализированы и подготовлены к\n",
    "дальнейшему обучения. Категориальные признаки кодировались техникой\n",
    "One_Hot_Encoding (OHE), числовые были приведены к одному масштабу.\n",
    " После чего было произведено обучения на трех моделях градиентного\n",
    " бустинга Lightgbm, CatBoost, Собственная модель с тремя разными наборами гиперпараметров.\n",
    "  \n",
    "Модель CatBoost_3 самая точная (1624.52), но обучается дольше\n",
    "остальных (3min 19s) зато предсказывает быстрее всех трёх Lightgbm,\n",
    "за 396 ms. Быстрее всех обучалась модель Lightgbm_2."
   ]
  }
 ],
 "metadata": {
  "kernelspec": {
   "display_name": "Python 3",
   "language": "python",
   "name": "python3"
  },
  "language_info": {
   "codemirror_mode": {
    "name": "ipython",
    "version": 3
   },
   "file_extension": ".py",
   "mimetype": "text/x-python",
   "name": "python",
   "nbconvert_exporter": "python",
   "pygments_lexer": "ipython3",
   "version": "3.7.8"
  },
  "toc": {
   "base_numbering": 1,
   "nav_menu": {},
   "number_sections": true,
   "sideBar": true,
   "skip_h1_title": false,
   "title_cell": "Table of Contents",
   "title_sidebar": "Contents",
   "toc_cell": false,
   "toc_position": {},
   "toc_section_display": true,
   "toc_window_display": false
  }
 },
 "nbformat": 4,
 "nbformat_minor": 2
}